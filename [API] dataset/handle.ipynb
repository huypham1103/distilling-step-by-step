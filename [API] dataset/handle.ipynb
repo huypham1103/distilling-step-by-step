{
 "cells": [
  {
   "cell_type": "code",
   "execution_count": 72,
   "metadata": {},
   "outputs": [],
   "source": [
    "import pandas as pd"
   ]
  },
  {
   "cell_type": "code",
   "execution_count": 73,
   "metadata": {},
   "outputs": [],
   "source": [
    "csv_1 = pd.read_csv('best_prompt.csv', index_col=0)[:4000]"
   ]
  },
  {
   "cell_type": "code",
   "execution_count": 74,
   "metadata": {},
   "outputs": [
    {
     "data": {
      "text/html": [
       "<div>\n",
       "<style scoped>\n",
       "    .dataframe tbody tr th:only-of-type {\n",
       "        vertical-align: middle;\n",
       "    }\n",
       "\n",
       "    .dataframe tbody tr th {\n",
       "        vertical-align: top;\n",
       "    }\n",
       "\n",
       "    .dataframe thead th {\n",
       "        text-align: right;\n",
       "    }\n",
       "</style>\n",
       "<table border=\"1\" class=\"dataframe\">\n",
       "  <thead>\n",
       "    <tr style=\"text-align: right;\">\n",
       "      <th></th>\n",
       "      <th>premise</th>\n",
       "      <th>hypothesis</th>\n",
       "      <th>rationales</th>\n",
       "    </tr>\n",
       "  </thead>\n",
       "  <tbody>\n",
       "    <tr>\n",
       "      <th>0</th>\n",
       "      <td>A man with a white camp is standing on a platf...</td>\n",
       "      <td>A man is hanging off of a clothesline.</td>\n",
       "      <td>1. Answer: Contradiction\\nRationale: The hypot...</td>\n",
       "    </tr>\n",
       "    <tr>\n",
       "      <th>1</th>\n",
       "      <td>Two girls wearing skirts like the flag of Grea...</td>\n",
       "      <td>a couple want to eat a flag.</td>\n",
       "      <td>2. Answer: Contradiction\\nRationale: The hypot...</td>\n",
       "    </tr>\n",
       "    <tr>\n",
       "      <th>2</th>\n",
       "      <td>Dog leaps from water while woman kneels on the...</td>\n",
       "      <td>A woman and dog sit on a dock together.</td>\n",
       "      <td>3. Answer: Entailment\\nRationale: The hypothes...</td>\n",
       "    </tr>\n",
       "    <tr>\n",
       "      <th>3</th>\n",
       "      <td>A bald man in an orange shirt and jeans is vac...</td>\n",
       "      <td>The clothed man is cleaning the carpet</td>\n",
       "      <td>4. Answer: Entailment\\nRationale: The hypothes...</td>\n",
       "    </tr>\n",
       "    <tr>\n",
       "      <th>4</th>\n",
       "      <td>A boy stands beside a railing at a go kart track.</td>\n",
       "      <td>The boy is going to ride a go kart.</td>\n",
       "      <td>5. Answer: Neutral\\nRationale: The hypothesis ...</td>\n",
       "    </tr>\n",
       "    <tr>\n",
       "      <th>...</th>\n",
       "      <td>...</td>\n",
       "      <td>...</td>\n",
       "      <td>...</td>\n",
       "    </tr>\n",
       "    <tr>\n",
       "      <th>5587</th>\n",
       "      <td>Three women walk down a city street; one looks...</td>\n",
       "      <td>Three women chat at home.</td>\n",
       "      <td>8. Answer: Contradiction\\nRationale: The premi...</td>\n",
       "    </tr>\n",
       "    <tr>\n",
       "      <th>5588</th>\n",
       "      <td>A basketball player slam dunks the ball as his...</td>\n",
       "      <td>The ball player is competing in a slam dunk co...</td>\n",
       "      <td>9. Answer: Neutral\\nRationale: The premise des...</td>\n",
       "    </tr>\n",
       "    <tr>\n",
       "      <th>5589</th>\n",
       "      <td>Two kids wearing white robes are practicing ma...</td>\n",
       "      <td>The boys are practicing martial arts.</td>\n",
       "      <td>10. Answer: Entailment\\nRationale: The premise...</td>\n",
       "    </tr>\n",
       "    <tr>\n",
       "      <th>5590</th>\n",
       "      <td>Three naked little boys are playing in a river...</td>\n",
       "      <td>Three boys are playing in mud while one looks on.</td>\n",
       "      <td>Answer: Neutral Rationale: The hypothesis prov...</td>\n",
       "    </tr>\n",
       "    <tr>\n",
       "      <th>5591</th>\n",
       "      <td>A female belly dancer dressed in blue and oran...</td>\n",
       "      <td>A female has clothes on with two males holding...</td>\n",
       "      <td>Answer: Entailment Rationale: The hypothesis c...</td>\n",
       "    </tr>\n",
       "  </tbody>\n",
       "</table>\n",
       "<p>5592 rows × 3 columns</p>\n",
       "</div>"
      ],
      "text/plain": [
       "                                                premise  \\\n",
       "0     A man with a white camp is standing on a platf...   \n",
       "1     Two girls wearing skirts like the flag of Grea...   \n",
       "2     Dog leaps from water while woman kneels on the...   \n",
       "3     A bald man in an orange shirt and jeans is vac...   \n",
       "4     A boy stands beside a railing at a go kart track.   \n",
       "...                                                 ...   \n",
       "5587  Three women walk down a city street; one looks...   \n",
       "5588  A basketball player slam dunks the ball as his...   \n",
       "5589  Two kids wearing white robes are practicing ma...   \n",
       "5590  Three naked little boys are playing in a river...   \n",
       "5591  A female belly dancer dressed in blue and oran...   \n",
       "\n",
       "                                             hypothesis  \\\n",
       "0                A man is hanging off of a clothesline.   \n",
       "1                          a couple want to eat a flag.   \n",
       "2               A woman and dog sit on a dock together.   \n",
       "3                The clothed man is cleaning the carpet   \n",
       "4                   The boy is going to ride a go kart.   \n",
       "...                                                 ...   \n",
       "5587                          Three women chat at home.   \n",
       "5588  The ball player is competing in a slam dunk co...   \n",
       "5589              The boys are practicing martial arts.   \n",
       "5590  Three boys are playing in mud while one looks on.   \n",
       "5591  A female has clothes on with two males holding...   \n",
       "\n",
       "                                             rationales  \n",
       "0     1. Answer: Contradiction\\nRationale: The hypot...  \n",
       "1     2. Answer: Contradiction\\nRationale: The hypot...  \n",
       "2     3. Answer: Entailment\\nRationale: The hypothes...  \n",
       "3     4. Answer: Entailment\\nRationale: The hypothes...  \n",
       "4     5. Answer: Neutral\\nRationale: The hypothesis ...  \n",
       "...                                                 ...  \n",
       "5587  8. Answer: Contradiction\\nRationale: The premi...  \n",
       "5588  9. Answer: Neutral\\nRationale: The premise des...  \n",
       "5589  10. Answer: Entailment\\nRationale: The premise...  \n",
       "5590  Answer: Neutral Rationale: The hypothesis prov...  \n",
       "5591  Answer: Entailment Rationale: The hypothesis c...  \n",
       "\n",
       "[5592 rows x 3 columns]"
      ]
     },
     "execution_count": 74,
     "metadata": {},
     "output_type": "execute_result"
    }
   ],
   "source": [
    "csv_2 = pd.read_csv('best_prompt2.csv', index_col=0, sep='|')\n",
    "csv_1 = pd.concat([csv_1, csv_2])\n",
    "csv_1"
   ]
  },
  {
   "cell_type": "code",
   "execution_count": 75,
   "metadata": {},
   "outputs": [],
   "source": [
    "# from datasets import load_dataset\n",
    "# import pandas as pd\n",
    "\n",
    "# dataset = load_dataset(\"esnli\")\n",
    "# train_df = pd.DataFrame(dataset['train']).sample(frac=1/100, random_state=0)\n",
    "# validation = pd.DataFrame(dataset['validation']).sample(frac=1/100, random_state=0)\n",
    "\n",
    "# train_df = pd.concat([train_df, validation], ignore_index=True)"
   ]
  },
  {
   "cell_type": "code",
   "execution_count": 76,
   "metadata": {},
   "outputs": [],
   "source": [
    "prompt_template= '''\\\n",
    "Premise: %s, \n",
    "Hypothesis: %s.\n",
    "with options \"entailment\", \"neutral\", \"contradiction\"? Your answer must be less than 400 length, lexical diversity greater than 0.7 and structure is answer and rationales.\n",
    "'''"
   ]
  },
  {
   "cell_type": "code",
   "execution_count": 77,
   "metadata": {},
   "outputs": [],
   "source": [
    "error = csv_1[csv_1.rationales.isna()]"
   ]
  },
  {
   "cell_type": "code",
   "execution_count": 78,
   "metadata": {},
   "outputs": [],
   "source": [
    "error['prompt'] = error.apply(lambda x: prompt_template % (x['premise'], x['hypothesis']), axis=1)"
   ]
  },
  {
   "cell_type": "code",
   "execution_count": 79,
   "metadata": {},
   "outputs": [
    {
     "data": {
      "text/html": [
       "<div>\n",
       "<style scoped>\n",
       "    .dataframe tbody tr th:only-of-type {\n",
       "        vertical-align: middle;\n",
       "    }\n",
       "\n",
       "    .dataframe tbody tr th {\n",
       "        vertical-align: top;\n",
       "    }\n",
       "\n",
       "    .dataframe thead th {\n",
       "        text-align: right;\n",
       "    }\n",
       "</style>\n",
       "<table border=\"1\" class=\"dataframe\">\n",
       "  <thead>\n",
       "    <tr style=\"text-align: right;\">\n",
       "      <th></th>\n",
       "      <th>premise</th>\n",
       "      <th>hypothesis</th>\n",
       "      <th>rationales</th>\n",
       "      <th>prompt</th>\n",
       "    </tr>\n",
       "  </thead>\n",
       "  <tbody>\n",
       "  </tbody>\n",
       "</table>\n",
       "</div>"
      ],
      "text/plain": [
       "Empty DataFrame\n",
       "Columns: [premise, hypothesis, rationales, prompt]\n",
       "Index: []"
      ]
     },
     "execution_count": 79,
     "metadata": {},
     "output_type": "execute_result"
    }
   ],
   "source": [
    "error"
   ]
  },
  {
   "cell_type": "code",
   "execution_count": 80,
   "metadata": {},
   "outputs": [
    {
     "name": "stdout",
     "output_type": "stream",
     "text": [
      "[]\n"
     ]
    }
   ],
   "source": [
    "print(error.prompt[:10].values)"
   ]
  },
  {
   "cell_type": "code",
   "execution_count": 82,
   "metadata": {},
   "outputs": [],
   "source": [
    "csv_1['split'] = csv_1.rationales.apply(lambda x: x.lower().split('most likely answer'))"
   ]
  },
  {
   "cell_type": "code",
   "execution_count": 83,
   "metadata": {},
   "outputs": [],
   "source": [
    "csv_1.split = csv_1.split.apply(lambda x : x[1] if len(x) > 1 else x[0])"
   ]
  },
  {
   "cell_type": "code",
   "execution_count": 84,
   "metadata": {},
   "outputs": [],
   "source": [
    "csv_1['correct_index'] = [{} for _ in range(len(csv_1))]\n",
    "for index, row in csv_1.iterrows():\n",
    "    for choice in [\"entailment\", \"neutral\", \"contradiction\", 'entailed', 'contradicts', 'entails', 'contradicted', 'contradictory']:\n",
    "        if choice in row['split']:\n",
    "            row['correct_index'][choice] = row['split'].lower().index(choice)\n"
   ]
  },
  {
   "cell_type": "code",
   "execution_count": 87,
   "metadata": {},
   "outputs": [],
   "source": [
    "csv_1[csv_1.LLM_answer.isna()]\n",
    "\n",
    "for index, row in csv_1[csv_1.LLM_answer.isna()].iterrows():\n",
    "    for choice in [\"entailment\", \"neutral\", \"contradiction\", 'entailed', 'contradicts', 'entails', 'contradicted', 'contradictory', 'entail', 'contradict']:\n",
    "        if choice in row['consensus_wucs_score'].lower():\n",
    "            row.loc['correct_index'][choice] = row['consensus_wucs_score'].lower().index(choice)"
   ]
  },
  {
   "cell_type": "code",
   "execution_count": 88,
   "metadata": {},
   "outputs": [],
   "source": [
    "import numpy as np\n",
    "csv_1['LLM_answer'] =csv_1.correct_index.apply(lambda x: min(x, key=x.get) if len(x) > 0 else np.nan)"
   ]
  },
  {
   "cell_type": "code",
   "execution_count": 89,
   "metadata": {},
   "outputs": [
    {
     "data": {
      "text/html": [
       "<div>\n",
       "<style scoped>\n",
       "    .dataframe tbody tr th:only-of-type {\n",
       "        vertical-align: middle;\n",
       "    }\n",
       "\n",
       "    .dataframe tbody tr th {\n",
       "        vertical-align: top;\n",
       "    }\n",
       "\n",
       "    .dataframe thead th {\n",
       "        text-align: right;\n",
       "    }\n",
       "</style>\n",
       "<table border=\"1\" class=\"dataframe\">\n",
       "  <thead>\n",
       "    <tr style=\"text-align: right;\">\n",
       "      <th></th>\n",
       "      <th>premise</th>\n",
       "      <th>hypothesis</th>\n",
       "      <th>rationales</th>\n",
       "      <th>split</th>\n",
       "      <th>correct_index</th>\n",
       "      <th>LLM_answer</th>\n",
       "    </tr>\n",
       "  </thead>\n",
       "  <tbody>\n",
       "  </tbody>\n",
       "</table>\n",
       "</div>"
      ],
      "text/plain": [
       "Empty DataFrame\n",
       "Columns: [premise, hypothesis, rationales, split, correct_index, LLM_answer]\n",
       "Index: []"
      ]
     },
     "execution_count": 89,
     "metadata": {},
     "output_type": "execute_result"
    }
   ],
   "source": [
    "csv_1[csv_1.LLM_answer.isna()]"
   ]
  },
  {
   "cell_type": "code",
   "execution_count": 481,
   "metadata": {},
   "outputs": [],
   "source": [
    "# csv_1[csv_1.LLM_answer == 'entailed'] = 'entailment'\n",
    "# csv_1[csv_1.LLM_answer == 'entails'] = 'entailment'\n",
    "# csv_1[csv_1.LLM_answer == 'contradicts'] = 'contradiction'\n",
    "# csv_1[csv_1.LLM_answer == 'contradicted'] = 'contradiction'\n",
    "# csv_1[csv_1.LLM_answer == 'contradictory'] = 'contradiction'"
   ]
  },
  {
   "cell_type": "code",
   "execution_count": 90,
   "metadata": {},
   "outputs": [],
   "source": [
    "paper = pd.read_csv('../paper.csv', index_col=0)"
   ]
  },
  {
   "cell_type": "code",
   "execution_count": 91,
   "metadata": {},
   "outputs": [],
   "source": [
    "csv_1['question'] = csv_1['premise'] + '</s>' + csv_1['hypothesis']\n",
    "csv_1.set_index('question', inplace=True)"
   ]
  },
  {
   "cell_type": "code",
   "execution_count": 92,
   "metadata": {},
   "outputs": [
    {
     "data": {
      "text/plain": [
       "array([], dtype=object)"
      ]
     },
     "execution_count": 92,
     "metadata": {},
     "output_type": "execute_result"
    }
   ],
   "source": [
    "paper[~paper.premise.isin(csv_1.premise)]['hypothesis'].values"
   ]
  },
  {
   "cell_type": "code",
   "execution_count": 93,
   "metadata": {},
   "outputs": [
    {
     "data": {
      "text/plain": [
       "(5592, 6)"
      ]
     },
     "execution_count": 93,
     "metadata": {},
     "output_type": "execute_result"
    }
   ],
   "source": [
    "paper.shape"
   ]
  },
  {
   "cell_type": "code",
   "execution_count": 94,
   "metadata": {},
   "outputs": [
    {
     "data": {
      "text/html": [
       "<div>\n",
       "<style scoped>\n",
       "    .dataframe tbody tr th:only-of-type {\n",
       "        vertical-align: middle;\n",
       "    }\n",
       "\n",
       "    .dataframe tbody tr th {\n",
       "        vertical-align: top;\n",
       "    }\n",
       "\n",
       "    .dataframe thead th {\n",
       "        text-align: right;\n",
       "    }\n",
       "</style>\n",
       "<table border=\"1\" class=\"dataframe\">\n",
       "  <thead>\n",
       "    <tr style=\"text-align: right;\">\n",
       "      <th></th>\n",
       "      <th>premise</th>\n",
       "      <th>hypothesis</th>\n",
       "      <th>rationales</th>\n",
       "      <th>split</th>\n",
       "      <th>correct_index</th>\n",
       "      <th>LLM_answer</th>\n",
       "    </tr>\n",
       "    <tr>\n",
       "      <th>question</th>\n",
       "      <th></th>\n",
       "      <th></th>\n",
       "      <th></th>\n",
       "      <th></th>\n",
       "      <th></th>\n",
       "      <th></th>\n",
       "    </tr>\n",
       "  </thead>\n",
       "  <tbody>\n",
       "    <tr>\n",
       "      <th>A man with a white camp is standing on a platform in front of a large black cylinder device, and fabric on a clothesline.&lt;/s&gt;A man is hanging off of a clothesline.</th>\n",
       "      <td>A man with a white camp is standing on a platf...</td>\n",
       "      <td>A man is hanging off of a clothesline.</td>\n",
       "      <td>1. Answer: Contradiction\\nRationale: The hypot...</td>\n",
       "      <td>1. answer: contradiction\\nrationale: the hypot...</td>\n",
       "      <td>{'contradiction': 11, 'contradicts': 108}</td>\n",
       "      <td>contradiction</td>\n",
       "    </tr>\n",
       "    <tr>\n",
       "      <th>Two girls wearing skirts like the flag of Great Britain.&lt;/s&gt;a couple want to eat a flag.</th>\n",
       "      <td>Two girls wearing skirts like the flag of Grea...</td>\n",
       "      <td>a couple want to eat a flag.</td>\n",
       "      <td>2. Answer: Contradiction\\nRationale: The hypot...</td>\n",
       "      <td>2. answer: contradiction\\nrationale: the hypot...</td>\n",
       "      <td>{'contradiction': 11, 'contradicts': 101}</td>\n",
       "      <td>contradiction</td>\n",
       "    </tr>\n",
       "    <tr>\n",
       "      <th>Dog leaps from water while woman kneels on the dock playing with him&lt;/s&gt;A woman and dog sit on a dock together.</th>\n",
       "      <td>Dog leaps from water while woman kneels on the...</td>\n",
       "      <td>A woman and dog sit on a dock together.</td>\n",
       "      <td>3. Answer: Entailment\\nRationale: The hypothes...</td>\n",
       "      <td>3. answer: entailment\\nrationale: the hypothes...</td>\n",
       "      <td>{'entailment': 11}</td>\n",
       "      <td>entailment</td>\n",
       "    </tr>\n",
       "    <tr>\n",
       "      <th>A bald man in an orange shirt and jeans is vacuuming an office carpet with a carry-along canister vacuum.&lt;/s&gt;The clothed man is cleaning the carpet</th>\n",
       "      <td>A bald man in an orange shirt and jeans is vac...</td>\n",
       "      <td>The clothed man is cleaning the carpet</td>\n",
       "      <td>4. Answer: Entailment\\nRationale: The hypothes...</td>\n",
       "      <td>4. answer: entailment\\nrationale: the hypothes...</td>\n",
       "      <td>{'entailment': 11}</td>\n",
       "      <td>entailment</td>\n",
       "    </tr>\n",
       "    <tr>\n",
       "      <th>A boy stands beside a railing at a go kart track.&lt;/s&gt;The boy is going to ride a go kart.</th>\n",
       "      <td>A boy stands beside a railing at a go kart track.</td>\n",
       "      <td>The boy is going to ride a go kart.</td>\n",
       "      <td>5. Answer: Neutral\\nRationale: The hypothesis ...</td>\n",
       "      <td>5. answer: neutral\\nrationale: the hypothesis ...</td>\n",
       "      <td>{'neutral': 11, 'contradicted': 130}</td>\n",
       "      <td>neutral</td>\n",
       "    </tr>\n",
       "    <tr>\n",
       "      <th>...</th>\n",
       "      <td>...</td>\n",
       "      <td>...</td>\n",
       "      <td>...</td>\n",
       "      <td>...</td>\n",
       "      <td>...</td>\n",
       "      <td>...</td>\n",
       "    </tr>\n",
       "    <tr>\n",
       "      <th>Three women walk down a city street; one looks inside her handbag as she walks.&lt;/s&gt;Three women chat at home.</th>\n",
       "      <td>Three women walk down a city street; one looks...</td>\n",
       "      <td>Three women chat at home.</td>\n",
       "      <td>8. Answer: Contradiction\\nRationale: The premi...</td>\n",
       "      <td>8. answer: contradiction\\nrationale: the premi...</td>\n",
       "      <td>{'contradiction': 11, 'contradicts': 216}</td>\n",
       "      <td>contradiction</td>\n",
       "    </tr>\n",
       "    <tr>\n",
       "      <th>A basketball player slam dunks the ball as his body goes sideways; as several people look on.&lt;/s&gt;The ball player is competing in a slam dunk competition.</th>\n",
       "      <td>A basketball player slam dunks the ball as his...</td>\n",
       "      <td>The ball player is competing in a slam dunk co...</td>\n",
       "      <td>9. Answer: Neutral\\nRationale: The premise des...</td>\n",
       "      <td>9. answer: neutral\\nrationale: the premise des...</td>\n",
       "      <td>{'neutral': 11}</td>\n",
       "      <td>neutral</td>\n",
       "    </tr>\n",
       "    <tr>\n",
       "      <th>Two kids wearing white robes are practicing martial arts; boy on the left has blond-hair and is blocking a punch thrown by the dark-haired boy on the right.&lt;/s&gt;The boys are practicing martial arts.</th>\n",
       "      <td>Two kids wearing white robes are practicing ma...</td>\n",
       "      <td>The boys are practicing martial arts.</td>\n",
       "      <td>10. Answer: Entailment\\nRationale: The premise...</td>\n",
       "      <td>10. answer: entailment\\nrationale: the premise...</td>\n",
       "      <td>{'entailment': 12, 'entails': 281}</td>\n",
       "      <td>entailment</td>\n",
       "    </tr>\n",
       "    <tr>\n",
       "      <th>Three naked little boys are playing in a river and are covered in mud; one is standing up.&lt;/s&gt;Three boys are playing in mud while one looks on.</th>\n",
       "      <td>Three naked little boys are playing in a river...</td>\n",
       "      <td>Three boys are playing in mud while one looks on.</td>\n",
       "      <td>Answer: Neutral Rationale: The hypothesis prov...</td>\n",
       "      <td>answer: neutral rationale: the hypothesis prov...</td>\n",
       "      <td>{'neutral': 8}</td>\n",
       "      <td>neutral</td>\n",
       "    </tr>\n",
       "    <tr>\n",
       "      <th>A female belly dancer dressed in blue and orange performs a folding fan dance with two men providing the music behind her; they are using a guitar and drums.&lt;/s&gt;A female has clothes on with two males holding musical instruments.</th>\n",
       "      <td>A female belly dancer dressed in blue and oran...</td>\n",
       "      <td>A female has clothes on with two males holding...</td>\n",
       "      <td>Answer: Entailment Rationale: The hypothesis c...</td>\n",
       "      <td>answer: entailment rationale: the hypothesis c...</td>\n",
       "      <td>{'entailment': 8}</td>\n",
       "      <td>entailment</td>\n",
       "    </tr>\n",
       "  </tbody>\n",
       "</table>\n",
       "<p>5592 rows × 6 columns</p>\n",
       "</div>"
      ],
      "text/plain": [
       "                                                                                              premise  \\\n",
       "question                                                                                                \n",
       "A man with a white camp is standing on a platfo...  A man with a white camp is standing on a platf...   \n",
       "Two girls wearing skirts like the flag of Great...  Two girls wearing skirts like the flag of Grea...   \n",
       "Dog leaps from water while woman kneels on the ...  Dog leaps from water while woman kneels on the...   \n",
       "A bald man in an orange shirt and jeans is vacu...  A bald man in an orange shirt and jeans is vac...   \n",
       "A boy stands beside a railing at a go kart trac...  A boy stands beside a railing at a go kart track.   \n",
       "...                                                                                               ...   \n",
       "Three women walk down a city street; one looks ...  Three women walk down a city street; one looks...   \n",
       "A basketball player slam dunks the ball as his ...  A basketball player slam dunks the ball as his...   \n",
       "Two kids wearing white robes are practicing mar...  Two kids wearing white robes are practicing ma...   \n",
       "Three naked little boys are playing in a river ...  Three naked little boys are playing in a river...   \n",
       "A female belly dancer dressed in blue and orang...  A female belly dancer dressed in blue and oran...   \n",
       "\n",
       "                                                                                           hypothesis  \\\n",
       "question                                                                                                \n",
       "A man with a white camp is standing on a platfo...             A man is hanging off of a clothesline.   \n",
       "Two girls wearing skirts like the flag of Great...                       a couple want to eat a flag.   \n",
       "Dog leaps from water while woman kneels on the ...            A woman and dog sit on a dock together.   \n",
       "A bald man in an orange shirt and jeans is vacu...             The clothed man is cleaning the carpet   \n",
       "A boy stands beside a railing at a go kart trac...                The boy is going to ride a go kart.   \n",
       "...                                                                                               ...   \n",
       "Three women walk down a city street; one looks ...                          Three women chat at home.   \n",
       "A basketball player slam dunks the ball as his ...  The ball player is competing in a slam dunk co...   \n",
       "Two kids wearing white robes are practicing mar...              The boys are practicing martial arts.   \n",
       "Three naked little boys are playing in a river ...  Three boys are playing in mud while one looks on.   \n",
       "A female belly dancer dressed in blue and orang...  A female has clothes on with two males holding...   \n",
       "\n",
       "                                                                                           rationales  \\\n",
       "question                                                                                                \n",
       "A man with a white camp is standing on a platfo...  1. Answer: Contradiction\\nRationale: The hypot...   \n",
       "Two girls wearing skirts like the flag of Great...  2. Answer: Contradiction\\nRationale: The hypot...   \n",
       "Dog leaps from water while woman kneels on the ...  3. Answer: Entailment\\nRationale: The hypothes...   \n",
       "A bald man in an orange shirt and jeans is vacu...  4. Answer: Entailment\\nRationale: The hypothes...   \n",
       "A boy stands beside a railing at a go kart trac...  5. Answer: Neutral\\nRationale: The hypothesis ...   \n",
       "...                                                                                               ...   \n",
       "Three women walk down a city street; one looks ...  8. Answer: Contradiction\\nRationale: The premi...   \n",
       "A basketball player slam dunks the ball as his ...  9. Answer: Neutral\\nRationale: The premise des...   \n",
       "Two kids wearing white robes are practicing mar...  10. Answer: Entailment\\nRationale: The premise...   \n",
       "Three naked little boys are playing in a river ...  Answer: Neutral Rationale: The hypothesis prov...   \n",
       "A female belly dancer dressed in blue and orang...  Answer: Entailment Rationale: The hypothesis c...   \n",
       "\n",
       "                                                                                                split  \\\n",
       "question                                                                                                \n",
       "A man with a white camp is standing on a platfo...  1. answer: contradiction\\nrationale: the hypot...   \n",
       "Two girls wearing skirts like the flag of Great...  2. answer: contradiction\\nrationale: the hypot...   \n",
       "Dog leaps from water while woman kneels on the ...  3. answer: entailment\\nrationale: the hypothes...   \n",
       "A bald man in an orange shirt and jeans is vacu...  4. answer: entailment\\nrationale: the hypothes...   \n",
       "A boy stands beside a railing at a go kart trac...  5. answer: neutral\\nrationale: the hypothesis ...   \n",
       "...                                                                                               ...   \n",
       "Three women walk down a city street; one looks ...  8. answer: contradiction\\nrationale: the premi...   \n",
       "A basketball player slam dunks the ball as his ...  9. answer: neutral\\nrationale: the premise des...   \n",
       "Two kids wearing white robes are practicing mar...  10. answer: entailment\\nrationale: the premise...   \n",
       "Three naked little boys are playing in a river ...  answer: neutral rationale: the hypothesis prov...   \n",
       "A female belly dancer dressed in blue and orang...  answer: entailment rationale: the hypothesis c...   \n",
       "\n",
       "                                                                                correct_index  \\\n",
       "question                                                                                        \n",
       "A man with a white camp is standing on a platfo...  {'contradiction': 11, 'contradicts': 108}   \n",
       "Two girls wearing skirts like the flag of Great...  {'contradiction': 11, 'contradicts': 101}   \n",
       "Dog leaps from water while woman kneels on the ...                         {'entailment': 11}   \n",
       "A bald man in an orange shirt and jeans is vacu...                         {'entailment': 11}   \n",
       "A boy stands beside a railing at a go kart trac...       {'neutral': 11, 'contradicted': 130}   \n",
       "...                                                                                       ...   \n",
       "Three women walk down a city street; one looks ...  {'contradiction': 11, 'contradicts': 216}   \n",
       "A basketball player slam dunks the ball as his ...                            {'neutral': 11}   \n",
       "Two kids wearing white robes are practicing mar...         {'entailment': 12, 'entails': 281}   \n",
       "Three naked little boys are playing in a river ...                             {'neutral': 8}   \n",
       "A female belly dancer dressed in blue and orang...                          {'entailment': 8}   \n",
       "\n",
       "                                                       LLM_answer  \n",
       "question                                                           \n",
       "A man with a white camp is standing on a platfo...  contradiction  \n",
       "Two girls wearing skirts like the flag of Great...  contradiction  \n",
       "Dog leaps from water while woman kneels on the ...     entailment  \n",
       "A bald man in an orange shirt and jeans is vacu...     entailment  \n",
       "A boy stands beside a railing at a go kart trac...        neutral  \n",
       "...                                                           ...  \n",
       "Three women walk down a city street; one looks ...  contradiction  \n",
       "A basketball player slam dunks the ball as his ...        neutral  \n",
       "Two kids wearing white robes are practicing mar...     entailment  \n",
       "Three naked little boys are playing in a river ...        neutral  \n",
       "A female belly dancer dressed in blue and orang...     entailment  \n",
       "\n",
       "[5592 rows x 6 columns]"
      ]
     },
     "execution_count": 94,
     "metadata": {},
     "output_type": "execute_result"
    }
   ],
   "source": [
    "total_df = csv_1[(csv_1.premise.isin(paper.premise)) & (csv_1.hypothesis.isin(paper.hypothesis))].drop_duplicates(subset=['premise', 'hypothesis'])\n",
    "total_df"
   ]
  },
  {
   "cell_type": "code",
   "execution_count": 95,
   "metadata": {},
   "outputs": [],
   "source": [
    "total_df.loc[total_df.LLM_answer == 'entailed', 'LLM_answer'] = 'entailment'\n",
    "total_df.loc[total_df.LLM_answer == 'entails', 'LLM_answer'] = 'entailment'\n",
    "total_df.loc[total_df.LLM_answer == 'contradicts', 'LLM_answer'] = 'contradiction'\n",
    "total_df.loc[total_df.LLM_answer == 'contradicted', 'LLM_answer'] = 'contradiction'\n",
    "total_df.loc[total_df.LLM_answer == 'contradictory', 'LLM_answer'] = 'contradiction'\n",
    "total_df.loc[total_df.LLM_answer == 'entail', 'LLM_answer'] = 'entailment'\n",
    "total_df.loc[total_df.LLM_answer == 'contradict', 'LLM_answer'] = 'contradiction'"
   ]
  },
  {
   "cell_type": "code",
   "execution_count": 96,
   "metadata": {},
   "outputs": [
    {
     "data": {
      "text/html": [
       "<div>\n",
       "<style scoped>\n",
       "    .dataframe tbody tr th:only-of-type {\n",
       "        vertical-align: middle;\n",
       "    }\n",
       "\n",
       "    .dataframe tbody tr th {\n",
       "        vertical-align: top;\n",
       "    }\n",
       "\n",
       "    .dataframe thead th {\n",
       "        text-align: right;\n",
       "    }\n",
       "</style>\n",
       "<table border=\"1\" class=\"dataframe\">\n",
       "  <thead>\n",
       "    <tr style=\"text-align: right;\">\n",
       "      <th></th>\n",
       "      <th>premise</th>\n",
       "      <th>hypothesis</th>\n",
       "      <th>rationales</th>\n",
       "      <th>split</th>\n",
       "      <th>correct_index</th>\n",
       "      <th>LLM_answer</th>\n",
       "    </tr>\n",
       "    <tr>\n",
       "      <th>question</th>\n",
       "      <th></th>\n",
       "      <th></th>\n",
       "      <th></th>\n",
       "      <th></th>\n",
       "      <th></th>\n",
       "      <th></th>\n",
       "    </tr>\n",
       "  </thead>\n",
       "  <tbody>\n",
       "    <tr>\n",
       "      <th>A man with a white camp is standing on a platform in front of a large black cylinder device, and fabric on a clothesline.&lt;/s&gt;A man is hanging off of a clothesline.</th>\n",
       "      <td>A man with a white camp is standing on a platf...</td>\n",
       "      <td>A man is hanging off of a clothesline.</td>\n",
       "      <td>1. Answer: Contradiction\\nRationale: The hypot...</td>\n",
       "      <td>1. answer: contradiction\\nrationale: the hypot...</td>\n",
       "      <td>{'contradiction': 11, 'contradicts': 108}</td>\n",
       "      <td>contradiction</td>\n",
       "    </tr>\n",
       "    <tr>\n",
       "      <th>Two girls wearing skirts like the flag of Great Britain.&lt;/s&gt;a couple want to eat a flag.</th>\n",
       "      <td>Two girls wearing skirts like the flag of Grea...</td>\n",
       "      <td>a couple want to eat a flag.</td>\n",
       "      <td>2. Answer: Contradiction\\nRationale: The hypot...</td>\n",
       "      <td>2. answer: contradiction\\nrationale: the hypot...</td>\n",
       "      <td>{'contradiction': 11, 'contradicts': 101}</td>\n",
       "      <td>contradiction</td>\n",
       "    </tr>\n",
       "    <tr>\n",
       "      <th>Dog leaps from water while woman kneels on the dock playing with him&lt;/s&gt;A woman and dog sit on a dock together.</th>\n",
       "      <td>Dog leaps from water while woman kneels on the...</td>\n",
       "      <td>A woman and dog sit on a dock together.</td>\n",
       "      <td>3. Answer: Entailment\\nRationale: The hypothes...</td>\n",
       "      <td>3. answer: entailment\\nrationale: the hypothes...</td>\n",
       "      <td>{'entailment': 11}</td>\n",
       "      <td>entailment</td>\n",
       "    </tr>\n",
       "    <tr>\n",
       "      <th>A bald man in an orange shirt and jeans is vacuuming an office carpet with a carry-along canister vacuum.&lt;/s&gt;The clothed man is cleaning the carpet</th>\n",
       "      <td>A bald man in an orange shirt and jeans is vac...</td>\n",
       "      <td>The clothed man is cleaning the carpet</td>\n",
       "      <td>4. Answer: Entailment\\nRationale: The hypothes...</td>\n",
       "      <td>4. answer: entailment\\nrationale: the hypothes...</td>\n",
       "      <td>{'entailment': 11}</td>\n",
       "      <td>entailment</td>\n",
       "    </tr>\n",
       "    <tr>\n",
       "      <th>A boy stands beside a railing at a go kart track.&lt;/s&gt;The boy is going to ride a go kart.</th>\n",
       "      <td>A boy stands beside a railing at a go kart track.</td>\n",
       "      <td>The boy is going to ride a go kart.</td>\n",
       "      <td>5. Answer: Neutral\\nRationale: The hypothesis ...</td>\n",
       "      <td>5. answer: neutral\\nrationale: the hypothesis ...</td>\n",
       "      <td>{'neutral': 11, 'contradicted': 130}</td>\n",
       "      <td>neutral</td>\n",
       "    </tr>\n",
       "    <tr>\n",
       "      <th>...</th>\n",
       "      <td>...</td>\n",
       "      <td>...</td>\n",
       "      <td>...</td>\n",
       "      <td>...</td>\n",
       "      <td>...</td>\n",
       "      <td>...</td>\n",
       "    </tr>\n",
       "    <tr>\n",
       "      <th>Three women walk down a city street; one looks inside her handbag as she walks.&lt;/s&gt;Three women chat at home.</th>\n",
       "      <td>Three women walk down a city street; one looks...</td>\n",
       "      <td>Three women chat at home.</td>\n",
       "      <td>8. Answer: Contradiction\\nRationale: The premi...</td>\n",
       "      <td>8. answer: contradiction\\nrationale: the premi...</td>\n",
       "      <td>{'contradiction': 11, 'contradicts': 216}</td>\n",
       "      <td>contradiction</td>\n",
       "    </tr>\n",
       "    <tr>\n",
       "      <th>A basketball player slam dunks the ball as his body goes sideways; as several people look on.&lt;/s&gt;The ball player is competing in a slam dunk competition.</th>\n",
       "      <td>A basketball player slam dunks the ball as his...</td>\n",
       "      <td>The ball player is competing in a slam dunk co...</td>\n",
       "      <td>9. Answer: Neutral\\nRationale: The premise des...</td>\n",
       "      <td>9. answer: neutral\\nrationale: the premise des...</td>\n",
       "      <td>{'neutral': 11}</td>\n",
       "      <td>neutral</td>\n",
       "    </tr>\n",
       "    <tr>\n",
       "      <th>Two kids wearing white robes are practicing martial arts; boy on the left has blond-hair and is blocking a punch thrown by the dark-haired boy on the right.&lt;/s&gt;The boys are practicing martial arts.</th>\n",
       "      <td>Two kids wearing white robes are practicing ma...</td>\n",
       "      <td>The boys are practicing martial arts.</td>\n",
       "      <td>10. Answer: Entailment\\nRationale: The premise...</td>\n",
       "      <td>10. answer: entailment\\nrationale: the premise...</td>\n",
       "      <td>{'entailment': 12, 'entails': 281}</td>\n",
       "      <td>entailment</td>\n",
       "    </tr>\n",
       "    <tr>\n",
       "      <th>Three naked little boys are playing in a river and are covered in mud; one is standing up.&lt;/s&gt;Three boys are playing in mud while one looks on.</th>\n",
       "      <td>Three naked little boys are playing in a river...</td>\n",
       "      <td>Three boys are playing in mud while one looks on.</td>\n",
       "      <td>Answer: Neutral Rationale: The hypothesis prov...</td>\n",
       "      <td>answer: neutral rationale: the hypothesis prov...</td>\n",
       "      <td>{'neutral': 8}</td>\n",
       "      <td>neutral</td>\n",
       "    </tr>\n",
       "    <tr>\n",
       "      <th>A female belly dancer dressed in blue and orange performs a folding fan dance with two men providing the music behind her; they are using a guitar and drums.&lt;/s&gt;A female has clothes on with two males holding musical instruments.</th>\n",
       "      <td>A female belly dancer dressed in blue and oran...</td>\n",
       "      <td>A female has clothes on with two males holding...</td>\n",
       "      <td>Answer: Entailment Rationale: The hypothesis c...</td>\n",
       "      <td>answer: entailment rationale: the hypothesis c...</td>\n",
       "      <td>{'entailment': 8}</td>\n",
       "      <td>entailment</td>\n",
       "    </tr>\n",
       "  </tbody>\n",
       "</table>\n",
       "<p>5592 rows × 6 columns</p>\n",
       "</div>"
      ],
      "text/plain": [
       "                                                                                              premise  \\\n",
       "question                                                                                                \n",
       "A man with a white camp is standing on a platfo...  A man with a white camp is standing on a platf...   \n",
       "Two girls wearing skirts like the flag of Great...  Two girls wearing skirts like the flag of Grea...   \n",
       "Dog leaps from water while woman kneels on the ...  Dog leaps from water while woman kneels on the...   \n",
       "A bald man in an orange shirt and jeans is vacu...  A bald man in an orange shirt and jeans is vac...   \n",
       "A boy stands beside a railing at a go kart trac...  A boy stands beside a railing at a go kart track.   \n",
       "...                                                                                               ...   \n",
       "Three women walk down a city street; one looks ...  Three women walk down a city street; one looks...   \n",
       "A basketball player slam dunks the ball as his ...  A basketball player slam dunks the ball as his...   \n",
       "Two kids wearing white robes are practicing mar...  Two kids wearing white robes are practicing ma...   \n",
       "Three naked little boys are playing in a river ...  Three naked little boys are playing in a river...   \n",
       "A female belly dancer dressed in blue and orang...  A female belly dancer dressed in blue and oran...   \n",
       "\n",
       "                                                                                           hypothesis  \\\n",
       "question                                                                                                \n",
       "A man with a white camp is standing on a platfo...             A man is hanging off of a clothesline.   \n",
       "Two girls wearing skirts like the flag of Great...                       a couple want to eat a flag.   \n",
       "Dog leaps from water while woman kneels on the ...            A woman and dog sit on a dock together.   \n",
       "A bald man in an orange shirt and jeans is vacu...             The clothed man is cleaning the carpet   \n",
       "A boy stands beside a railing at a go kart trac...                The boy is going to ride a go kart.   \n",
       "...                                                                                               ...   \n",
       "Three women walk down a city street; one looks ...                          Three women chat at home.   \n",
       "A basketball player slam dunks the ball as his ...  The ball player is competing in a slam dunk co...   \n",
       "Two kids wearing white robes are practicing mar...              The boys are practicing martial arts.   \n",
       "Three naked little boys are playing in a river ...  Three boys are playing in mud while one looks on.   \n",
       "A female belly dancer dressed in blue and orang...  A female has clothes on with two males holding...   \n",
       "\n",
       "                                                                                           rationales  \\\n",
       "question                                                                                                \n",
       "A man with a white camp is standing on a platfo...  1. Answer: Contradiction\\nRationale: The hypot...   \n",
       "Two girls wearing skirts like the flag of Great...  2. Answer: Contradiction\\nRationale: The hypot...   \n",
       "Dog leaps from water while woman kneels on the ...  3. Answer: Entailment\\nRationale: The hypothes...   \n",
       "A bald man in an orange shirt and jeans is vacu...  4. Answer: Entailment\\nRationale: The hypothes...   \n",
       "A boy stands beside a railing at a go kart trac...  5. Answer: Neutral\\nRationale: The hypothesis ...   \n",
       "...                                                                                               ...   \n",
       "Three women walk down a city street; one looks ...  8. Answer: Contradiction\\nRationale: The premi...   \n",
       "A basketball player slam dunks the ball as his ...  9. Answer: Neutral\\nRationale: The premise des...   \n",
       "Two kids wearing white robes are practicing mar...  10. Answer: Entailment\\nRationale: The premise...   \n",
       "Three naked little boys are playing in a river ...  Answer: Neutral Rationale: The hypothesis prov...   \n",
       "A female belly dancer dressed in blue and orang...  Answer: Entailment Rationale: The hypothesis c...   \n",
       "\n",
       "                                                                                                split  \\\n",
       "question                                                                                                \n",
       "A man with a white camp is standing on a platfo...  1. answer: contradiction\\nrationale: the hypot...   \n",
       "Two girls wearing skirts like the flag of Great...  2. answer: contradiction\\nrationale: the hypot...   \n",
       "Dog leaps from water while woman kneels on the ...  3. answer: entailment\\nrationale: the hypothes...   \n",
       "A bald man in an orange shirt and jeans is vacu...  4. answer: entailment\\nrationale: the hypothes...   \n",
       "A boy stands beside a railing at a go kart trac...  5. answer: neutral\\nrationale: the hypothesis ...   \n",
       "...                                                                                               ...   \n",
       "Three women walk down a city street; one looks ...  8. answer: contradiction\\nrationale: the premi...   \n",
       "A basketball player slam dunks the ball as his ...  9. answer: neutral\\nrationale: the premise des...   \n",
       "Two kids wearing white robes are practicing mar...  10. answer: entailment\\nrationale: the premise...   \n",
       "Three naked little boys are playing in a river ...  answer: neutral rationale: the hypothesis prov...   \n",
       "A female belly dancer dressed in blue and orang...  answer: entailment rationale: the hypothesis c...   \n",
       "\n",
       "                                                                                correct_index  \\\n",
       "question                                                                                        \n",
       "A man with a white camp is standing on a platfo...  {'contradiction': 11, 'contradicts': 108}   \n",
       "Two girls wearing skirts like the flag of Great...  {'contradiction': 11, 'contradicts': 101}   \n",
       "Dog leaps from water while woman kneels on the ...                         {'entailment': 11}   \n",
       "A bald man in an orange shirt and jeans is vacu...                         {'entailment': 11}   \n",
       "A boy stands beside a railing at a go kart trac...       {'neutral': 11, 'contradicted': 130}   \n",
       "...                                                                                       ...   \n",
       "Three women walk down a city street; one looks ...  {'contradiction': 11, 'contradicts': 216}   \n",
       "A basketball player slam dunks the ball as his ...                            {'neutral': 11}   \n",
       "Two kids wearing white robes are practicing mar...         {'entailment': 12, 'entails': 281}   \n",
       "Three naked little boys are playing in a river ...                             {'neutral': 8}   \n",
       "A female belly dancer dressed in blue and orang...                          {'entailment': 8}   \n",
       "\n",
       "                                                       LLM_answer  \n",
       "question                                                           \n",
       "A man with a white camp is standing on a platfo...  contradiction  \n",
       "Two girls wearing skirts like the flag of Great...  contradiction  \n",
       "Dog leaps from water while woman kneels on the ...     entailment  \n",
       "A bald man in an orange shirt and jeans is vacu...     entailment  \n",
       "A boy stands beside a railing at a go kart trac...        neutral  \n",
       "...                                                           ...  \n",
       "Three women walk down a city street; one looks ...  contradiction  \n",
       "A basketball player slam dunks the ball as his ...        neutral  \n",
       "Two kids wearing white robes are practicing mar...     entailment  \n",
       "Three naked little boys are playing in a river ...        neutral  \n",
       "A female belly dancer dressed in blue and orang...     entailment  \n",
       "\n",
       "[5592 rows x 6 columns]"
      ]
     },
     "execution_count": 96,
     "metadata": {},
     "output_type": "execute_result"
    }
   ],
   "source": [
    "total_df"
   ]
  },
  {
   "cell_type": "code",
   "execution_count": 97,
   "metadata": {},
   "outputs": [],
   "source": [
    "paper['my_label'] = total_df['LLM_answer']"
   ]
  },
  {
   "cell_type": "code",
   "execution_count": 98,
   "metadata": {},
   "outputs": [
    {
     "data": {
      "text/plain": [
       "0.623211731044349"
      ]
     },
     "execution_count": 98,
     "metadata": {},
     "output_type": "execute_result"
    }
   ],
   "source": [
    "sum(paper.label == paper.my_label) / len(paper)"
   ]
  },
  {
   "cell_type": "code",
   "execution_count": 99,
   "metadata": {},
   "outputs": [
    {
     "data": {
      "text/plain": [
       "0.699928469241774"
      ]
     },
     "execution_count": 99,
     "metadata": {},
     "output_type": "execute_result"
    }
   ],
   "source": [
    "sum(paper.label == paper.llm_label) / len(paper)"
   ]
  },
  {
   "cell_type": "code",
   "execution_count": 100,
   "metadata": {},
   "outputs": [],
   "source": [
    "total_df.to_csv('best_prompt - full.csv')"
   ]
  },
  {
   "cell_type": "code",
   "execution_count": 195,
   "metadata": {},
   "outputs": [],
   "source": [
    "csv_1.to_csv('neutral - full.csv', index=False)"
   ]
  },
  {
   "cell_type": "code",
   "execution_count": 101,
   "metadata": {},
   "outputs": [
    {
     "data": {
      "text/plain": [
       "A man with a white camp is standing on a platform in front of a large black cylinder device, and fabric on a clothesline.</s>A man is hanging off of a clothesline.                                                                     1\n",
       "a man taking a pizza out of an oven</s>A woman is sitting in the oven.                                                                                                                                                                  1\n",
       "Side view of a mountaineer walking into strong headwinds.</s>A man outside.                                                                                                                                                             1\n",
       "A boy jumping off of a diving board while a girl watches.</s>A boy is near water.                                                                                                                                                       1\n",
       "A back view of a man driving a tractor and signaling with two children as passengers at the back.</s>A man is driving a gray tractor.                                                                                                   1\n",
       "                                                                                                                                                                                                                                       ..\n",
       "Three men and a little boy looking at a model train.</s>Three men take their nephew to look at a model train.                                                                                                                           1\n",
       "A man and woman stand in front of a large red modern statue.</s>Some people are in front of a piece of art.                                                                                                                             1\n",
       "The naked cowboy outside of the Bank of America is talking to a redheaded woman as cabs drive by.</s>The cowboy is on a farm.                                                                                                           1\n",
       "Two girls at an overlook in a wooded area looking towards a mountain in the distance.</s>Picasso painted barns.                                                                                                                         1\n",
       "A female belly dancer dressed in blue and orange performs a folding fan dance with two men providing the music behind her; they are using a guitar and drums.</s>A female has clothes on with two males holding musical instruments.    1\n",
       "Name: question, Length: 5592, dtype: int64"
      ]
     },
     "execution_count": 101,
     "metadata": {},
     "output_type": "execute_result"
    }
   ],
   "source": [
    "total_df.index.value_counts()"
   ]
  }
 ],
 "metadata": {
  "kernelspec": {
   "display_name": "huy",
   "language": "python",
   "name": "python3"
  },
  "language_info": {
   "codemirror_mode": {
    "name": "ipython",
    "version": 3
   },
   "file_extension": ".py",
   "mimetype": "text/x-python",
   "name": "python",
   "nbconvert_exporter": "python",
   "pygments_lexer": "ipython3",
   "version": "3.8.16"
  },
  "orig_nbformat": 4
 },
 "nbformat": 4,
 "nbformat_minor": 2
}
