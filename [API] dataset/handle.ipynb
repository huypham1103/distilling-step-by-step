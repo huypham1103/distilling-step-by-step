{
 "cells": [
  {
   "cell_type": "code",
   "execution_count": 146,
   "metadata": {},
   "outputs": [],
   "source": [
    "import pandas as pd"
   ]
  },
  {
   "cell_type": "code",
   "execution_count": 147,
   "metadata": {},
   "outputs": [],
   "source": [
    "csv_1 = pd.read_csv('if_else(1).csv', index_col=0)\n",
    "csv_2 = pd.read_csv('if_else(2).csv', index_col=0)"
   ]
  },
  {
   "cell_type": "code",
   "execution_count": 148,
   "metadata": {},
   "outputs": [],
   "source": [
    "mask = csv_1.index.isin(csv_2.index)\n",
    "csv_1.loc[mask, 'rationales'] = csv_2.loc[csv_2.index.isin(csv_1.index), 'rationales']"
   ]
  },
  {
   "cell_type": "code",
   "execution_count": 149,
   "metadata": {},
   "outputs": [
    {
     "data": {
      "text/html": [
       "<div>\n",
       "<style scoped>\n",
       "    .dataframe tbody tr th:only-of-type {\n",
       "        vertical-align: middle;\n",
       "    }\n",
       "\n",
       "    .dataframe tbody tr th {\n",
       "        vertical-align: top;\n",
       "    }\n",
       "\n",
       "    .dataframe thead th {\n",
       "        text-align: right;\n",
       "    }\n",
       "</style>\n",
       "<table border=\"1\" class=\"dataframe\">\n",
       "  <thead>\n",
       "    <tr style=\"text-align: right;\">\n",
       "      <th></th>\n",
       "      <th>premise</th>\n",
       "      <th>hypothesis</th>\n",
       "      <th>rationales</th>\n",
       "    </tr>\n",
       "  </thead>\n",
       "  <tbody>\n",
       "    <tr>\n",
       "      <th>0</th>\n",
       "      <td>A man with a white camp is standing on a platf...</td>\n",
       "      <td>A man is hanging off of a clothesline.</td>\n",
       "      <td>1. Premise: A man with a white camp is standin...</td>\n",
       "    </tr>\n",
       "    <tr>\n",
       "      <th>1</th>\n",
       "      <td>Two girls wearing skirts like the flag of Grea...</td>\n",
       "      <td>a couple want to eat a flag.</td>\n",
       "      <td>2. Premise: Two girls wearing skirts like the ...</td>\n",
       "    </tr>\n",
       "    <tr>\n",
       "      <th>2</th>\n",
       "      <td>Dog leaps from water while woman kneels on the...</td>\n",
       "      <td>A woman and dog sit on a dock together.</td>\n",
       "      <td>3. Premise: Dog leaps from water while woman k...</td>\n",
       "    </tr>\n",
       "    <tr>\n",
       "      <th>3</th>\n",
       "      <td>A bald man in an orange shirt and jeans is vac...</td>\n",
       "      <td>The clothed man is cleaning the carpet</td>\n",
       "      <td>4. Premise: A bald man in an orange shirt and ...</td>\n",
       "    </tr>\n",
       "    <tr>\n",
       "      <th>4</th>\n",
       "      <td>A boy stands beside a railing at a go kart track.</td>\n",
       "      <td>The boy is going to ride a go kart.</td>\n",
       "      <td>5. Premise: A boy stands beside a railing at a...</td>\n",
       "    </tr>\n",
       "    <tr>\n",
       "      <th>...</th>\n",
       "      <td>...</td>\n",
       "      <td>...</td>\n",
       "      <td>...</td>\n",
       "    </tr>\n",
       "    <tr>\n",
       "      <th>5587</th>\n",
       "      <td>A woman is tugging on a white sheet and laughing</td>\n",
       "      <td>The woman is changing the sheets on her bed.</td>\n",
       "      <td>8. Premise: A woman is tugging on a white shee...</td>\n",
       "    </tr>\n",
       "    <tr>\n",
       "      <th>5588</th>\n",
       "      <td>A man is looking over a small cliff.</td>\n",
       "      <td>A woman is looking</td>\n",
       "      <td>9. Premise: A man is looking over a small clif...</td>\n",
       "    </tr>\n",
       "    <tr>\n",
       "      <th>5589</th>\n",
       "      <td>A man in goggle swimming.</td>\n",
       "      <td>A man swimming in the water with goggles.</td>\n",
       "      <td>10. Premise: A man in goggles swimming.\\n    H...</td>\n",
       "    </tr>\n",
       "    <tr>\n",
       "      <th>5590</th>\n",
       "      <td>Two men are standing in front of musical mixin...</td>\n",
       "      <td>There are people indoors.</td>\n",
       "      <td>The correct answer is \"entailment.\"  The premi...</td>\n",
       "    </tr>\n",
       "    <tr>\n",
       "      <th>5591</th>\n",
       "      <td>Toddler walking along path.</td>\n",
       "      <td>toddler is walking to his mom</td>\n",
       "      <td>The correct answer is \"entailment.\"  The premi...</td>\n",
       "    </tr>\n",
       "  </tbody>\n",
       "</table>\n",
       "<p>5592 rows × 3 columns</p>\n",
       "</div>"
      ],
      "text/plain": [
       "                                                premise  \\\n",
       "0     A man with a white camp is standing on a platf...   \n",
       "1     Two girls wearing skirts like the flag of Grea...   \n",
       "2     Dog leaps from water while woman kneels on the...   \n",
       "3     A bald man in an orange shirt and jeans is vac...   \n",
       "4     A boy stands beside a railing at a go kart track.   \n",
       "...                                                 ...   \n",
       "5587   A woman is tugging on a white sheet and laughing   \n",
       "5588               A man is looking over a small cliff.   \n",
       "5589                          A man in goggle swimming.   \n",
       "5590  Two men are standing in front of musical mixin...   \n",
       "5591                        Toddler walking along path.   \n",
       "\n",
       "                                        hypothesis  \\\n",
       "0           A man is hanging off of a clothesline.   \n",
       "1                     a couple want to eat a flag.   \n",
       "2          A woman and dog sit on a dock together.   \n",
       "3           The clothed man is cleaning the carpet   \n",
       "4              The boy is going to ride a go kart.   \n",
       "...                                            ...   \n",
       "5587  The woman is changing the sheets on her bed.   \n",
       "5588                            A woman is looking   \n",
       "5589     A man swimming in the water with goggles.   \n",
       "5590                     There are people indoors.   \n",
       "5591                 toddler is walking to his mom   \n",
       "\n",
       "                                             rationales  \n",
       "0     1. Premise: A man with a white camp is standin...  \n",
       "1     2. Premise: Two girls wearing skirts like the ...  \n",
       "2     3. Premise: Dog leaps from water while woman k...  \n",
       "3     4. Premise: A bald man in an orange shirt and ...  \n",
       "4     5. Premise: A boy stands beside a railing at a...  \n",
       "...                                                 ...  \n",
       "5587  8. Premise: A woman is tugging on a white shee...  \n",
       "5588  9. Premise: A man is looking over a small clif...  \n",
       "5589  10. Premise: A man in goggles swimming.\\n    H...  \n",
       "5590  The correct answer is \"entailment.\"  The premi...  \n",
       "5591  The correct answer is \"entailment.\"  The premi...  \n",
       "\n",
       "[5592 rows x 3 columns]"
      ]
     },
     "execution_count": 149,
     "metadata": {},
     "output_type": "execute_result"
    }
   ],
   "source": [
    "csv_1"
   ]
  },
  {
   "cell_type": "code",
   "execution_count": 150,
   "metadata": {},
   "outputs": [],
   "source": [
    "from datasets import load_dataset\n",
    "import pandas as pd\n",
    "\n",
    "dataset = load_dataset(\"esnli\")\n",
    "train_df = pd.DataFrame(dataset['train']).sample(frac=1/100, random_state=0)\n",
    "validation = pd.DataFrame(dataset['validation']).sample(frac=1/100, random_state=0)\n",
    "\n",
    "train_df = pd.concat([train_df, validation], ignore_index=True)"
   ]
  },
  {
   "cell_type": "code",
   "execution_count": 151,
   "metadata": {},
   "outputs": [],
   "source": [
    "csv_1['label'] = train_df['label']"
   ]
  },
  {
   "cell_type": "code",
   "execution_count": 152,
   "metadata": {},
   "outputs": [],
   "source": [
    "csv_1['split'] = csv_1.rationales.apply(lambda x: x.lower().split('most likely answer'))"
   ]
  },
  {
   "cell_type": "code",
   "execution_count": 153,
   "metadata": {},
   "outputs": [],
   "source": [
    "csv_1.split = csv_1.split.apply(lambda x : x[1] if len(x) > 1 else x[0])"
   ]
  },
  {
   "cell_type": "code",
   "execution_count": 154,
   "metadata": {},
   "outputs": [],
   "source": [
    "csv_1['correct_index'] = [{} for _ in range(len(csv_1))]\n",
    "for index, row in csv_1.iterrows():\n",
    "    for choice in [\"entailment\", \"neutral\", \"contradiction\", 'entailed', 'contradicts', 'entails', 'contradicted', 'contradictory']:\n",
    "        if choice in row['split']:\n",
    "            row['correct_index'][choice] = row['split'].lower().index(choice)"
   ]
  },
  {
   "cell_type": "code",
   "execution_count": 155,
   "metadata": {},
   "outputs": [],
   "source": [
    "import numpy as np\n",
    "csv_1['LLM_answer'] =csv_1.correct_index.apply(lambda x: min(x, key=x.get) if len(x) > 0 else np.nan)"
   ]
  },
  {
   "cell_type": "code",
   "execution_count": 156,
   "metadata": {},
   "outputs": [
    {
     "data": {
      "text/html": [
       "<div>\n",
       "<style scoped>\n",
       "    .dataframe tbody tr th:only-of-type {\n",
       "        vertical-align: middle;\n",
       "    }\n",
       "\n",
       "    .dataframe tbody tr th {\n",
       "        vertical-align: top;\n",
       "    }\n",
       "\n",
       "    .dataframe thead th {\n",
       "        text-align: right;\n",
       "    }\n",
       "</style>\n",
       "<table border=\"1\" class=\"dataframe\">\n",
       "  <thead>\n",
       "    <tr style=\"text-align: right;\">\n",
       "      <th></th>\n",
       "      <th>premise</th>\n",
       "      <th>hypothesis</th>\n",
       "      <th>rationales</th>\n",
       "      <th>label</th>\n",
       "      <th>split</th>\n",
       "      <th>correct_index</th>\n",
       "      <th>LLM_answer</th>\n",
       "    </tr>\n",
       "  </thead>\n",
       "  <tbody>\n",
       "  </tbody>\n",
       "</table>\n",
       "</div>"
      ],
      "text/plain": [
       "Empty DataFrame\n",
       "Columns: [premise, hypothesis, rationales, label, split, correct_index, LLM_answer]\n",
       "Index: []"
      ]
     },
     "execution_count": 156,
     "metadata": {},
     "output_type": "execute_result"
    }
   ],
   "source": [
    "csv_1[csv_1.LLM_answer.isna()]"
   ]
  },
  {
   "cell_type": "code",
   "execution_count": 157,
   "metadata": {},
   "outputs": [],
   "source": [
    "csv_1[csv_1.LLM_answer == 'entailed'] = 'entailment'\n",
    "csv_1[csv_1.LLM_answer == 'entails'] = 'entailment'\n",
    "csv_1[csv_1.LLM_answer == 'contradicts'] = 'contradiction'\n",
    "csv_1[csv_1.LLM_answer == 'contradicted'] = 'contradiction'\n",
    "csv_1[csv_1.LLM_answer == 'contradictory'] = 'contradiction'"
   ]
  },
  {
   "cell_type": "code",
   "execution_count": 163,
   "metadata": {},
   "outputs": [],
   "source": [
    "csv_1.loc[csv_1.label == 0, 'label'] = 'entailment'\n",
    "csv_1.loc[csv_1.label == 1, 'label'] = 'neutral'\n",
    "csv_1.loc[csv_1.label == 2, 'label'] = 'contradiction'"
   ]
  },
  {
   "cell_type": "code",
   "execution_count": 165,
   "metadata": {},
   "outputs": [
    {
     "data": {
      "text/plain": [
       "0.6369814020028612"
      ]
     },
     "execution_count": 165,
     "metadata": {},
     "output_type": "execute_result"
    }
   ],
   "source": [
    "sum(csv_1.label == csv_1.LLM_answer) / len(csv_1)"
   ]
  },
  {
   "cell_type": "code",
   "execution_count": 177,
   "metadata": {},
   "outputs": [],
   "source": [
    "csv_1['question'] = csv_1['premise'] + '</s>' + csv_1['hypothesis']"
   ]
  },
  {
   "cell_type": "code",
   "execution_count": 169,
   "metadata": {},
   "outputs": [],
   "source": [
    "csv_1.to_csv('if_else - full.csv', index=False)"
   ]
  }
 ],
 "metadata": {
  "kernelspec": {
   "display_name": "huy",
   "language": "python",
   "name": "python3"
  },
  "language_info": {
   "codemirror_mode": {
    "name": "ipython",
    "version": 3
   },
   "file_extension": ".py",
   "mimetype": "text/x-python",
   "name": "python",
   "nbconvert_exporter": "python",
   "pygments_lexer": "ipython3",
   "version": "3.8.16"
  },
  "orig_nbformat": 4
 },
 "nbformat": 4,
 "nbformat_minor": 2
}
