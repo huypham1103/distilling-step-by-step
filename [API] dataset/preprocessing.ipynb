{
 "cells": [
  {
   "attachments": {},
   "cell_type": "markdown",
   "metadata": {},
   "source": [
    "# Remove  \n",
    "\"mentions_both_premise_and_hypothesis\": r'Premise:\\s(.*?)\\sHypothesis:\\s(.*?)$',"
   ]
  },
  {
   "cell_type": "code",
   "execution_count": 1,
   "metadata": {},
   "outputs": [],
   "source": [
    "import pandas as pd\n",
    "import regex as re"
   ]
  },
  {
   "cell_type": "code",
   "execution_count": 2,
   "metadata": {},
   "outputs": [],
   "source": [
    "if_else = pd.read_csv('if_else - full.csv')\n",
    "contrastive = pd.read_csv('contrastive - full.csv')\n",
    "neutral = pd.read_csv('neutral - full.csv')\n",
    "consensus = pd.read_csv('consensus - full.csv')\n",
    "causal = pd.read_csv('causal - full.csv')\n",
    "comparative = pd.read_csv('comparative - full.csv')\n",
    "historical = pd.read_csv('historical - full.csv')\n",
    "ucs_score = pd.read_csv('ucs_score - full.csv')\n",
    "wucs_score = pd.read_csv('wucs_score - full.csv')\n",
    "consensus_wucs_score = pd.read_csv('consensus_wucs_score - full.csv')"
   ]
  },
  {
   "cell_type": "code",
   "execution_count": 3,
   "metadata": {},
   "outputs": [],
   "source": [
    "# pattern = r'\\d+\\.\\s*Premise:\\s(.*?)\\.\\sHypothesis:\\s(.*?)\\.'\n",
    "pattern = r'\\d+\\.\\s*Premise:\\s(.*?[.!? ])\\s*Hypothesis:\\s(.*?[.!?])'\n",
    "pattern2 = r'Premise:\\s(.*?[.!? ])\\s*Hypothesis:\\s(.*?[.!?])'\n"
   ]
  },
  {
   "cell_type": "code",
   "execution_count": 4,
   "metadata": {},
   "outputs": [],
   "source": [
    "# remove pattern from rationales\n",
    "for index, row in if_else.iterrows():\n",
    "    if re.sub(pattern, '', row['rationales']).strip() and re.sub(pattern2, '', row['rationales']).strip():\n",
    "        if_else.at[index, 'rationales'] = re.sub(pattern, '', row['rationales']).strip()\n",
    "        if_else.at[index, 'rationales'] = re.sub(pattern2, '', row['rationales']).strip()\n",
    "\n",
    "for index, row in neutral.iterrows():\n",
    "    if re.sub(pattern, '', row['rationales']).strip() and re.sub(pattern2, '', row['rationales']).strip():\n",
    "        neutral.at[index, 'rationales'] = re.sub(pattern, '', row['rationales']).strip()\n",
    "        neutral.at[index, 'rationales'] = re.sub(pattern2, '', row['rationales']).strip()\n",
    "\n",
    "for index, row in historical.iterrows():\n",
    "    if re.sub(pattern, '', row['rationales']).strip() and re.sub(pattern2, '', row['rationales']).strip():\n",
    "        historical.at[index, 'rationales'] = re.sub(pattern, '', row['rationales']).strip()\n",
    "        historical.at[index, 'rationales'] = re.sub(pattern2, '', row['rationales']).strip()\n",
    "\n",
    "for index, row in consensus.iterrows():\n",
    "    if re.sub(pattern, '', row['rationales']).strip() and re.sub(pattern2, '', row['rationales']).strip():\n",
    "        consensus.at[index, 'rationales'] = re.sub(pattern, '', row['rationales']).strip()\n",
    "        consensus.at[index, 'rationales'] = re.sub(pattern2, '', row['rationales']).strip()\n",
    "\n",
    "for index, row in causal.iterrows():\n",
    "    if re.sub(pattern, '', row['rationales']).strip() and re.sub(pattern2, '', row['rationales']).strip():\n",
    "        causal.at[index, 'rationales'] = re.sub(pattern, '', row['rationales']).strip()\n",
    "        causal.at[index, 'rationales'] = re.sub(pattern2, '', row['rationales']).strip()\n",
    "\n",
    "for index, row in comparative.iterrows():\n",
    "    if re.sub(pattern, '', row['rationales']).strip() and re.sub(pattern2, '', row['rationales']).strip():\n",
    "        comparative.at[index, 'rationales'] = re.sub(pattern, '', row['rationales']).strip()\n",
    "        comparative.at[index, 'rationales'] = re.sub(pattern2, '', row['rationales']).strip()\n",
    "\n",
    "for index, row in contrastive.iterrows():\n",
    "    if re.sub(pattern, '', row['rationales']).strip() and re.sub(pattern2, '', row['rationales']).strip():\n",
    "        contrastive.at[index, 'rationales'] = re.sub(pattern, '', row['rationales']).strip()\n",
    "        contrastive.at[index, 'rationales'] = re.sub(pattern2, '', row['rationales']).strip()\n",
    "\n",
    "for index, row in ucs_score.iterrows():\n",
    "    if re.sub(pattern, '', row['ucs_score']).strip() and re.sub(pattern2, '', row['ucs_score']).strip():\n",
    "        ucs_score.at[index, 'ucs_score'] = re.sub(pattern, '', row['ucs_score']).strip()\n",
    "        ucs_score.at[index, 'ucs_score'] = re.sub(pattern2, '', row['ucs_score']).strip()\n",
    "\n",
    "for index, row in wucs_score.iterrows():\n",
    "    if re.sub(pattern, '', row['wucs_score']).strip() and re.sub(pattern2, '', row['wucs_score']).strip():\n",
    "        wucs_score.at[index, 'wucs_score'] = re.sub(pattern, '', row['wucs_score']).strip()\n",
    "        wucs_score.at[index, 'wucs_score'] = re.sub(pattern2, '', row['wucs_score']).strip()\n",
    "\n",
    "for index, row in consensus_wucs_score.iterrows():\n",
    "    if re.sub(pattern, '', row['consensus_wucs_score']).strip() and re.sub(pattern2, '', row['consensus_wucs_score']).strip():\n",
    "        consensus_wucs_score.at[index, 'consensus_wucs_score'] = re.sub(pattern, '', row['consensus_wucs_score']).strip()\n",
    "        consensus_wucs_score.at[index, 'consensus_wucs_score'] = re.sub(pattern2, '', row['consensus_wucs_score']).strip()\n",
    "\n",
    "\n",
    "ucs_score.rename(columns={'ucs_score': 'rationales'}, inplace=True)\n",
    "wucs_score.rename(columns={'wucs_score': 'rationales'}, inplace=True)\n",
    "consensus_wucs_score.rename(columns={'consensus_wucs_score': 'rationales'}, inplace=True)"
   ]
  },
  {
   "cell_type": "code",
   "execution_count": 20,
   "metadata": {},
   "outputs": [],
   "source": [
    "if_else.to_csv('after_if_else - full.csv', index=False)\n",
    "neutral.to_csv('after_neutral - full.csv', index=False)\n",
    "historical.to_csv('after_historical - full.csv', index=False)\n",
    "consensus.to_csv('after_consensus - full.csv', index=False)\n",
    "causal.to_csv('after_causal - full.csv', index=False)\n",
    "comparative.to_csv('after_comparative - full.csv', index=False)\n",
    "contrastive.to_csv('after_contrastive - full.csv', index=False)\n",
    "ucs_score.to_csv('after_ucs_score - full.csv', index=False)\n",
    "wucs_score.to_csv('after_wucs_score - full.csv', index=False)\n",
    "consensus_wucs_score.to_csv('after_consensus_wucs_score - full.csv', index=False)"
   ]
  },
  {
   "cell_type": "code",
   "execution_count": 16,
   "metadata": {},
   "outputs": [],
   "source": [
    "# concat all type rationales into one columns\n",
    "concat_df = consensus_wucs_score.copy()\n",
    "\n",
    "idx = concat_df.index\n",
    "\n",
    "concat_df.rationales = if_else.rationales + ' ' + neutral.rationales + ' ' + historical.rationales + ' ' + consensus.rationales + ' ' + causal.rationales + ' ' + comparative.rationales + ' ' + contrastive.rationales"
   ]
  },
  {
   "cell_type": "code",
   "execution_count": 17,
   "metadata": {},
   "outputs": [],
   "source": [
    "concat_df.to_csv('concat_all.csv', index=False)"
   ]
  }
 ],
 "metadata": {
  "kernelspec": {
   "display_name": "huy",
   "language": "python",
   "name": "python3"
  },
  "language_info": {
   "codemirror_mode": {
    "name": "ipython",
    "version": 3
   },
   "file_extension": ".py",
   "mimetype": "text/x-python",
   "name": "python",
   "nbconvert_exporter": "python",
   "pygments_lexer": "ipython3",
   "version": "3.8.16"
  },
  "orig_nbformat": 4
 },
 "nbformat": 4,
 "nbformat_minor": 2
}
