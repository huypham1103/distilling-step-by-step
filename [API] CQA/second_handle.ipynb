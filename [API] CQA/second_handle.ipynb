{
 "cells": [
  {
   "cell_type": "code",
   "execution_count": 194,
   "metadata": {},
   "outputs": [],
   "source": [
    "import pandas as pd\n",
    "import ast\n",
    "import numpy as np"
   ]
  },
  {
   "cell_type": "code",
   "execution_count": 195,
   "metadata": {},
   "outputs": [],
   "source": [
    "path = 'historical.csv'\n",
    "df = pd.read_csv(path, index_col=0)[['premise', 'hypothesis', 'prompt', 'rationale']]"
   ]
  },
  {
   "cell_type": "code",
   "execution_count": 196,
   "metadata": {},
   "outputs": [],
   "source": [
    "df['hypothesis'] = df['hypothesis'].apply(ast.literal_eval)"
   ]
  },
  {
   "cell_type": "code",
   "execution_count": 197,
   "metadata": {},
   "outputs": [],
   "source": [
    "df.rationale = df.rationale.astype(str)\n",
    "df['split'] = df.rationale.apply(lambda x: x.lower().split('most likely answer'))\n",
    "df.split = df.split.apply(lambda x : x[1] if len(x) > 1 else x[0])"
   ]
  },
  {
   "cell_type": "code",
   "execution_count": 198,
   "metadata": {},
   "outputs": [
    {
     "data": {
      "text/html": [
       "<div>\n",
       "<style scoped>\n",
       "    .dataframe tbody tr th:only-of-type {\n",
       "        vertical-align: middle;\n",
       "    }\n",
       "\n",
       "    .dataframe tbody tr th {\n",
       "        vertical-align: top;\n",
       "    }\n",
       "\n",
       "    .dataframe thead th {\n",
       "        text-align: right;\n",
       "    }\n",
       "</style>\n",
       "<table border=\"1\" class=\"dataframe\">\n",
       "  <thead>\n",
       "    <tr style=\"text-align: right;\">\n",
       "      <th></th>\n",
       "      <th>premise</th>\n",
       "      <th>hypothesis</th>\n",
       "      <th>prompt</th>\n",
       "      <th>rationale</th>\n",
       "      <th>split</th>\n",
       "    </tr>\n",
       "  </thead>\n",
       "  <tbody>\n",
       "    <tr>\n",
       "      <th>0</th>\n",
       "      <td>The morbidly obese man with unkempt facial hai...</td>\n",
       "      <td>[french fries, enjoy, nausea, satisfaction, gas]</td>\n",
       "      <td>Questions: The morbidly obese man with unkempt...</td>\n",
       "      <td>1. The most likely answer is **(D) satisfactio...</td>\n",
       "      <td>is **(d) satisfaction**. the question is base...</td>\n",
       "    </tr>\n",
       "  </tbody>\n",
       "</table>\n",
       "</div>"
      ],
      "text/plain": [
       "                                             premise  \\\n",
       "0  The morbidly obese man with unkempt facial hai...   \n",
       "\n",
       "                                         hypothesis  \\\n",
       "0  [french fries, enjoy, nausea, satisfaction, gas]   \n",
       "\n",
       "                                              prompt  \\\n",
       "0  Questions: The morbidly obese man with unkempt...   \n",
       "\n",
       "                                           rationale  \\\n",
       "0  1. The most likely answer is **(D) satisfactio...   \n",
       "\n",
       "                                               split  \n",
       "0   is **(d) satisfaction**. the question is base...  "
      ]
     },
     "execution_count": 198,
     "metadata": {},
     "output_type": "execute_result"
    }
   ],
   "source": [
    "df.head(1)"
   ]
  },
  {
   "cell_type": "code",
   "execution_count": 199,
   "metadata": {},
   "outputs": [],
   "source": [
    "# get correct index\n",
    "df['correct_index'] = [{} for _ in range(len(df))]\n",
    "for index, row in df.iterrows():\n",
    "    for choice in row['hypothesis']:\n",
    "        if choice in row['split']:\n",
    "            row['correct_index'][choice] = row['split'].lower().index(choice.lower())"
   ]
  },
  {
   "cell_type": "code",
   "execution_count": 200,
   "metadata": {},
   "outputs": [],
   "source": [
    "df['LLM_answer'] = df.correct_index.apply(lambda x: min(x, key=x.get) if len(x) > 0 else np.nan)"
   ]
  },
  {
   "cell_type": "code",
   "execution_count": 201,
   "metadata": {},
   "outputs": [
    {
     "data": {
      "text/html": [
       "<div>\n",
       "<style scoped>\n",
       "    .dataframe tbody tr th:only-of-type {\n",
       "        vertical-align: middle;\n",
       "    }\n",
       "\n",
       "    .dataframe tbody tr th {\n",
       "        vertical-align: top;\n",
       "    }\n",
       "\n",
       "    .dataframe thead th {\n",
       "        text-align: right;\n",
       "    }\n",
       "</style>\n",
       "<table border=\"1\" class=\"dataframe\">\n",
       "  <thead>\n",
       "    <tr style=\"text-align: right;\">\n",
       "      <th></th>\n",
       "      <th>premise</th>\n",
       "      <th>hypothesis</th>\n",
       "      <th>prompt</th>\n",
       "      <th>rationale</th>\n",
       "      <th>split</th>\n",
       "      <th>correct_index</th>\n",
       "      <th>LLM_answer</th>\n",
       "    </tr>\n",
       "  </thead>\n",
       "  <tbody>\n",
       "  </tbody>\n",
       "</table>\n",
       "</div>"
      ],
      "text/plain": [
       "Empty DataFrame\n",
       "Columns: [premise, hypothesis, prompt, rationale, split, correct_index, LLM_answer]\n",
       "Index: []"
      ]
     },
     "execution_count": 201,
     "metadata": {},
     "output_type": "execute_result"
    }
   ],
   "source": [
    "df[df.LLM_answer.isna()]"
   ]
  },
  {
   "cell_type": "code",
   "execution_count": 202,
   "metadata": {},
   "outputs": [],
   "source": [
    "# read paper's answer\n",
    "paper = pd.read_csv('paper.csv', index_col=0)"
   ]
  },
  {
   "cell_type": "code",
   "execution_count": 203,
   "metadata": {},
   "outputs": [],
   "source": [
    "paper['premise'] = paper.input.str.split('\\n').apply(lambda x: x[0])\n",
    "paper.set_index('premise', inplace=True)\n",
    "paper.index = paper.index.str.strip()"
   ]
  },
  {
   "cell_type": "code",
   "execution_count": 204,
   "metadata": {},
   "outputs": [],
   "source": [
    "df.set_index('premise', inplace=True)"
   ]
  },
  {
   "cell_type": "code",
   "execution_count": 205,
   "metadata": {},
   "outputs": [],
   "source": [
    "paper['my_label'] = df['LLM_answer']"
   ]
  },
  {
   "cell_type": "code",
   "execution_count": 206,
   "metadata": {},
   "outputs": [
    {
     "data": {
      "text/plain": [
       "0.8074119700236115"
      ]
     },
     "execution_count": 206,
     "metadata": {},
     "output_type": "execute_result"
    }
   ],
   "source": [
    "sum(paper.label == paper.my_label) / len(paper)"
   ]
  },
  {
   "cell_type": "code",
   "execution_count": 207,
   "metadata": {},
   "outputs": [],
   "source": [
    "df.to_csv('historical - full.csv')"
   ]
  },
  {
   "cell_type": "code",
   "execution_count": null,
   "metadata": {},
   "outputs": [],
   "source": []
  },
  {
   "cell_type": "code",
   "execution_count": 238,
   "metadata": {},
   "outputs": [
    {
     "data": {
      "text/html": [
       "<div>\n",
       "<style scoped>\n",
       "    .dataframe tbody tr th:only-of-type {\n",
       "        vertical-align: middle;\n",
       "    }\n",
       "\n",
       "    .dataframe tbody tr th {\n",
       "        vertical-align: top;\n",
       "    }\n",
       "\n",
       "    .dataframe thead th {\n",
       "        text-align: right;\n",
       "    }\n",
       "</style>\n",
       "<table border=\"1\" class=\"dataframe\">\n",
       "  <thead>\n",
       "    <tr style=\"text-align: right;\">\n",
       "      <th></th>\n",
       "      <th>premise</th>\n",
       "      <th>hypothesis</th>\n",
       "      <th>prompt</th>\n",
       "      <th>rationale</th>\n",
       "      <th>split</th>\n",
       "      <th>correct_index</th>\n",
       "      <th>LLM_answer</th>\n",
       "    </tr>\n",
       "  </thead>\n",
       "  <tbody>\n",
       "    <tr>\n",
       "      <th>3631</th>\n",
       "      <td>Where do you keep your beer at home?</td>\n",
       "      <td>['sporting event', 'bowling alley', 'bucket', ...</td>\n",
       "      <td>Questions: Where do you keep your beer at home...</td>\n",
       "      <td>32°F. This prevents the food from spoiling for...</td>\n",
       "      <td>32°f. this prevents the food from spoiling for...</td>\n",
       "      <td>{'fridge': 470}</td>\n",
       "      <td>fridge</td>\n",
       "    </tr>\n",
       "    <tr>\n",
       "      <th>3632</th>\n",
       "      <td>Where do you live if there are a lot of mailbo...</td>\n",
       "      <td>['spacious house', 'mansion', 'building', 'apa...</td>\n",
       "      <td>Questions: Where do you live if there are a lo...</td>\n",
       "      <td>46°F. You can keep your beer in the fridge at ...</td>\n",
       "      <td>46°f. you can keep your beer in the fridge at ...</td>\n",
       "      <td>{'building': 196, 'apartment': 112}</td>\n",
       "      <td>apartment</td>\n",
       "    </tr>\n",
       "    <tr>\n",
       "      <th>3633</th>\n",
       "      <td>Where do you look to see a meteor?</td>\n",
       "      <td>['outerspace', 'orbit', 'universe', 'sky', 'ob...</td>\n",
       "      <td>Questions: Where do you look to see a meteor?,...</td>\n",
       "      <td>6°F and 46°F. You can keep your beer in the fr...</td>\n",
       "      <td>6°f and 46°f. you can keep your beer in the fr...</td>\n",
       "      <td>{'sky': 1119, 'observatory': 1463}</td>\n",
       "      <td>sky</td>\n",
       "    </tr>\n",
       "    <tr>\n",
       "      <th>3634</th>\n",
       "      <td>Where do you need to use a fan?</td>\n",
       "      <td>['hot room', 'sports stadium', 'appliance stor...</td>\n",
       "      <td>Questions: Where do you need to use a fan?, Ch...</td>\n",
       "      <td>8°C or 36°F and 46°F. You can keep your beer i...</td>\n",
       "      <td>8°c or 36°f and 46°f. you can keep your beer i...</td>\n",
       "      <td>{'hot room': 2070}</td>\n",
       "      <td>hot room</td>\n",
       "    </tr>\n",
       "    <tr>\n",
       "      <th>3738</th>\n",
       "      <td>You go through a lot of training to be a soldi...</td>\n",
       "      <td>['follow orders', 'wait for orders', 'follow i...</td>\n",
       "      <td>Questions: You go through a lot of training to...</td>\n",
       "      <td>37 or 38 slots, each with a number and a color...</td>\n",
       "      <td>37 or 38 slots, each with a number and a color...</td>\n",
       "      <td>{'follow orders': 941, 'wait for orders': 956,...</td>\n",
       "      <td>fight for freedom</td>\n",
       "    </tr>\n",
       "    <tr>\n",
       "      <th>3763</th>\n",
       "      <td>A bugle sounded every morning where?</td>\n",
       "      <td>['music store', 'army corps', 'army', 'militar...</td>\n",
       "      <td>Questions: A bugle sounded every morning where...</td>\n",
       "      <td>100 centavos make a mexican peso, which is the...</td>\n",
       "      <td>100 centavos make a mexican peso, which is the...</td>\n",
       "      <td>{'military base': 3252}</td>\n",
       "      <td>military base</td>\n",
       "    </tr>\n",
       "    <tr>\n",
       "      <th>3772</th>\n",
       "      <td>A city like Detroit ended up with a lot of aba...</td>\n",
       "      <td>['forest', 'countryside', 'wilderness', 'subur...</td>\n",
       "      <td>Questions: A city like Detroit ended up with a...</td>\n",
       "      <td>10th floor is in what kind of structure? A sky...</td>\n",
       "      <td>10th floor is in what kind of structure? a sky...</td>\n",
       "      <td>{'suburbs': 2362}</td>\n",
       "      <td>suburbs</td>\n",
       "    </tr>\n",
       "    <tr>\n",
       "      <th>3844</th>\n",
       "      <td>The toddler is awaking from a nap, what doesn'...</td>\n",
       "      <td>['nervous', 'eyes opening', 'getting out of be...</td>\n",
       "      <td>Questions: The toddler is awaking from a nap, ...</td>\n",
       "      <td>2AM and the line hadn't moved is because there...</td>\n",
       "      <td>2am and the line hadn't moved is because there...</td>\n",
       "      <td>{'tiredness': 184}</td>\n",
       "      <td>tiredness</td>\n",
       "    </tr>\n",
       "    <tr>\n",
       "      <th>4498</th>\n",
       "      <td>What is a farmer growing in Illinois or Iowa?</td>\n",
       "      <td>['grow plants', 'seed plants', 'seed crops', '...</td>\n",
       "      <td>Questions: What is a farmer growing in Illinoi...</td>\n",
       "      <td>6 million. Beaver are the national animal of C...</td>\n",
       "      <td>6 million. beaver are the national animal of c...</td>\n",
       "      <td>{'raise corn': 1359}</td>\n",
       "      <td>raise corn</td>\n",
       "    </tr>\n",
       "    <tr>\n",
       "      <th>4617</th>\n",
       "      <td>Sam treasured his freedom.  When he became a P...</td>\n",
       "      <td>['communism', 'oppression', 'slavery', 'bad ma...</td>\n",
       "      <td>Questions: Sam treasured his freedom.  When he...</td>\n",
       "      <td>100 years**. The question asks how long Sam ha...</td>\n",
       "      <td>100 years**. the question asks how long sam ha...</td>\n",
       "      <td>{'captivity': 2127}</td>\n",
       "      <td>captivity</td>\n",
       "    </tr>\n",
       "    <tr>\n",
       "      <th>4691</th>\n",
       "      <td>Customers should always do what if they want t...</td>\n",
       "      <td>['mail orders', 'praise them on siciso media',...</td>\n",
       "      <td>Questions: Customers should always do what if ...</td>\n",
       "      <td>86 million people, which means cows outnumber ...</td>\n",
       "      <td>86 million people, which means cows outnumber ...</td>\n",
       "      <td>{'demand satisfaction': 874}</td>\n",
       "      <td>demand satisfaction</td>\n",
       "    </tr>\n",
       "  </tbody>\n",
       "</table>\n",
       "</div>"
      ],
      "text/plain": [
       "                                                premise  \\\n",
       "3631               Where do you keep your beer at home?   \n",
       "3632  Where do you live if there are a lot of mailbo...   \n",
       "3633                 Where do you look to see a meteor?   \n",
       "3634                    Where do you need to use a fan?   \n",
       "3738  You go through a lot of training to be a soldi...   \n",
       "3763               A bugle sounded every morning where?   \n",
       "3772  A city like Detroit ended up with a lot of aba...   \n",
       "3844  The toddler is awaking from a nap, what doesn'...   \n",
       "4498      What is a farmer growing in Illinois or Iowa?   \n",
       "4617  Sam treasured his freedom.  When he became a P...   \n",
       "4691  Customers should always do what if they want t...   \n",
       "\n",
       "                                             hypothesis  \\\n",
       "3631  ['sporting event', 'bowling alley', 'bucket', ...   \n",
       "3632  ['spacious house', 'mansion', 'building', 'apa...   \n",
       "3633  ['outerspace', 'orbit', 'universe', 'sky', 'ob...   \n",
       "3634  ['hot room', 'sports stadium', 'appliance stor...   \n",
       "3738  ['follow orders', 'wait for orders', 'follow i...   \n",
       "3763  ['music store', 'army corps', 'army', 'militar...   \n",
       "3772  ['forest', 'countryside', 'wilderness', 'subur...   \n",
       "3844  ['nervous', 'eyes opening', 'getting out of be...   \n",
       "4498  ['grow plants', 'seed plants', 'seed crops', '...   \n",
       "4617  ['communism', 'oppression', 'slavery', 'bad ma...   \n",
       "4691  ['mail orders', 'praise them on siciso media',...   \n",
       "\n",
       "                                                 prompt  \\\n",
       "3631  Questions: Where do you keep your beer at home...   \n",
       "3632  Questions: Where do you live if there are a lo...   \n",
       "3633  Questions: Where do you look to see a meteor?,...   \n",
       "3634  Questions: Where do you need to use a fan?, Ch...   \n",
       "3738  Questions: You go through a lot of training to...   \n",
       "3763  Questions: A bugle sounded every morning where...   \n",
       "3772  Questions: A city like Detroit ended up with a...   \n",
       "3844  Questions: The toddler is awaking from a nap, ...   \n",
       "4498  Questions: What is a farmer growing in Illinoi...   \n",
       "4617  Questions: Sam treasured his freedom.  When he...   \n",
       "4691  Questions: Customers should always do what if ...   \n",
       "\n",
       "                                              rationale  \\\n",
       "3631  32°F. This prevents the food from spoiling for...   \n",
       "3632  46°F. You can keep your beer in the fridge at ...   \n",
       "3633  6°F and 46°F. You can keep your beer in the fr...   \n",
       "3634  8°C or 36°F and 46°F. You can keep your beer i...   \n",
       "3738  37 or 38 slots, each with a number and a color...   \n",
       "3763  100 centavos make a mexican peso, which is the...   \n",
       "3772  10th floor is in what kind of structure? A sky...   \n",
       "3844  2AM and the line hadn't moved is because there...   \n",
       "4498  6 million. Beaver are the national animal of C...   \n",
       "4617  100 years**. The question asks how long Sam ha...   \n",
       "4691  86 million people, which means cows outnumber ...   \n",
       "\n",
       "                                                  split  \\\n",
       "3631  32°f. this prevents the food from spoiling for...   \n",
       "3632  46°f. you can keep your beer in the fridge at ...   \n",
       "3633  6°f and 46°f. you can keep your beer in the fr...   \n",
       "3634  8°c or 36°f and 46°f. you can keep your beer i...   \n",
       "3738  37 or 38 slots, each with a number and a color...   \n",
       "3763  100 centavos make a mexican peso, which is the...   \n",
       "3772  10th floor is in what kind of structure? a sky...   \n",
       "3844  2am and the line hadn't moved is because there...   \n",
       "4498  6 million. beaver are the national animal of c...   \n",
       "4617  100 years**. the question asks how long sam ha...   \n",
       "4691  86 million people, which means cows outnumber ...   \n",
       "\n",
       "                                          correct_index           LLM_answer  \n",
       "3631                                    {'fridge': 470}               fridge  \n",
       "3632                {'building': 196, 'apartment': 112}            apartment  \n",
       "3633                 {'sky': 1119, 'observatory': 1463}                  sky  \n",
       "3634                                 {'hot room': 2070}             hot room  \n",
       "3738  {'follow orders': 941, 'wait for orders': 956,...    fight for freedom  \n",
       "3763                            {'military base': 3252}        military base  \n",
       "3772                                  {'suburbs': 2362}              suburbs  \n",
       "3844                                 {'tiredness': 184}            tiredness  \n",
       "4498                               {'raise corn': 1359}           raise corn  \n",
       "4617                                {'captivity': 2127}            captivity  \n",
       "4691                       {'demand satisfaction': 874}  demand satisfaction  "
      ]
     },
     "execution_count": 238,
     "metadata": {},
     "output_type": "execute_result"
    }
   ],
   "source": [
    "TYPE = 'neutral'\n",
    "temp = pd.read_csv(f'{TYPE} - full.csv')\n",
    "\n",
    "import re\n",
    "temp[~temp['rationale'].apply(lambda x: bool(re.match(r'\\d+\\.', x.strip())))][9:20]"
   ]
  }
 ],
 "metadata": {
  "kernelspec": {
   "display_name": "huy",
   "language": "python",
   "name": "python3"
  },
  "language_info": {
   "codemirror_mode": {
    "name": "ipython",
    "version": 3
   },
   "file_extension": ".py",
   "mimetype": "text/x-python",
   "name": "python",
   "nbconvert_exporter": "python",
   "pygments_lexer": "ipython3",
   "version": "3.8.16"
  },
  "orig_nbformat": 4
 },
 "nbformat": 4,
 "nbformat_minor": 2
}
