{
 "cells": [
  {
   "cell_type": "code",
   "execution_count": 185,
   "metadata": {},
   "outputs": [],
   "source": [
    "import pandas as pd\n",
    "import ast\n",
    "import numpy as np"
   ]
  },
  {
   "cell_type": "code",
   "execution_count": 186,
   "metadata": {},
   "outputs": [],
   "source": [
    "path = 'comparative.csv'\n",
    "df = pd.read_csv(path, index_col=0)[['premise', 'hypothesis', 'prompt', 'rationale']]"
   ]
  },
  {
   "cell_type": "code",
   "execution_count": 187,
   "metadata": {},
   "outputs": [],
   "source": [
    "df['hypothesis'] = df['hypothesis'].apply(ast.literal_eval)"
   ]
  },
  {
   "cell_type": "code",
   "execution_count": 188,
   "metadata": {},
   "outputs": [],
   "source": [
    "df.rationale = df.rationale.astype(str)\n",
    "df['split'] = df.rationale.apply(lambda x: x.lower().split('most likely answer'))\n",
    "df.split = df.split.apply(lambda x : x[1] if len(x) > 1 else x[0])"
   ]
  },
  {
   "cell_type": "code",
   "execution_count": 189,
   "metadata": {},
   "outputs": [
    {
     "data": {
      "text/html": [
       "<div>\n",
       "<style scoped>\n",
       "    .dataframe tbody tr th:only-of-type {\n",
       "        vertical-align: middle;\n",
       "    }\n",
       "\n",
       "    .dataframe tbody tr th {\n",
       "        vertical-align: top;\n",
       "    }\n",
       "\n",
       "    .dataframe thead th {\n",
       "        text-align: right;\n",
       "    }\n",
       "</style>\n",
       "<table border=\"1\" class=\"dataframe\">\n",
       "  <thead>\n",
       "    <tr style=\"text-align: right;\">\n",
       "      <th></th>\n",
       "      <th>premise</th>\n",
       "      <th>hypothesis</th>\n",
       "      <th>prompt</th>\n",
       "      <th>rationale</th>\n",
       "      <th>split</th>\n",
       "    </tr>\n",
       "  </thead>\n",
       "  <tbody>\n",
       "    <tr>\n",
       "      <th>0</th>\n",
       "      <td>\"There are 10 apples on an apple tree.  Three ...</td>\n",
       "      <td>[park, coloring book, garden center, math prob...</td>\n",
       "      <td>Questions: \"There are 10 apples on an apple tr...</td>\n",
       "      <td>1. The most likely answer to the question \"The...</td>\n",
       "      <td>to the question \"there are 10 apples on an ap...</td>\n",
       "    </tr>\n",
       "  </tbody>\n",
       "</table>\n",
       "</div>"
      ],
      "text/plain": [
       "                                             premise  \\\n",
       "0  \"There are 10 apples on an apple tree.  Three ...   \n",
       "\n",
       "                                          hypothesis  \\\n",
       "0  [park, coloring book, garden center, math prob...   \n",
       "\n",
       "                                              prompt  \\\n",
       "0  Questions: \"There are 10 apples on an apple tr...   \n",
       "\n",
       "                                           rationale  \\\n",
       "0  1. The most likely answer to the question \"The...   \n",
       "\n",
       "                                               split  \n",
       "0   to the question \"there are 10 apples on an ap...  "
      ]
     },
     "execution_count": 189,
     "metadata": {},
     "output_type": "execute_result"
    }
   ],
   "source": [
    "df.head(1)"
   ]
  },
  {
   "cell_type": "code",
   "execution_count": 190,
   "metadata": {},
   "outputs": [],
   "source": [
    "# get correct index\n",
    "df['correct_index'] = [{} for _ in range(len(df))]\n",
    "for index, row in df.iterrows():\n",
    "    for choice in row['hypothesis']:\n",
    "        if choice in row['split']:\n",
    "            row['correct_index'][choice] = row['split'].lower().index(choice.lower())"
   ]
  },
  {
   "cell_type": "code",
   "execution_count": 191,
   "metadata": {},
   "outputs": [],
   "source": [
    "df['LLM_answer'] = df.correct_index.apply(lambda x: min(x, key=x.get) if len(x) > 0 else np.nan)"
   ]
  },
  {
   "cell_type": "code",
   "execution_count": 192,
   "metadata": {},
   "outputs": [
    {
     "data": {
      "text/html": [
       "<div>\n",
       "<style scoped>\n",
       "    .dataframe tbody tr th:only-of-type {\n",
       "        vertical-align: middle;\n",
       "    }\n",
       "\n",
       "    .dataframe tbody tr th {\n",
       "        vertical-align: top;\n",
       "    }\n",
       "\n",
       "    .dataframe thead th {\n",
       "        text-align: right;\n",
       "    }\n",
       "</style>\n",
       "<table border=\"1\" class=\"dataframe\">\n",
       "  <thead>\n",
       "    <tr style=\"text-align: right;\">\n",
       "      <th></th>\n",
       "      <th>premise</th>\n",
       "      <th>hypothesis</th>\n",
       "      <th>prompt</th>\n",
       "      <th>rationale</th>\n",
       "      <th>split</th>\n",
       "      <th>correct_index</th>\n",
       "      <th>LLM_answer</th>\n",
       "    </tr>\n",
       "  </thead>\n",
       "  <tbody>\n",
       "  </tbody>\n",
       "</table>\n",
       "</div>"
      ],
      "text/plain": [
       "Empty DataFrame\n",
       "Columns: [premise, hypothesis, prompt, rationale, split, correct_index, LLM_answer]\n",
       "Index: []"
      ]
     },
     "execution_count": 192,
     "metadata": {},
     "output_type": "execute_result"
    }
   ],
   "source": [
    "df[df.LLM_answer.isna()]"
   ]
  },
  {
   "cell_type": "code",
   "execution_count": 193,
   "metadata": {},
   "outputs": [],
   "source": [
    "# read paper's answer\n",
    "paper = pd.read_csv('paper.csv', index_col=0)"
   ]
  },
  {
   "cell_type": "code",
   "execution_count": 194,
   "metadata": {},
   "outputs": [],
   "source": [
    "paper['premise'] = paper.input.str.split('\\n').apply(lambda x: x[0])\n",
    "paper.set_index('premise', inplace=True)\n",
    "paper.index = paper.index.str.strip()"
   ]
  },
  {
   "cell_type": "code",
   "execution_count": 195,
   "metadata": {},
   "outputs": [],
   "source": [
    "df.set_index('premise', inplace=True)"
   ]
  },
  {
   "cell_type": "code",
   "execution_count": 196,
   "metadata": {},
   "outputs": [],
   "source": [
    "paper['my_label'] = df['LLM_answer']"
   ]
  },
  {
   "cell_type": "code",
   "execution_count": 197,
   "metadata": {},
   "outputs": [
    {
     "data": {
      "text/plain": [
       "0.726516784724361"
      ]
     },
     "execution_count": 197,
     "metadata": {},
     "output_type": "execute_result"
    }
   ],
   "source": [
    "sum(paper.label == paper.my_label) / len(paper)"
   ]
  },
  {
   "cell_type": "code",
   "execution_count": 198,
   "metadata": {},
   "outputs": [],
   "source": [
    "df.to_csv('comparative - full.csv')"
   ]
  },
  {
   "cell_type": "code",
   "execution_count": 199,
   "metadata": {},
   "outputs": [
    {
     "data": {
      "text/html": [
       "<div>\n",
       "<style scoped>\n",
       "    .dataframe tbody tr th:only-of-type {\n",
       "        vertical-align: middle;\n",
       "    }\n",
       "\n",
       "    .dataframe tbody tr th {\n",
       "        vertical-align: top;\n",
       "    }\n",
       "\n",
       "    .dataframe thead th {\n",
       "        text-align: right;\n",
       "    }\n",
       "</style>\n",
       "<table border=\"1\" class=\"dataframe\">\n",
       "  <thead>\n",
       "    <tr style=\"text-align: right;\">\n",
       "      <th></th>\n",
       "      <th>hypothesis</th>\n",
       "      <th>prompt</th>\n",
       "      <th>rationale</th>\n",
       "      <th>split</th>\n",
       "      <th>correct_index</th>\n",
       "      <th>LLM_answer</th>\n",
       "    </tr>\n",
       "    <tr>\n",
       "      <th>premise</th>\n",
       "      <th></th>\n",
       "      <th></th>\n",
       "      <th></th>\n",
       "      <th></th>\n",
       "      <th></th>\n",
       "      <th></th>\n",
       "    </tr>\n",
       "  </thead>\n",
       "  <tbody>\n",
       "    <tr>\n",
       "      <th>\"There are 10 apples on an apple tree.  Three fall off.  Now there are X apples.\"  What is this an example of?</th>\n",
       "      <td>[park, coloring book, garden center, math prob...</td>\n",
       "      <td>Questions: \"There are 10 apples on an apple tr...</td>\n",
       "      <td>1. The most likely answer to the question \"The...</td>\n",
       "      <td>to the question \"there are 10 apples on an ap...</td>\n",
       "      <td>{'math problem': 137, 'gravity': 302}</td>\n",
       "      <td>math problem</td>\n",
       "    </tr>\n",
       "    <tr>\n",
       "      <th>A John is a bum.  Much like the stereotype, he lives near this sort of transportation infrastructure. Where does he live?</th>\n",
       "      <td>[bus depot, beach, train station, bridge, bridge]</td>\n",
       "      <td>Questions: A John is a bum.  Much like the ste...</td>\n",
       "      <td>2. The most likely answer to the question A Jo...</td>\n",
       "      <td>to the question a john is a bum.  much like t...</td>\n",
       "      <td>{'bridge': 148}</td>\n",
       "      <td>bridge</td>\n",
       "    </tr>\n",
       "    <tr>\n",
       "      <th>A bad person places little value on being honest, acting without pretense or being what?</th>\n",
       "      <td>[excellent, upright, premium, competent, sincere]</td>\n",
       "      <td>Questions: A bad person places little value on...</td>\n",
       "      <td>3. The most likely answer to the question A ba...</td>\n",
       "      <td>to the question a bad person places little va...</td>\n",
       "      <td>{'sincere': 115}</td>\n",
       "      <td>sincere</td>\n",
       "    </tr>\n",
       "    <tr>\n",
       "      <th>A bald eagle flies over St. Paul, where is it?</th>\n",
       "      <td>[texas, thermal, minnesota, canada, photograph]</td>\n",
       "      <td>Questions: A bald eagle flies over St. Paul, w...</td>\n",
       "      <td>4. The most likely answer to the question A ba...</td>\n",
       "      <td>to the question a bald eagle flies over st. p...</td>\n",
       "      <td>{'minnesota': 73, 'photograph': 309}</td>\n",
       "      <td>minnesota</td>\n",
       "    </tr>\n",
       "    <tr>\n",
       "      <th>A battleship is a powerful vessel.  If you need something similar but faster, what would you use?</th>\n",
       "      <td>[yatch, corvette, aircraft carrier, destroyer,...</td>\n",
       "      <td>Questions: A battleship is a powerful vessel. ...</td>\n",
       "      <td>5. The most likely answer to the question A ba...</td>\n",
       "      <td>to the question a battleship is a powerful ve...</td>\n",
       "      <td>{'destroyer': 124}</td>\n",
       "      <td>destroyer</td>\n",
       "    </tr>\n",
       "    <tr>\n",
       "      <th>...</th>\n",
       "      <td>...</td>\n",
       "      <td>...</td>\n",
       "      <td>...</td>\n",
       "      <td>...</td>\n",
       "      <td>...</td>\n",
       "      <td>...</td>\n",
       "    </tr>\n",
       "    <tr>\n",
       "      <th>What happens to a building around half of the time every day?</th>\n",
       "      <td>[it gets dark, cast shadow, face north, target...</td>\n",
       "      <td>NaN</td>\n",
       "      <td>3. The most likely answer to the question \"Wha...</td>\n",
       "      <td>to the question \"what happens to a building a...</td>\n",
       "      <td>{'it gets dark': 90, 'cast shadow': 268, 'face...</td>\n",
       "      <td>it gets dark</td>\n",
       "    </tr>\n",
       "    <tr>\n",
       "      <th>What is the result of more people getting in line?</th>\n",
       "      <td>[anxiety, wait turn, late, longer lines, have ...</td>\n",
       "      <td>NaN</td>\n",
       "      <td>4. The most likely answer to the question \"Wha...</td>\n",
       "      <td>to the question \"what is the result of more p...</td>\n",
       "      <td>{'anxiety': 245, 'wait turn': 405, 'late': 497...</td>\n",
       "      <td>longer lines</td>\n",
       "    </tr>\n",
       "    <tr>\n",
       "      <th>John wanted to hunt blowfish, but he didn't want to leave America.  Where might he search?</th>\n",
       "      <td>[tropical sea, south pacific ocean, hawaiian w...</td>\n",
       "      <td>NaN</td>\n",
       "      <td>1. The most likely answer to the question is *...</td>\n",
       "      <td>to the question is **(c) hawaiian waters**. b...</td>\n",
       "      <td>{'tropical sea': 337, 'south pacific ocean': 3...</td>\n",
       "      <td>hawaiian waters</td>\n",
       "    </tr>\n",
       "    <tr>\n",
       "      <th>The sloth was very muscular, but he couldn't compete in the contest because it had a humans only rule.  What contest was the sloth trying to enter?</th>\n",
       "      <td>[universe, dictionary, global, commercial, cou...</td>\n",
       "      <td>NaN</td>\n",
       "      <td>2. The most likely answer to the question is *...</td>\n",
       "      <td>to the question is **(d) commercial**. a comm...</td>\n",
       "      <td>{'universe': 334, 'dictionary': 344, 'global':...</td>\n",
       "      <td>commercial</td>\n",
       "    </tr>\n",
       "    <tr>\n",
       "      <th>Where on a river can a human hold a cup upright to catch water on a sunny, clear day?</th>\n",
       "      <td>[bridge, waterfall, mountainous area, planet e...</td>\n",
       "      <td>NaN</td>\n",
       "      <td>3. The most likely answer to the question is *...</td>\n",
       "      <td>to the question is **(b) waterfall**. a water...</td>\n",
       "      <td>{'bridge': 371, 'waterfall': 26, 'mountainous ...</td>\n",
       "      <td>waterfall</td>\n",
       "    </tr>\n",
       "  </tbody>\n",
       "</table>\n",
       "<p>9741 rows × 6 columns</p>\n",
       "</div>"
      ],
      "text/plain": [
       "                                                                                           hypothesis  \\\n",
       "premise                                                                                                 \n",
       "\"There are 10 apples on an apple tree.  Three f...  [park, coloring book, garden center, math prob...   \n",
       "A John is a bum.  Much like the stereotype, he ...  [bus depot, beach, train station, bridge, bridge]   \n",
       "A bad person places little value on being hones...  [excellent, upright, premium, competent, sincere]   \n",
       "A bald eagle flies over St. Paul, where is it?        [texas, thermal, minnesota, canada, photograph]   \n",
       "A battleship is a powerful vessel.  If you need...  [yatch, corvette, aircraft carrier, destroyer,...   \n",
       "...                                                                                               ...   \n",
       "What happens to a building around half of the t...  [it gets dark, cast shadow, face north, target...   \n",
       "What is the result of more people getting in line?  [anxiety, wait turn, late, longer lines, have ...   \n",
       "John wanted to hunt blowfish, but he didn't wan...  [tropical sea, south pacific ocean, hawaiian w...   \n",
       "The sloth was very muscular, but he couldn't co...  [universe, dictionary, global, commercial, cou...   \n",
       "Where on a river can a human hold a cup upright...  [bridge, waterfall, mountainous area, planet e...   \n",
       "\n",
       "                                                                                               prompt  \\\n",
       "premise                                                                                                 \n",
       "\"There are 10 apples on an apple tree.  Three f...  Questions: \"There are 10 apples on an apple tr...   \n",
       "A John is a bum.  Much like the stereotype, he ...  Questions: A John is a bum.  Much like the ste...   \n",
       "A bad person places little value on being hones...  Questions: A bad person places little value on...   \n",
       "A bald eagle flies over St. Paul, where is it?      Questions: A bald eagle flies over St. Paul, w...   \n",
       "A battleship is a powerful vessel.  If you need...  Questions: A battleship is a powerful vessel. ...   \n",
       "...                                                                                               ...   \n",
       "What happens to a building around half of the t...                                                NaN   \n",
       "What is the result of more people getting in line?                                                NaN   \n",
       "John wanted to hunt blowfish, but he didn't wan...                                                NaN   \n",
       "The sloth was very muscular, but he couldn't co...                                                NaN   \n",
       "Where on a river can a human hold a cup upright...                                                NaN   \n",
       "\n",
       "                                                                                            rationale  \\\n",
       "premise                                                                                                 \n",
       "\"There are 10 apples on an apple tree.  Three f...  1. The most likely answer to the question \"The...   \n",
       "A John is a bum.  Much like the stereotype, he ...  2. The most likely answer to the question A Jo...   \n",
       "A bad person places little value on being hones...  3. The most likely answer to the question A ba...   \n",
       "A bald eagle flies over St. Paul, where is it?      4. The most likely answer to the question A ba...   \n",
       "A battleship is a powerful vessel.  If you need...  5. The most likely answer to the question A ba...   \n",
       "...                                                                                               ...   \n",
       "What happens to a building around half of the t...  3. The most likely answer to the question \"Wha...   \n",
       "What is the result of more people getting in line?  4. The most likely answer to the question \"Wha...   \n",
       "John wanted to hunt blowfish, but he didn't wan...  1. The most likely answer to the question is *...   \n",
       "The sloth was very muscular, but he couldn't co...  2. The most likely answer to the question is *...   \n",
       "Where on a river can a human hold a cup upright...  3. The most likely answer to the question is *...   \n",
       "\n",
       "                                                                                                split  \\\n",
       "premise                                                                                                 \n",
       "\"There are 10 apples on an apple tree.  Three f...   to the question \"there are 10 apples on an ap...   \n",
       "A John is a bum.  Much like the stereotype, he ...   to the question a john is a bum.  much like t...   \n",
       "A bad person places little value on being hones...   to the question a bad person places little va...   \n",
       "A bald eagle flies over St. Paul, where is it?       to the question a bald eagle flies over st. p...   \n",
       "A battleship is a powerful vessel.  If you need...   to the question a battleship is a powerful ve...   \n",
       "...                                                                                               ...   \n",
       "What happens to a building around half of the t...   to the question \"what happens to a building a...   \n",
       "What is the result of more people getting in line?   to the question \"what is the result of more p...   \n",
       "John wanted to hunt blowfish, but he didn't wan...   to the question is **(c) hawaiian waters**. b...   \n",
       "The sloth was very muscular, but he couldn't co...   to the question is **(d) commercial**. a comm...   \n",
       "Where on a river can a human hold a cup upright...   to the question is **(b) waterfall**. a water...   \n",
       "\n",
       "                                                                                        correct_index  \\\n",
       "premise                                                                                                 \n",
       "\"There are 10 apples on an apple tree.  Three f...              {'math problem': 137, 'gravity': 302}   \n",
       "A John is a bum.  Much like the stereotype, he ...                                    {'bridge': 148}   \n",
       "A bad person places little value on being hones...                                   {'sincere': 115}   \n",
       "A bald eagle flies over St. Paul, where is it?                   {'minnesota': 73, 'photograph': 309}   \n",
       "A battleship is a powerful vessel.  If you need...                                 {'destroyer': 124}   \n",
       "...                                                                                               ...   \n",
       "What happens to a building around half of the t...  {'it gets dark': 90, 'cast shadow': 268, 'face...   \n",
       "What is the result of more people getting in line?  {'anxiety': 245, 'wait turn': 405, 'late': 497...   \n",
       "John wanted to hunt blowfish, but he didn't wan...  {'tropical sea': 337, 'south pacific ocean': 3...   \n",
       "The sloth was very muscular, but he couldn't co...  {'universe': 334, 'dictionary': 344, 'global':...   \n",
       "Where on a river can a human hold a cup upright...  {'bridge': 371, 'waterfall': 26, 'mountainous ...   \n",
       "\n",
       "                                                         LLM_answer  \n",
       "premise                                                              \n",
       "\"There are 10 apples on an apple tree.  Three f...     math problem  \n",
       "A John is a bum.  Much like the stereotype, he ...           bridge  \n",
       "A bad person places little value on being hones...          sincere  \n",
       "A bald eagle flies over St. Paul, where is it?            minnesota  \n",
       "A battleship is a powerful vessel.  If you need...        destroyer  \n",
       "...                                                             ...  \n",
       "What happens to a building around half of the t...     it gets dark  \n",
       "What is the result of more people getting in line?     longer lines  \n",
       "John wanted to hunt blowfish, but he didn't wan...  hawaiian waters  \n",
       "The sloth was very muscular, but he couldn't co...       commercial  \n",
       "Where on a river can a human hold a cup upright...        waterfall  \n",
       "\n",
       "[9741 rows x 6 columns]"
      ]
     },
     "execution_count": 199,
     "metadata": {},
     "output_type": "execute_result"
    }
   ],
   "source": [
    "df"
   ]
  }
 ],
 "metadata": {
  "kernelspec": {
   "display_name": "huy",
   "language": "python",
   "name": "python3"
  },
  "language_info": {
   "codemirror_mode": {
    "name": "ipython",
    "version": 3
   },
   "file_extension": ".py",
   "mimetype": "text/x-python",
   "name": "python",
   "nbconvert_exporter": "python",
   "pygments_lexer": "ipython3",
   "version": "3.10.6"
  },
  "orig_nbformat": 4
 },
 "nbformat": 4,
 "nbformat_minor": 2
}
