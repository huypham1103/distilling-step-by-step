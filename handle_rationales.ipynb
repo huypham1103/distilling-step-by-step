{
 "cells": [
  {
   "cell_type": "code",
   "execution_count": 1,
   "metadata": {},
   "outputs": [],
   "source": [
    "import pandas as pd"
   ]
  },
  {
   "cell_type": "code",
   "execution_count": 7,
   "metadata": {},
   "outputs": [],
   "source": [
    "rationales = pd.read_csv('answered_questions_with_rationales.csv')"
   ]
  },
  {
   "cell_type": "code",
   "execution_count": 8,
   "metadata": {},
   "outputs": [],
   "source": [
    "rationales.rename(columns={'long_if_else_rationale': 'if_else',\n",
    "                           'long_contrastive_rationale': 'contrastive',\n",
    "                           'long_neutral_rationale': 'neutral',\n",
    "                           'long_consensus_rationale': 'consensus',\n",
    "                           'long_causal_rationale': 'causal',\n",
    "                           'long_comparative_rationale'\t: 'comparative',\n",
    "                           'long_historical_rationale': 'historical'}, inplace=True)"
   ]
  },
  {
   "cell_type": "code",
   "execution_count": 10,
   "metadata": {},
   "outputs": [],
   "source": [
    "rationales.to_csv('answered_questions_with_rationales.csv', index=False)"
   ]
  }
 ],
 "metadata": {
  "kernelspec": {
   "display_name": "huy",
   "language": "python",
   "name": "python3"
  },
  "language_info": {
   "codemirror_mode": {
    "name": "ipython",
    "version": 3
   },
   "file_extension": ".py",
   "mimetype": "text/x-python",
   "name": "python",
   "nbconvert_exporter": "python",
   "pygments_lexer": "ipython3",
   "version": "3.8.16"
  },
  "orig_nbformat": 4
 },
 "nbformat": 4,
 "nbformat_minor": 2
}
