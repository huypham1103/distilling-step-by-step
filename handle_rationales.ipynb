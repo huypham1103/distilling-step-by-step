{
 "cells": [
  {
   "cell_type": "code",
   "execution_count": 280,
   "metadata": {},
   "outputs": [],
   "source": [
    "import pandas as pd"
   ]
  },
  {
   "cell_type": "code",
   "execution_count": 281,
   "metadata": {},
   "outputs": [],
   "source": [
    "rationales = pd.read_excel('/home/huy/Desktop/HCMUS/distilling-step-by-step/[API] RATIONALES/IF-ELSE.xlsx', index_col=0)"
   ]
  },
  {
   "cell_type": "code",
   "execution_count": 282,
   "metadata": {},
   "outputs": [
    {
     "data": {
      "text/plain": [
       "['\\n6. the question states that a child is in a meadow in spring. among the choices clean room, set table, play with toys, form opinions, gather flowers, the child would most likely gather flowers because meadows are filled with flowers and it is a common activity for children to pick flowers in a meadow during spring. therefore, the correct answer is (e) gather flowers. ']"
      ]
     },
     "execution_count": 282,
     "metadata": {},
     "output_type": "execute_result"
    }
   ],
   "source": [
    "rationales.rationales[15].lower().split('most likely answer: ')"
   ]
  },
  {
   "cell_type": "code",
   "execution_count": 332,
   "metadata": {},
   "outputs": [],
   "source": [
    "rationales['split'] = rationales.rationales.apply(lambda x: x.lower().split('most likely answer'))"
   ]
  },
  {
   "cell_type": "code",
   "execution_count": 333,
   "metadata": {},
   "outputs": [],
   "source": [
    "rationales.split = rationales.split.apply(lambda x : x[1] if len(x) > 1 else x[0])"
   ]
  },
  {
   "cell_type": "code",
   "execution_count": 334,
   "metadata": {},
   "outputs": [
    {
     "ename": "ValueError",
     "evalue": "malformed node or string: ['park', 'coloring book', 'garden center', 'math problem', 'gravity']",
     "output_type": "error",
     "traceback": [
      "\u001b[0;31m---------------------------------------------------------------------------\u001b[0m",
      "\u001b[0;31mValueError\u001b[0m                                Traceback (most recent call last)",
      "\u001b[0;32m<ipython-input-334-30b2b10c7b8c>\u001b[0m in \u001b[0;36m<module>\u001b[0;34m\u001b[0m\n\u001b[1;32m      2\u001b[0m \u001b[0;34m\u001b[0m\u001b[0m\n\u001b[1;32m      3\u001b[0m \u001b[0;31m# convert choices to list\u001b[0m\u001b[0;34m\u001b[0m\u001b[0;34m\u001b[0m\u001b[0;34m\u001b[0m\u001b[0m\n\u001b[0;32m----> 4\u001b[0;31m \u001b[0mrationales\u001b[0m\u001b[0;34m[\u001b[0m\u001b[0;34m'choices'\u001b[0m\u001b[0;34m]\u001b[0m \u001b[0;34m=\u001b[0m \u001b[0mrationales\u001b[0m\u001b[0;34m.\u001b[0m\u001b[0mchoices\u001b[0m\u001b[0;34m.\u001b[0m\u001b[0mapply\u001b[0m\u001b[0;34m(\u001b[0m\u001b[0;32mlambda\u001b[0m \u001b[0mx\u001b[0m\u001b[0;34m:\u001b[0m \u001b[0mast\u001b[0m\u001b[0;34m.\u001b[0m\u001b[0mliteral_eval\u001b[0m\u001b[0;34m(\u001b[0m\u001b[0mx\u001b[0m\u001b[0;34m)\u001b[0m\u001b[0;34m)\u001b[0m\u001b[0;34m\u001b[0m\u001b[0;34m\u001b[0m\u001b[0m\n\u001b[0m",
      "\u001b[0;32m~/miniconda3/envs/huy/lib/python3.8/site-packages/pandas/core/series.py\u001b[0m in \u001b[0;36mapply\u001b[0;34m(self, func, convert_dtype, args, **kwargs)\u001b[0m\n\u001b[1;32m   4769\u001b[0m         \u001b[0mdtype\u001b[0m\u001b[0;34m:\u001b[0m \u001b[0mfloat64\u001b[0m\u001b[0;34m\u001b[0m\u001b[0;34m\u001b[0m\u001b[0m\n\u001b[1;32m   4770\u001b[0m         \"\"\"\n\u001b[0;32m-> 4771\u001b[0;31m         \u001b[0;32mreturn\u001b[0m \u001b[0mSeriesApply\u001b[0m\u001b[0;34m(\u001b[0m\u001b[0mself\u001b[0m\u001b[0;34m,\u001b[0m \u001b[0mfunc\u001b[0m\u001b[0;34m,\u001b[0m \u001b[0mconvert_dtype\u001b[0m\u001b[0;34m,\u001b[0m \u001b[0margs\u001b[0m\u001b[0;34m,\u001b[0m \u001b[0mkwargs\u001b[0m\u001b[0;34m)\u001b[0m\u001b[0;34m.\u001b[0m\u001b[0mapply\u001b[0m\u001b[0;34m(\u001b[0m\u001b[0;34m)\u001b[0m\u001b[0;34m\u001b[0m\u001b[0;34m\u001b[0m\u001b[0m\n\u001b[0m\u001b[1;32m   4772\u001b[0m \u001b[0;34m\u001b[0m\u001b[0m\n\u001b[1;32m   4773\u001b[0m     def _reduce(\n",
      "\u001b[0;32m~/miniconda3/envs/huy/lib/python3.8/site-packages/pandas/core/apply.py\u001b[0m in \u001b[0;36mapply\u001b[0;34m(self)\u001b[0m\n\u001b[1;32m   1121\u001b[0m \u001b[0;34m\u001b[0m\u001b[0m\n\u001b[1;32m   1122\u001b[0m         \u001b[0;31m# self.f is Callable\u001b[0m\u001b[0;34m\u001b[0m\u001b[0;34m\u001b[0m\u001b[0;34m\u001b[0m\u001b[0m\n\u001b[0;32m-> 1123\u001b[0;31m         \u001b[0;32mreturn\u001b[0m \u001b[0mself\u001b[0m\u001b[0;34m.\u001b[0m\u001b[0mapply_standard\u001b[0m\u001b[0;34m(\u001b[0m\u001b[0;34m)\u001b[0m\u001b[0;34m\u001b[0m\u001b[0;34m\u001b[0m\u001b[0m\n\u001b[0m\u001b[1;32m   1124\u001b[0m \u001b[0;34m\u001b[0m\u001b[0m\n\u001b[1;32m   1125\u001b[0m     \u001b[0;32mdef\u001b[0m \u001b[0magg\u001b[0m\u001b[0;34m(\u001b[0m\u001b[0mself\u001b[0m\u001b[0;34m)\u001b[0m\u001b[0;34m:\u001b[0m\u001b[0;34m\u001b[0m\u001b[0;34m\u001b[0m\u001b[0m\n",
      "\u001b[0;32m~/miniconda3/envs/huy/lib/python3.8/site-packages/pandas/core/apply.py\u001b[0m in \u001b[0;36mapply_standard\u001b[0;34m(self)\u001b[0m\n\u001b[1;32m   1172\u001b[0m             \u001b[0;32melse\u001b[0m\u001b[0;34m:\u001b[0m\u001b[0;34m\u001b[0m\u001b[0;34m\u001b[0m\u001b[0m\n\u001b[1;32m   1173\u001b[0m                 \u001b[0mvalues\u001b[0m \u001b[0;34m=\u001b[0m \u001b[0mobj\u001b[0m\u001b[0;34m.\u001b[0m\u001b[0mastype\u001b[0m\u001b[0;34m(\u001b[0m\u001b[0mobject\u001b[0m\u001b[0;34m)\u001b[0m\u001b[0;34m.\u001b[0m\u001b[0m_values\u001b[0m\u001b[0;34m\u001b[0m\u001b[0;34m\u001b[0m\u001b[0m\n\u001b[0;32m-> 1174\u001b[0;31m                 mapped = lib.map_infer(\n\u001b[0m\u001b[1;32m   1175\u001b[0m                     \u001b[0mvalues\u001b[0m\u001b[0;34m,\u001b[0m\u001b[0;34m\u001b[0m\u001b[0;34m\u001b[0m\u001b[0m\n\u001b[1;32m   1176\u001b[0m                     \u001b[0mf\u001b[0m\u001b[0;34m,\u001b[0m\u001b[0;34m\u001b[0m\u001b[0;34m\u001b[0m\u001b[0m\n",
      "\u001b[0;32m~/miniconda3/envs/huy/lib/python3.8/site-packages/pandas/_libs/lib.pyx\u001b[0m in \u001b[0;36mpandas._libs.lib.map_infer\u001b[0;34m()\u001b[0m\n",
      "\u001b[0;32m<ipython-input-334-30b2b10c7b8c>\u001b[0m in \u001b[0;36m<lambda>\u001b[0;34m(x)\u001b[0m\n\u001b[1;32m      2\u001b[0m \u001b[0;34m\u001b[0m\u001b[0m\n\u001b[1;32m      3\u001b[0m \u001b[0;31m# convert choices to list\u001b[0m\u001b[0;34m\u001b[0m\u001b[0;34m\u001b[0m\u001b[0;34m\u001b[0m\u001b[0m\n\u001b[0;32m----> 4\u001b[0;31m \u001b[0mrationales\u001b[0m\u001b[0;34m[\u001b[0m\u001b[0;34m'choices'\u001b[0m\u001b[0;34m]\u001b[0m \u001b[0;34m=\u001b[0m \u001b[0mrationales\u001b[0m\u001b[0;34m.\u001b[0m\u001b[0mchoices\u001b[0m\u001b[0;34m.\u001b[0m\u001b[0mapply\u001b[0m\u001b[0;34m(\u001b[0m\u001b[0;32mlambda\u001b[0m \u001b[0mx\u001b[0m\u001b[0;34m:\u001b[0m \u001b[0mast\u001b[0m\u001b[0;34m.\u001b[0m\u001b[0mliteral_eval\u001b[0m\u001b[0;34m(\u001b[0m\u001b[0mx\u001b[0m\u001b[0;34m)\u001b[0m\u001b[0;34m)\u001b[0m\u001b[0;34m\u001b[0m\u001b[0;34m\u001b[0m\u001b[0m\n\u001b[0m",
      "\u001b[0;32m~/miniconda3/envs/huy/lib/python3.8/ast.py\u001b[0m in \u001b[0;36mliteral_eval\u001b[0;34m(node_or_string)\u001b[0m\n\u001b[1;32m     97\u001b[0m                     \u001b[0;32mreturn\u001b[0m \u001b[0mleft\u001b[0m \u001b[0;34m-\u001b[0m \u001b[0mright\u001b[0m\u001b[0;34m\u001b[0m\u001b[0;34m\u001b[0m\u001b[0m\n\u001b[1;32m     98\u001b[0m         \u001b[0;32mreturn\u001b[0m \u001b[0m_convert_signed_num\u001b[0m\u001b[0;34m(\u001b[0m\u001b[0mnode\u001b[0m\u001b[0;34m)\u001b[0m\u001b[0;34m\u001b[0m\u001b[0;34m\u001b[0m\u001b[0m\n\u001b[0;32m---> 99\u001b[0;31m     \u001b[0;32mreturn\u001b[0m \u001b[0m_convert\u001b[0m\u001b[0;34m(\u001b[0m\u001b[0mnode_or_string\u001b[0m\u001b[0;34m)\u001b[0m\u001b[0;34m\u001b[0m\u001b[0;34m\u001b[0m\u001b[0m\n\u001b[0m\u001b[1;32m    100\u001b[0m \u001b[0;34m\u001b[0m\u001b[0m\n\u001b[1;32m    101\u001b[0m \u001b[0;34m\u001b[0m\u001b[0m\n",
      "\u001b[0;32m~/miniconda3/envs/huy/lib/python3.8/ast.py\u001b[0m in \u001b[0;36m_convert\u001b[0;34m(node)\u001b[0m\n\u001b[1;32m     96\u001b[0m                 \u001b[0;32melse\u001b[0m\u001b[0;34m:\u001b[0m\u001b[0;34m\u001b[0m\u001b[0;34m\u001b[0m\u001b[0m\n\u001b[1;32m     97\u001b[0m                     \u001b[0;32mreturn\u001b[0m \u001b[0mleft\u001b[0m \u001b[0;34m-\u001b[0m \u001b[0mright\u001b[0m\u001b[0;34m\u001b[0m\u001b[0;34m\u001b[0m\u001b[0m\n\u001b[0;32m---> 98\u001b[0;31m         \u001b[0;32mreturn\u001b[0m \u001b[0m_convert_signed_num\u001b[0m\u001b[0;34m(\u001b[0m\u001b[0mnode\u001b[0m\u001b[0;34m)\u001b[0m\u001b[0;34m\u001b[0m\u001b[0;34m\u001b[0m\u001b[0m\n\u001b[0m\u001b[1;32m     99\u001b[0m     \u001b[0;32mreturn\u001b[0m \u001b[0m_convert\u001b[0m\u001b[0;34m(\u001b[0m\u001b[0mnode_or_string\u001b[0m\u001b[0;34m)\u001b[0m\u001b[0;34m\u001b[0m\u001b[0;34m\u001b[0m\u001b[0m\n\u001b[1;32m    100\u001b[0m \u001b[0;34m\u001b[0m\u001b[0m\n",
      "\u001b[0;32m~/miniconda3/envs/huy/lib/python3.8/ast.py\u001b[0m in \u001b[0;36m_convert_signed_num\u001b[0;34m(node)\u001b[0m\n\u001b[1;32m     73\u001b[0m             \u001b[0;32melse\u001b[0m\u001b[0;34m:\u001b[0m\u001b[0;34m\u001b[0m\u001b[0;34m\u001b[0m\u001b[0m\n\u001b[1;32m     74\u001b[0m                 \u001b[0;32mreturn\u001b[0m \u001b[0;34m-\u001b[0m \u001b[0moperand\u001b[0m\u001b[0;34m\u001b[0m\u001b[0;34m\u001b[0m\u001b[0m\n\u001b[0;32m---> 75\u001b[0;31m         \u001b[0;32mreturn\u001b[0m \u001b[0m_convert_num\u001b[0m\u001b[0;34m(\u001b[0m\u001b[0mnode\u001b[0m\u001b[0;34m)\u001b[0m\u001b[0;34m\u001b[0m\u001b[0;34m\u001b[0m\u001b[0m\n\u001b[0m\u001b[1;32m     76\u001b[0m     \u001b[0;32mdef\u001b[0m \u001b[0m_convert\u001b[0m\u001b[0;34m(\u001b[0m\u001b[0mnode\u001b[0m\u001b[0;34m)\u001b[0m\u001b[0;34m:\u001b[0m\u001b[0;34m\u001b[0m\u001b[0;34m\u001b[0m\u001b[0m\n\u001b[1;32m     77\u001b[0m         \u001b[0;32mif\u001b[0m \u001b[0misinstance\u001b[0m\u001b[0;34m(\u001b[0m\u001b[0mnode\u001b[0m\u001b[0;34m,\u001b[0m \u001b[0mConstant\u001b[0m\u001b[0;34m)\u001b[0m\u001b[0;34m:\u001b[0m\u001b[0;34m\u001b[0m\u001b[0;34m\u001b[0m\u001b[0m\n",
      "\u001b[0;32m~/miniconda3/envs/huy/lib/python3.8/ast.py\u001b[0m in \u001b[0;36m_convert_num\u001b[0;34m(node)\u001b[0m\n\u001b[1;32m     64\u001b[0m     \u001b[0;32mdef\u001b[0m \u001b[0m_convert_num\u001b[0m\u001b[0;34m(\u001b[0m\u001b[0mnode\u001b[0m\u001b[0;34m)\u001b[0m\u001b[0;34m:\u001b[0m\u001b[0;34m\u001b[0m\u001b[0;34m\u001b[0m\u001b[0m\n\u001b[1;32m     65\u001b[0m         \u001b[0;32mif\u001b[0m \u001b[0;32mnot\u001b[0m \u001b[0misinstance\u001b[0m\u001b[0;34m(\u001b[0m\u001b[0mnode\u001b[0m\u001b[0;34m,\u001b[0m \u001b[0mConstant\u001b[0m\u001b[0;34m)\u001b[0m \u001b[0;32mor\u001b[0m \u001b[0mtype\u001b[0m\u001b[0;34m(\u001b[0m\u001b[0mnode\u001b[0m\u001b[0;34m.\u001b[0m\u001b[0mvalue\u001b[0m\u001b[0;34m)\u001b[0m \u001b[0;32mnot\u001b[0m \u001b[0;32min\u001b[0m \u001b[0;34m(\u001b[0m\u001b[0mint\u001b[0m\u001b[0;34m,\u001b[0m \u001b[0mfloat\u001b[0m\u001b[0;34m,\u001b[0m \u001b[0mcomplex\u001b[0m\u001b[0;34m)\u001b[0m\u001b[0;34m:\u001b[0m\u001b[0;34m\u001b[0m\u001b[0;34m\u001b[0m\u001b[0m\n\u001b[0;32m---> 66\u001b[0;31m             \u001b[0m_raise_malformed_node\u001b[0m\u001b[0;34m(\u001b[0m\u001b[0mnode\u001b[0m\u001b[0;34m)\u001b[0m\u001b[0;34m\u001b[0m\u001b[0;34m\u001b[0m\u001b[0m\n\u001b[0m\u001b[1;32m     67\u001b[0m         \u001b[0;32mreturn\u001b[0m \u001b[0mnode\u001b[0m\u001b[0;34m.\u001b[0m\u001b[0mvalue\u001b[0m\u001b[0;34m\u001b[0m\u001b[0;34m\u001b[0m\u001b[0m\n\u001b[1;32m     68\u001b[0m     \u001b[0;32mdef\u001b[0m \u001b[0m_convert_signed_num\u001b[0m\u001b[0;34m(\u001b[0m\u001b[0mnode\u001b[0m\u001b[0;34m)\u001b[0m\u001b[0;34m:\u001b[0m\u001b[0;34m\u001b[0m\u001b[0;34m\u001b[0m\u001b[0m\n",
      "\u001b[0;32m~/miniconda3/envs/huy/lib/python3.8/ast.py\u001b[0m in \u001b[0;36m_raise_malformed_node\u001b[0;34m(node)\u001b[0m\n\u001b[1;32m     61\u001b[0m         \u001b[0mnode_or_string\u001b[0m \u001b[0;34m=\u001b[0m \u001b[0mnode_or_string\u001b[0m\u001b[0;34m.\u001b[0m\u001b[0mbody\u001b[0m\u001b[0;34m\u001b[0m\u001b[0;34m\u001b[0m\u001b[0m\n\u001b[1;32m     62\u001b[0m     \u001b[0;32mdef\u001b[0m \u001b[0m_raise_malformed_node\u001b[0m\u001b[0;34m(\u001b[0m\u001b[0mnode\u001b[0m\u001b[0;34m)\u001b[0m\u001b[0;34m:\u001b[0m\u001b[0;34m\u001b[0m\u001b[0;34m\u001b[0m\u001b[0m\n\u001b[0;32m---> 63\u001b[0;31m         \u001b[0;32mraise\u001b[0m \u001b[0mValueError\u001b[0m\u001b[0;34m(\u001b[0m\u001b[0;34mf'malformed node or string: {node!r}'\u001b[0m\u001b[0;34m)\u001b[0m\u001b[0;34m\u001b[0m\u001b[0;34m\u001b[0m\u001b[0m\n\u001b[0m\u001b[1;32m     64\u001b[0m     \u001b[0;32mdef\u001b[0m \u001b[0m_convert_num\u001b[0m\u001b[0;34m(\u001b[0m\u001b[0mnode\u001b[0m\u001b[0;34m)\u001b[0m\u001b[0;34m:\u001b[0m\u001b[0;34m\u001b[0m\u001b[0;34m\u001b[0m\u001b[0m\n\u001b[1;32m     65\u001b[0m         \u001b[0;32mif\u001b[0m \u001b[0;32mnot\u001b[0m \u001b[0misinstance\u001b[0m\u001b[0;34m(\u001b[0m\u001b[0mnode\u001b[0m\u001b[0;34m,\u001b[0m \u001b[0mConstant\u001b[0m\u001b[0;34m)\u001b[0m \u001b[0;32mor\u001b[0m \u001b[0mtype\u001b[0m\u001b[0;34m(\u001b[0m\u001b[0mnode\u001b[0m\u001b[0;34m.\u001b[0m\u001b[0mvalue\u001b[0m\u001b[0;34m)\u001b[0m \u001b[0;32mnot\u001b[0m \u001b[0;32min\u001b[0m \u001b[0;34m(\u001b[0m\u001b[0mint\u001b[0m\u001b[0;34m,\u001b[0m \u001b[0mfloat\u001b[0m\u001b[0;34m,\u001b[0m \u001b[0mcomplex\u001b[0m\u001b[0;34m)\u001b[0m\u001b[0;34m:\u001b[0m\u001b[0;34m\u001b[0m\u001b[0;34m\u001b[0m\u001b[0m\n",
      "\u001b[0;31mValueError\u001b[0m: malformed node or string: ['park', 'coloring book', 'garden center', 'math problem', 'gravity']"
     ]
    }
   ],
   "source": [
    "import ast\n",
    "\n",
    "# convert choices to list\n",
    "rationales['choices'] = rationales.choices.apply(lambda x: ast.literal_eval(x))"
   ]
  },
  {
   "cell_type": "code",
   "execution_count": 335,
   "metadata": {},
   "outputs": [],
   "source": [
    "# get the index of the correct answer\n",
    "import numpy as np\n",
    "rationales['correct_index'] = [{} for _ in range(len(rationales))]\n",
    "for index, row in rationales.iterrows():\n",
    "    for choice in row['choices']:\n",
    "        if choice in row['split']:\n",
    "            row['correct_index'][choice] = row['split'].lower().index(choice)"
   ]
  },
  {
   "cell_type": "code",
   "execution_count": 336,
   "metadata": {},
   "outputs": [],
   "source": [
    "# get the key of value min\n",
    "rationales['LLM_answer'] =rationales.correct_index.apply(lambda x: min(x, key=x.get) if len(x) > 0 else np.nan)"
   ]
  },
  {
   "cell_type": "code",
   "execution_count": 337,
   "metadata": {},
   "outputs": [
    {
     "data": {
      "text/html": [
       "<div>\n",
       "<style scoped>\n",
       "    .dataframe tbody tr th:only-of-type {\n",
       "        vertical-align: middle;\n",
       "    }\n",
       "\n",
       "    .dataframe tbody tr th {\n",
       "        vertical-align: top;\n",
       "    }\n",
       "\n",
       "    .dataframe thead th {\n",
       "        text-align: right;\n",
       "    }\n",
       "</style>\n",
       "<table border=\"1\" class=\"dataframe\">\n",
       "  <thead>\n",
       "    <tr style=\"text-align: right;\">\n",
       "      <th></th>\n",
       "      <th>question</th>\n",
       "      <th>choices</th>\n",
       "      <th>answer</th>\n",
       "      <th>rationales</th>\n",
       "      <th>split</th>\n",
       "      <th>correct_index</th>\n",
       "      <th>LLM_answer</th>\n",
       "    </tr>\n",
       "  </thead>\n",
       "  <tbody>\n",
       "    <tr>\n",
       "      <th>47</th>\n",
       "      <td>A human is hitch hiking near Hoboken, where is...</td>\n",
       "      <td>[new jersey, homes, department store, near ita...</td>\n",
       "      <td>new jersey</td>\n",
       "      <td>8. The correct answer is (A) new jersey. The q...</td>\n",
       "      <td>.</td>\n",
       "      <td>{}</td>\n",
       "      <td>NaN</td>\n",
       "    </tr>\n",
       "    <tr>\n",
       "      <th>110</th>\n",
       "      <td>A sedentary lifestyle of always sitting down i...</td>\n",
       "      <td>[talk, relaxing, pee, gardening, watch tv]</td>\n",
       "      <td>watch tv</td>\n",
       "      <td>1. The correct answer is (E) watch tv. The que...</td>\n",
       "      <td>.</td>\n",
       "      <td>{}</td>\n",
       "      <td>NaN</td>\n",
       "    </tr>\n",
       "    <tr>\n",
       "      <th>596</th>\n",
       "      <td>He took a toll road and ended up in a state he...</td>\n",
       "      <td>[new jersey, new york, minnesota, eastern unit...</td>\n",
       "      <td>connecticut</td>\n",
       "      <td>7.\\nThe correct answer is (B) new york.\\nReaso...</td>\n",
       "      <td>.</td>\n",
       "      <td>{}</td>\n",
       "      <td>NaN</td>\n",
       "    </tr>\n",
       "    <tr>\n",
       "      <th>2448</th>\n",
       "      <td>The man tried to learn how to play the game, b...</td>\n",
       "      <td>[michigan, quit, improved performance, forget,...</td>\n",
       "      <td>forget</td>\n",
       "      <td>\\n9.\\nThe correct answer is (B) quit. The ques...</td>\n",
       "      <td>.</td>\n",
       "      <td>{}</td>\n",
       "      <td>NaN</td>\n",
       "    </tr>\n",
       "    <tr>\n",
       "      <th>2705</th>\n",
       "      <td>The row houses featured nearby red phone booth...</td>\n",
       "      <td>[england, living less expensively, city, town,...</td>\n",
       "      <td>england</td>\n",
       "      <td>6. The correct answer is (A) england. The ques...</td>\n",
       "      <td>.</td>\n",
       "      <td>{}</td>\n",
       "      <td>NaN</td>\n",
       "    </tr>\n",
       "  </tbody>\n",
       "</table>\n",
       "</div>"
      ],
      "text/plain": [
       "                                               question  \\\n",
       "47    A human is hitch hiking near Hoboken, where is...   \n",
       "110   A sedentary lifestyle of always sitting down i...   \n",
       "596   He took a toll road and ended up in a state he...   \n",
       "2448  The man tried to learn how to play the game, b...   \n",
       "2705  The row houses featured nearby red phone booth...   \n",
       "\n",
       "                                                choices       answer  \\\n",
       "47    [new jersey, homes, department store, near ita...   new jersey   \n",
       "110          [talk, relaxing, pee, gardening, watch tv]     watch tv   \n",
       "596   [new jersey, new york, minnesota, eastern unit...  connecticut   \n",
       "2448  [michigan, quit, improved performance, forget,...       forget   \n",
       "2705  [england, living less expensively, city, town,...      england   \n",
       "\n",
       "                                             rationales split correct_index  \\\n",
       "47    8. The correct answer is (A) new jersey. The q...     .            {}   \n",
       "110   1. The correct answer is (E) watch tv. The que...     .            {}   \n",
       "596   7.\\nThe correct answer is (B) new york.\\nReaso...     .            {}   \n",
       "2448  \\n9.\\nThe correct answer is (B) quit. The ques...     .            {}   \n",
       "2705  6. The correct answer is (A) england. The ques...     .            {}   \n",
       "\n",
       "     LLM_answer  \n",
       "47          NaN  \n",
       "110         NaN  \n",
       "596         NaN  \n",
       "2448        NaN  \n",
       "2705        NaN  "
      ]
     },
     "execution_count": 337,
     "metadata": {},
     "output_type": "execute_result"
    }
   ],
   "source": [
    "# HANDLE EXCEPTION\n",
    "error = rationales[rationales.LLM_answer.isna()]\n",
    "error.head(5)"
   ]
  },
  {
   "cell_type": "code",
   "execution_count": 338,
   "metadata": {},
   "outputs": [
    {
     "name": "stderr",
     "output_type": "stream",
     "text": [
      "<ipython-input-338-a40908d18621>:3: SettingWithCopyWarning: \n",
      "A value is trying to be set on a copy of a slice from a DataFrame.\n",
      "Try using .loc[row_indexer,col_indexer] = value instead\n",
      "\n",
      "See the caveats in the documentation: https://pandas.pydata.org/pandas-docs/stable/user_guide/indexing.html#returning-a-view-versus-a-copy\n",
      "  error['correct_index'] = [{} for _ in range(len(error))]\n"
     ]
    }
   ],
   "source": [
    "# get the index of the correct answer\n",
    "import numpy as np\n",
    "error['correct_index'] = [{} for _ in range(len(error))]\n",
    "for index, row in error.iterrows():\n",
    "    for choice in row['choices']:\n",
    "        if choice in row['rationales']:\n",
    "            row['correct_index'][choice] = row['rationales'].lower().index(choice)"
   ]
  },
  {
   "cell_type": "code",
   "execution_count": 339,
   "metadata": {},
   "outputs": [
    {
     "name": "stderr",
     "output_type": "stream",
     "text": [
      "<ipython-input-339-1f6358438110>:2: SettingWithCopyWarning: \n",
      "A value is trying to be set on a copy of a slice from a DataFrame.\n",
      "Try using .loc[row_indexer,col_indexer] = value instead\n",
      "\n",
      "See the caveats in the documentation: https://pandas.pydata.org/pandas-docs/stable/user_guide/indexing.html#returning-a-view-versus-a-copy\n",
      "  error['LLM_answer'] = error.correct_index.apply(lambda x: min(x, key=x.get) if len(x) > 0 else np.nan)\n"
     ]
    }
   ],
   "source": [
    "# get the key of value min\n",
    "error['LLM_answer'] = error.correct_index.apply(lambda x: min(x, key=x.get) if len(x) > 0 else np.nan)"
   ]
  },
  {
   "cell_type": "code",
   "execution_count": 340,
   "metadata": {},
   "outputs": [
    {
     "name": "stdout",
     "output_type": "stream",
     "text": [
      "Series([], Name: question, dtype: object)\n"
     ]
    }
   ],
   "source": [
    "print(error[error.LLM_answer.isna()].question)"
   ]
  },
  {
   "cell_type": "code",
   "execution_count": 341,
   "metadata": {},
   "outputs": [],
   "source": [
    "rationales.LLM_answer = rationales.LLM_answer.fillna(error.LLM_answer)"
   ]
  },
  {
   "cell_type": "code",
   "execution_count": 342,
   "metadata": {},
   "outputs": [
    {
     "data": {
      "text/plain": [
       "0.6497901842729429"
      ]
     },
     "execution_count": 342,
     "metadata": {},
     "output_type": "execute_result"
    }
   ],
   "source": [
    "(sum(rationales.LLM_answer == rationales.answer)) / len(rationales)"
   ]
  },
  {
   "cell_type": "code",
   "execution_count": 294,
   "metadata": {},
   "outputs": [],
   "source": [
    "main = pd.read_csv('/home/huy/Desktop/HCMUS/total.csv', index_col=0)"
   ]
  },
  {
   "cell_type": "code",
   "execution_count": 295,
   "metadata": {},
   "outputs": [
    {
     "data": {
      "text/html": [
       "<div>\n",
       "<style scoped>\n",
       "    .dataframe tbody tr th:only-of-type {\n",
       "        vertical-align: middle;\n",
       "    }\n",
       "\n",
       "    .dataframe tbody tr th {\n",
       "        vertical-align: top;\n",
       "    }\n",
       "\n",
       "    .dataframe thead th {\n",
       "        text-align: right;\n",
       "    }\n",
       "</style>\n",
       "<table border=\"1\" class=\"dataframe\">\n",
       "  <thead>\n",
       "    <tr style=\"text-align: right;\">\n",
       "      <th></th>\n",
       "      <th>question</th>\n",
       "      <th>choices</th>\n",
       "      <th>answer</th>\n",
       "      <th>rationales</th>\n",
       "      <th>split</th>\n",
       "      <th>correct_index</th>\n",
       "      <th>LLM_answer</th>\n",
       "    </tr>\n",
       "  </thead>\n",
       "  <tbody>\n",
       "    <tr>\n",
       "      <th>0</th>\n",
       "      <td>\"There are 10 apples on an apple tree.  Three ...</td>\n",
       "      <td>[park, coloring book, garden center, math prob...</td>\n",
       "      <td>math problem</td>\n",
       "      <td>1. Given the statement \"There are 10 apples on...</td>\n",
       "      <td>1. given the statement \"there are 10 apples on...</td>\n",
       "      <td>{'math problem': 131}</td>\n",
       "      <td>math problem</td>\n",
       "    </tr>\n",
       "    <tr>\n",
       "      <th>1</th>\n",
       "      <td>A John is a bum.  Much like the stereotype, he...</td>\n",
       "      <td>[bus depot, beach, train station, bridge, bridge]</td>\n",
       "      <td>bridge</td>\n",
       "      <td>2. The statement indicates that John is a bum ...</td>\n",
       "      <td>is (a) bus depot. thus, the correct answer is...</td>\n",
       "      <td>{'bus depot': 8}</td>\n",
       "      <td>bus depot</td>\n",
       "    </tr>\n",
       "    <tr>\n",
       "      <th>2</th>\n",
       "      <td>A bad person places little value on being hone...</td>\n",
       "      <td>[excellent, upright, premium, competent, sincere]</td>\n",
       "      <td>sincere</td>\n",
       "      <td>3. The statement states that a bad person plac...</td>\n",
       "      <td>is (b) upright. thus, the correct answer is (...</td>\n",
       "      <td>{'upright': 8}</td>\n",
       "      <td>upright</td>\n",
       "    </tr>\n",
       "    <tr>\n",
       "      <th>3</th>\n",
       "      <td>A bald eagle flies over St. Paul, where is it?</td>\n",
       "      <td>[texas, thermal, minnesota, canada, photograph]</td>\n",
       "      <td>minnesota</td>\n",
       "      <td>4. The statement mentions a bald eagle flying ...</td>\n",
       "      <td>is (c) minnesota. thus, the correct answer is...</td>\n",
       "      <td>{'minnesota': 8}</td>\n",
       "      <td>minnesota</td>\n",
       "    </tr>\n",
       "    <tr>\n",
       "      <th>4</th>\n",
       "      <td>A battleship is a powerful vessel.  If you nee...</td>\n",
       "      <td>[yatch, corvette, aircraft carrier, destroyer,...</td>\n",
       "      <td>corvette</td>\n",
       "      <td>5. The statement states that if you need somet...</td>\n",
       "      <td>is (d) destroyer, as destroyers are known for...</td>\n",
       "      <td>{'destroyer': 8}</td>\n",
       "      <td>destroyer</td>\n",
       "    </tr>\n",
       "    <tr>\n",
       "      <th>...</th>\n",
       "      <td>...</td>\n",
       "      <td>...</td>\n",
       "      <td>...</td>\n",
       "      <td>...</td>\n",
       "      <td>...</td>\n",
       "      <td>...</td>\n",
       "      <td>...</td>\n",
       "    </tr>\n",
       "    <tr>\n",
       "      <th>10957</th>\n",
       "      <td>what does someone have that causes them commit...</td>\n",
       "      <td>[problems, distress, fear, go to jail, killer]</td>\n",
       "      <td>problems</td>\n",
       "      <td>8. Given the question 'what does someone have ...</td>\n",
       "      <td>8. given the question 'what does someone have ...</td>\n",
       "      <td>{'problems': 110, 'distress': 227, 'fear': 237...</td>\n",
       "      <td>problems</td>\n",
       "    </tr>\n",
       "    <tr>\n",
       "      <th>10958</th>\n",
       "      <td>what is printed with ink and distributed daily?</td>\n",
       "      <td>[fountain pen, squid, newspaper, book, printer]</td>\n",
       "      <td>newspaper</td>\n",
       "      <td>9. Given the question 'what is printed with in...</td>\n",
       "      <td>9. given the question 'what is printed with in...</td>\n",
       "      <td>{'fountain pen': 195, 'squid': 209, 'newspaper...</td>\n",
       "      <td>newspaper</td>\n",
       "    </tr>\n",
       "    <tr>\n",
       "      <th>10959</th>\n",
       "      <td>when communicating with my boss what should i do</td>\n",
       "      <td>[misunderstandings, transfer of information, l...</td>\n",
       "      <td>transfer of information</td>\n",
       "      <td>10. Given the question 'when communicating wit...</td>\n",
       "      <td>10. given the question 'when communicating wit...</td>\n",
       "      <td>{'misunderstandings': 238, 'transfer of inform...</td>\n",
       "      <td>transfer of information</td>\n",
       "    </tr>\n",
       "    <tr>\n",
       "      <th>10960</th>\n",
       "      <td>where is a good place to obtain new soap?</td>\n",
       "      <td>[supermarket, washing, cabinet, own home, sink]</td>\n",
       "      <td>supermarket</td>\n",
       "      <td>Answer: (A) Supermarket\\n\\nReasoning: A good p...</td>\n",
       "      <td>answer: (a) supermarket\\n\\nreasoning: a good p...</td>\n",
       "      <td>{'supermarket': 12, 'washing': 228, 'cabinet':...</td>\n",
       "      <td>supermarket</td>\n",
       "    </tr>\n",
       "    <tr>\n",
       "      <th>10961</th>\n",
       "      <td>where is seaweed from?</td>\n",
       "      <td>[beach, sea, ocean, water, sea plant]</td>\n",
       "      <td>ocean</td>\n",
       "      <td>Answer: (B) Sea\\n\\nReasoning: Seaweed is typic...</td>\n",
       "      <td>answer: (b) sea\\n\\nreasoning: seaweed is typic...</td>\n",
       "      <td>{'beach': 168, 'sea': 12, 'ocean': 179, 'water...</td>\n",
       "      <td>sea</td>\n",
       "    </tr>\n",
       "  </tbody>\n",
       "</table>\n",
       "<p>10962 rows × 7 columns</p>\n",
       "</div>"
      ],
      "text/plain": [
       "                                                question  \\\n",
       "0      \"There are 10 apples on an apple tree.  Three ...   \n",
       "1      A John is a bum.  Much like the stereotype, he...   \n",
       "2      A bad person places little value on being hone...   \n",
       "3         A bald eagle flies over St. Paul, where is it?   \n",
       "4      A battleship is a powerful vessel.  If you nee...   \n",
       "...                                                  ...   \n",
       "10957  what does someone have that causes them commit...   \n",
       "10958    what is printed with ink and distributed daily?   \n",
       "10959   when communicating with my boss what should i do   \n",
       "10960          where is a good place to obtain new soap?   \n",
       "10961                             where is seaweed from?   \n",
       "\n",
       "                                                 choices  \\\n",
       "0      [park, coloring book, garden center, math prob...   \n",
       "1      [bus depot, beach, train station, bridge, bridge]   \n",
       "2      [excellent, upright, premium, competent, sincere]   \n",
       "3        [texas, thermal, minnesota, canada, photograph]   \n",
       "4      [yatch, corvette, aircraft carrier, destroyer,...   \n",
       "...                                                  ...   \n",
       "10957     [problems, distress, fear, go to jail, killer]   \n",
       "10958    [fountain pen, squid, newspaper, book, printer]   \n",
       "10959  [misunderstandings, transfer of information, l...   \n",
       "10960    [supermarket, washing, cabinet, own home, sink]   \n",
       "10961              [beach, sea, ocean, water, sea plant]   \n",
       "\n",
       "                        answer  \\\n",
       "0                 math problem   \n",
       "1                       bridge   \n",
       "2                      sincere   \n",
       "3                    minnesota   \n",
       "4                     corvette   \n",
       "...                        ...   \n",
       "10957                 problems   \n",
       "10958                newspaper   \n",
       "10959  transfer of information   \n",
       "10960              supermarket   \n",
       "10961                    ocean   \n",
       "\n",
       "                                              rationales  \\\n",
       "0      1. Given the statement \"There are 10 apples on...   \n",
       "1      2. The statement indicates that John is a bum ...   \n",
       "2      3. The statement states that a bad person plac...   \n",
       "3      4. The statement mentions a bald eagle flying ...   \n",
       "4      5. The statement states that if you need somet...   \n",
       "...                                                  ...   \n",
       "10957  8. Given the question 'what does someone have ...   \n",
       "10958  9. Given the question 'what is printed with in...   \n",
       "10959  10. Given the question 'when communicating wit...   \n",
       "10960  Answer: (A) Supermarket\\n\\nReasoning: A good p...   \n",
       "10961  Answer: (B) Sea\\n\\nReasoning: Seaweed is typic...   \n",
       "\n",
       "                                                   split  \\\n",
       "0      1. given the statement \"there are 10 apples on...   \n",
       "1       is (a) bus depot. thus, the correct answer is...   \n",
       "2       is (b) upright. thus, the correct answer is (...   \n",
       "3       is (c) minnesota. thus, the correct answer is...   \n",
       "4       is (d) destroyer, as destroyers are known for...   \n",
       "...                                                  ...   \n",
       "10957  8. given the question 'what does someone have ...   \n",
       "10958  9. given the question 'what is printed with in...   \n",
       "10959  10. given the question 'when communicating wit...   \n",
       "10960  answer: (a) supermarket\\n\\nreasoning: a good p...   \n",
       "10961  answer: (b) sea\\n\\nreasoning: seaweed is typic...   \n",
       "\n",
       "                                           correct_index  \\\n",
       "0                                  {'math problem': 131}   \n",
       "1                                       {'bus depot': 8}   \n",
       "2                                         {'upright': 8}   \n",
       "3                                       {'minnesota': 8}   \n",
       "4                                       {'destroyer': 8}   \n",
       "...                                                  ...   \n",
       "10957  {'problems': 110, 'distress': 227, 'fear': 237...   \n",
       "10958  {'fountain pen': 195, 'squid': 209, 'newspaper...   \n",
       "10959  {'misunderstandings': 238, 'transfer of inform...   \n",
       "10960  {'supermarket': 12, 'washing': 228, 'cabinet':...   \n",
       "10961  {'beach': 168, 'sea': 12, 'ocean': 179, 'water...   \n",
       "\n",
       "                    LLM_answer  \n",
       "0                 math problem  \n",
       "1                    bus depot  \n",
       "2                      upright  \n",
       "3                    minnesota  \n",
       "4                    destroyer  \n",
       "...                        ...  \n",
       "10957                 problems  \n",
       "10958                newspaper  \n",
       "10959  transfer of information  \n",
       "10960              supermarket  \n",
       "10961                      sea  \n",
       "\n",
       "[10962 rows x 7 columns]"
      ]
     },
     "execution_count": 295,
     "metadata": {},
     "output_type": "execute_result"
    }
   ],
   "source": [
    "rationales"
   ]
  },
  {
   "cell_type": "code",
   "execution_count": 296,
   "metadata": {},
   "outputs": [],
   "source": [
    "main['question'] = main.input.apply(lambda x: x.split('\\n')[0])\n",
    "a = rationales.set_index('question')\n",
    "b = main.set_index('question')"
   ]
  },
  {
   "cell_type": "code",
   "execution_count": 297,
   "metadata": {},
   "outputs": [
    {
     "data": {
      "text/plain": [
       "0.7457580733442802"
      ]
     },
     "execution_count": 297,
     "metadata": {},
     "output_type": "execute_result"
    }
   ],
   "source": [
    "sum(b.loc[a.index]['llm_label'].values == a.answer.values) / len(b)"
   ]
  },
  {
   "cell_type": "code",
   "execution_count": 298,
   "metadata": {},
   "outputs": [],
   "source": [
    "rationales.to_csv('/home/huy/Desktop/HCMUS/distilling-step-by-step/[API] RATIONALES/IF-ELSE - full.csv')"
   ]
  },
  {
   "cell_type": "code",
   "execution_count": 304,
   "metadata": {},
   "outputs": [],
   "source": [
    "re_prompt = rationales[rationales.LLM_answer != rationales.answer]"
   ]
  },
  {
   "cell_type": "code",
   "execution_count": 312,
   "metadata": {},
   "outputs": [],
   "source": [
    "prompt_template= '''\n",
    "Questions: %s \\n\n",
    "Answers: (A) %s, (B) %s, (C) %s, (D) %s, (E) %s \\\n",
    "Given the question '%s', which among the choices %s, %s, %s, %s %s, is the correct answer? Explain your reasoning using conditional statements.\\n\n",
    "'''"
   ]
  },
  {
   "cell_type": "code",
   "execution_count": 313,
   "metadata": {},
   "outputs": [
    {
     "name": "stderr",
     "output_type": "stream",
     "text": [
      "<ipython-input-313-0252d33b1357>:1: SettingWithCopyWarning: \n",
      "A value is trying to be set on a copy of a slice from a DataFrame.\n",
      "Try using .loc[row_indexer,col_indexer] = value instead\n",
      "\n",
      "See the caveats in the documentation: https://pandas.pydata.org/pandas-docs/stable/user_guide/indexing.html#returning-a-view-versus-a-copy\n",
      "  re_prompt['prompt'] = re_prompt.apply(lambda x: prompt_template % (x.question, x.choices[0], x.choices[1], x.choices[2], x.choices[3], x.choices[4], x.question, x.choices[0], x.choices[1], x.choices[2], x.choices[3], x.choices[4]), axis=1)\n"
     ]
    }
   ],
   "source": [
    "re_prompt['prompt'] = re_prompt.apply(lambda x: prompt_template % (x.question, x.choices[0], x.choices[1], x.choices[2], x.choices[3], x.choices[4], x.question, x.choices[0], x.choices[1], x.choices[2], x.choices[3], x.choices[4]), axis=1)"
   ]
  },
  {
   "cell_type": "code",
   "execution_count": 315,
   "metadata": {},
   "outputs": [],
   "source": [
    "re_prompt.to_csv('re_prompt.csv')"
   ]
  },
  {
   "cell_type": "code",
   "execution_count": 317,
   "metadata": {},
   "outputs": [],
   "source": [
    "re_prompt = pd.read_csv('re_prompt.csv', index_col=0)"
   ]
  },
  {
   "cell_type": "code",
   "execution_count": 330,
   "metadata": {},
   "outputs": [],
   "source": [
    "rationales.loc[re_prompt.index, 'rationales'] = re_prompt.rationales"
   ]
  },
  {
   "cell_type": "code",
   "execution_count": 331,
   "metadata": {},
   "outputs": [
    {
     "data": {
      "text/html": [
       "<div>\n",
       "<style scoped>\n",
       "    .dataframe tbody tr th:only-of-type {\n",
       "        vertical-align: middle;\n",
       "    }\n",
       "\n",
       "    .dataframe tbody tr th {\n",
       "        vertical-align: top;\n",
       "    }\n",
       "\n",
       "    .dataframe thead th {\n",
       "        text-align: right;\n",
       "    }\n",
       "</style>\n",
       "<table border=\"1\" class=\"dataframe\">\n",
       "  <thead>\n",
       "    <tr style=\"text-align: right;\">\n",
       "      <th></th>\n",
       "      <th>question</th>\n",
       "      <th>choices</th>\n",
       "      <th>answer</th>\n",
       "      <th>rationales</th>\n",
       "      <th>split</th>\n",
       "      <th>correct_index</th>\n",
       "      <th>LLM_answer</th>\n",
       "    </tr>\n",
       "  </thead>\n",
       "  <tbody>\n",
       "    <tr>\n",
       "      <th>0</th>\n",
       "      <td>\"There are 10 apples on an apple tree.  Three ...</td>\n",
       "      <td>[park, coloring book, garden center, math prob...</td>\n",
       "      <td>math problem</td>\n",
       "      <td>1. Given the statement \"There are 10 apples on...</td>\n",
       "      <td>1. given the statement \"there are 10 apples on...</td>\n",
       "      <td>{'math problem': 131}</td>\n",
       "      <td>math problem</td>\n",
       "    </tr>\n",
       "    <tr>\n",
       "      <th>1</th>\n",
       "      <td>A John is a bum.  Much like the stereotype, he...</td>\n",
       "      <td>[bus depot, beach, train station, bridge, bridge]</td>\n",
       "      <td>bridge</td>\n",
       "      <td>The correct answer is (C) train station.\\n\\nCo...</td>\n",
       "      <td>is (a) bus depot. thus, the correct answer is...</td>\n",
       "      <td>{'bus depot': 8}</td>\n",
       "      <td>bus depot</td>\n",
       "    </tr>\n",
       "    <tr>\n",
       "      <th>2</th>\n",
       "      <td>A bad person places little value on being hone...</td>\n",
       "      <td>[excellent, upright, premium, competent, sincere]</td>\n",
       "      <td>sincere</td>\n",
       "      <td>Answer: The correct answer is (E) sincere.\\n\\n...</td>\n",
       "      <td>is (b) upright. thus, the correct answer is (...</td>\n",
       "      <td>{'upright': 8}</td>\n",
       "      <td>upright</td>\n",
       "    </tr>\n",
       "    <tr>\n",
       "      <th>3</th>\n",
       "      <td>A bald eagle flies over St. Paul, where is it?</td>\n",
       "      <td>[texas, thermal, minnesota, canada, photograph]</td>\n",
       "      <td>minnesota</td>\n",
       "      <td>4. The statement mentions a bald eagle flying ...</td>\n",
       "      <td>is (c) minnesota. thus, the correct answer is...</td>\n",
       "      <td>{'minnesota': 8}</td>\n",
       "      <td>minnesota</td>\n",
       "    </tr>\n",
       "    <tr>\n",
       "      <th>4</th>\n",
       "      <td>A battleship is a powerful vessel.  If you nee...</td>\n",
       "      <td>[yatch, corvette, aircraft carrier, destroyer,...</td>\n",
       "      <td>corvette</td>\n",
       "      <td>Answer: The correct answer is (D) destroyer.\\n...</td>\n",
       "      <td>is (d) destroyer, as destroyers are known for...</td>\n",
       "      <td>{'destroyer': 8}</td>\n",
       "      <td>destroyer</td>\n",
       "    </tr>\n",
       "    <tr>\n",
       "      <th>...</th>\n",
       "      <td>...</td>\n",
       "      <td>...</td>\n",
       "      <td>...</td>\n",
       "      <td>...</td>\n",
       "      <td>...</td>\n",
       "      <td>...</td>\n",
       "      <td>...</td>\n",
       "    </tr>\n",
       "    <tr>\n",
       "      <th>10957</th>\n",
       "      <td>what does someone have that causes them commit...</td>\n",
       "      <td>[problems, distress, fear, go to jail, killer]</td>\n",
       "      <td>problems</td>\n",
       "      <td>8. Given the question 'what does someone have ...</td>\n",
       "      <td>8. given the question 'what does someone have ...</td>\n",
       "      <td>{'problems': 110, 'distress': 227, 'fear': 237...</td>\n",
       "      <td>problems</td>\n",
       "    </tr>\n",
       "    <tr>\n",
       "      <th>10958</th>\n",
       "      <td>what is printed with ink and distributed daily?</td>\n",
       "      <td>[fountain pen, squid, newspaper, book, printer]</td>\n",
       "      <td>newspaper</td>\n",
       "      <td>9. Given the question 'what is printed with in...</td>\n",
       "      <td>9. given the question 'what is printed with in...</td>\n",
       "      <td>{'fountain pen': 195, 'squid': 209, 'newspaper...</td>\n",
       "      <td>newspaper</td>\n",
       "    </tr>\n",
       "    <tr>\n",
       "      <th>10959</th>\n",
       "      <td>when communicating with my boss what should i do</td>\n",
       "      <td>[misunderstandings, transfer of information, l...</td>\n",
       "      <td>transfer of information</td>\n",
       "      <td>10. Given the question 'when communicating wit...</td>\n",
       "      <td>10. given the question 'when communicating wit...</td>\n",
       "      <td>{'misunderstandings': 238, 'transfer of inform...</td>\n",
       "      <td>transfer of information</td>\n",
       "    </tr>\n",
       "    <tr>\n",
       "      <th>10960</th>\n",
       "      <td>where is a good place to obtain new soap?</td>\n",
       "      <td>[supermarket, washing, cabinet, own home, sink]</td>\n",
       "      <td>supermarket</td>\n",
       "      <td>Answer: (A) Supermarket\\n\\nReasoning: A good p...</td>\n",
       "      <td>answer: (a) supermarket\\n\\nreasoning: a good p...</td>\n",
       "      <td>{'supermarket': 12, 'washing': 228, 'cabinet':...</td>\n",
       "      <td>supermarket</td>\n",
       "    </tr>\n",
       "    <tr>\n",
       "      <th>10961</th>\n",
       "      <td>where is seaweed from?</td>\n",
       "      <td>[beach, sea, ocean, water, sea plant]</td>\n",
       "      <td>ocean</td>\n",
       "      <td>Answer: (B) Sea\\n\\nReasoning: Seaweed is typic...</td>\n",
       "      <td>answer: (b) sea\\n\\nreasoning: seaweed is typic...</td>\n",
       "      <td>{'beach': 168, 'sea': 12, 'ocean': 179, 'water...</td>\n",
       "      <td>sea</td>\n",
       "    </tr>\n",
       "  </tbody>\n",
       "</table>\n",
       "<p>10962 rows × 7 columns</p>\n",
       "</div>"
      ],
      "text/plain": [
       "                                                question  \\\n",
       "0      \"There are 10 apples on an apple tree.  Three ...   \n",
       "1      A John is a bum.  Much like the stereotype, he...   \n",
       "2      A bad person places little value on being hone...   \n",
       "3         A bald eagle flies over St. Paul, where is it?   \n",
       "4      A battleship is a powerful vessel.  If you nee...   \n",
       "...                                                  ...   \n",
       "10957  what does someone have that causes them commit...   \n",
       "10958    what is printed with ink and distributed daily?   \n",
       "10959   when communicating with my boss what should i do   \n",
       "10960          where is a good place to obtain new soap?   \n",
       "10961                             where is seaweed from?   \n",
       "\n",
       "                                                 choices  \\\n",
       "0      [park, coloring book, garden center, math prob...   \n",
       "1      [bus depot, beach, train station, bridge, bridge]   \n",
       "2      [excellent, upright, premium, competent, sincere]   \n",
       "3        [texas, thermal, minnesota, canada, photograph]   \n",
       "4      [yatch, corvette, aircraft carrier, destroyer,...   \n",
       "...                                                  ...   \n",
       "10957     [problems, distress, fear, go to jail, killer]   \n",
       "10958    [fountain pen, squid, newspaper, book, printer]   \n",
       "10959  [misunderstandings, transfer of information, l...   \n",
       "10960    [supermarket, washing, cabinet, own home, sink]   \n",
       "10961              [beach, sea, ocean, water, sea plant]   \n",
       "\n",
       "                        answer  \\\n",
       "0                 math problem   \n",
       "1                       bridge   \n",
       "2                      sincere   \n",
       "3                    minnesota   \n",
       "4                     corvette   \n",
       "...                        ...   \n",
       "10957                 problems   \n",
       "10958                newspaper   \n",
       "10959  transfer of information   \n",
       "10960              supermarket   \n",
       "10961                    ocean   \n",
       "\n",
       "                                              rationales  \\\n",
       "0      1. Given the statement \"There are 10 apples on...   \n",
       "1      The correct answer is (C) train station.\\n\\nCo...   \n",
       "2      Answer: The correct answer is (E) sincere.\\n\\n...   \n",
       "3      4. The statement mentions a bald eagle flying ...   \n",
       "4      Answer: The correct answer is (D) destroyer.\\n...   \n",
       "...                                                  ...   \n",
       "10957  8. Given the question 'what does someone have ...   \n",
       "10958  9. Given the question 'what is printed with in...   \n",
       "10959  10. Given the question 'when communicating wit...   \n",
       "10960  Answer: (A) Supermarket\\n\\nReasoning: A good p...   \n",
       "10961  Answer: (B) Sea\\n\\nReasoning: Seaweed is typic...   \n",
       "\n",
       "                                                   split  \\\n",
       "0      1. given the statement \"there are 10 apples on...   \n",
       "1       is (a) bus depot. thus, the correct answer is...   \n",
       "2       is (b) upright. thus, the correct answer is (...   \n",
       "3       is (c) minnesota. thus, the correct answer is...   \n",
       "4       is (d) destroyer, as destroyers are known for...   \n",
       "...                                                  ...   \n",
       "10957  8. given the question 'what does someone have ...   \n",
       "10958  9. given the question 'what is printed with in...   \n",
       "10959  10. given the question 'when communicating wit...   \n",
       "10960  answer: (a) supermarket\\n\\nreasoning: a good p...   \n",
       "10961  answer: (b) sea\\n\\nreasoning: seaweed is typic...   \n",
       "\n",
       "                                           correct_index  \\\n",
       "0                                  {'math problem': 131}   \n",
       "1                                       {'bus depot': 8}   \n",
       "2                                         {'upright': 8}   \n",
       "3                                       {'minnesota': 8}   \n",
       "4                                       {'destroyer': 8}   \n",
       "...                                                  ...   \n",
       "10957  {'problems': 110, 'distress': 227, 'fear': 237...   \n",
       "10958  {'fountain pen': 195, 'squid': 209, 'newspaper...   \n",
       "10959  {'misunderstandings': 238, 'transfer of inform...   \n",
       "10960  {'supermarket': 12, 'washing': 228, 'cabinet':...   \n",
       "10961  {'beach': 168, 'sea': 12, 'ocean': 179, 'water...   \n",
       "\n",
       "                    LLM_answer  \n",
       "0                 math problem  \n",
       "1                    bus depot  \n",
       "2                      upright  \n",
       "3                    minnesota  \n",
       "4                    destroyer  \n",
       "...                        ...  \n",
       "10957                 problems  \n",
       "10958                newspaper  \n",
       "10959  transfer of information  \n",
       "10960              supermarket  \n",
       "10961                      sea  \n",
       "\n",
       "[10962 rows x 7 columns]"
      ]
     },
     "execution_count": 331,
     "metadata": {},
     "output_type": "execute_result"
    }
   ],
   "source": [
    "rationales"
   ]
  },
  {
   "cell_type": "code",
   "execution_count": 321,
   "metadata": {},
   "outputs": [
    {
     "data": {
      "text/plain": [
       "0.6472359058565955"
      ]
     },
     "execution_count": 321,
     "metadata": {},
     "output_type": "execute_result"
    }
   ],
   "source": [
    "(sum(rationales.LLM_answer == rationales.answer)) / len(rationales)"
   ]
  }
 ],
 "metadata": {
  "kernelspec": {
   "display_name": "huy",
   "language": "python",
   "name": "python3"
  },
  "language_info": {
   "codemirror_mode": {
    "name": "ipython",
    "version": 3
   },
   "file_extension": ".py",
   "mimetype": "text/x-python",
   "name": "python",
   "nbconvert_exporter": "python",
   "pygments_lexer": "ipython3",
   "version": "3.8.16"
  },
  "orig_nbformat": 4
 },
 "nbformat": 4,
 "nbformat_minor": 2
}
