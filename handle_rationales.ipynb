{
 "cells": [
  {
   "cell_type": "code",
   "execution_count": 206,
   "metadata": {},
   "outputs": [],
   "source": [
    "import pandas as pd"
   ]
  },
  {
   "cell_type": "code",
   "execution_count": 207,
   "metadata": {},
   "outputs": [],
   "source": [
    "rationales = pd.read_excel('/home/huy/Desktop/HCMUS/distilling-step-by-step/[API] RATIONALES/Contrastive (1).xlsx', index_col=0)"
   ]
  },
  {
   "cell_type": "code",
   "execution_count": 208,
   "metadata": {},
   "outputs": [
    {
     "data": {
      "text/plain": [
       "['6. the most likely answer is (e) gather flowers because if a child is in a meadow in spring, they might engage in activities like picking or gathering flowers. the other choices (clean room, set table, play with toys, form opinions) are either unrelated or not specific to being in a meadow.']"
      ]
     },
     "execution_count": 208,
     "metadata": {},
     "output_type": "execute_result"
    }
   ],
   "source": [
    "rationales.rationales[15].lower().split('most likely answer: ')"
   ]
  },
  {
   "cell_type": "code",
   "execution_count": 209,
   "metadata": {},
   "outputs": [],
   "source": [
    "rationales['split'] = rationales.rationales.apply(lambda x: x.lower().split('most likely answer'))"
   ]
  },
  {
   "cell_type": "code",
   "execution_count": 210,
   "metadata": {},
   "outputs": [],
   "source": [
    "rationales.split = rationales.split.apply(lambda x : x[1] if len(x) > 1 else x[0])"
   ]
  },
  {
   "cell_type": "code",
   "execution_count": 211,
   "metadata": {},
   "outputs": [],
   "source": [
    "import ast\n",
    "\n",
    "# convert choices to list\n",
    "rationales['choices'] = rationales.choices.apply(lambda x: ast.literal_eval(x))"
   ]
  },
  {
   "cell_type": "code",
   "execution_count": 212,
   "metadata": {},
   "outputs": [],
   "source": [
    "# get the index of the correct answer\n",
    "import numpy as np\n",
    "rationales['correct_index'] = [{} for _ in range(len(rationales))]\n",
    "for index, row in rationales.iterrows():\n",
    "    for choice in row['choices']:\n",
    "        if choice in row['split']:\n",
    "            row['correct_index'][choice] = row['split'].index(choice)"
   ]
  },
  {
   "cell_type": "code",
   "execution_count": 213,
   "metadata": {},
   "outputs": [],
   "source": [
    "# get the key of value min\n",
    "rationales['LLM_answer'] =rationales.correct_index.apply(lambda x: min(x, key=x.get) if len(x) > 0 else np.nan)"
   ]
  },
  {
   "cell_type": "code",
   "execution_count": 214,
   "metadata": {},
   "outputs": [
    {
     "data": {
      "text/html": [
       "<div>\n",
       "<style scoped>\n",
       "    .dataframe tbody tr th:only-of-type {\n",
       "        vertical-align: middle;\n",
       "    }\n",
       "\n",
       "    .dataframe tbody tr th {\n",
       "        vertical-align: top;\n",
       "    }\n",
       "\n",
       "    .dataframe thead th {\n",
       "        text-align: right;\n",
       "    }\n",
       "</style>\n",
       "<table border=\"1\" class=\"dataframe\">\n",
       "  <thead>\n",
       "    <tr style=\"text-align: right;\">\n",
       "      <th></th>\n",
       "      <th>question</th>\n",
       "      <th>choices</th>\n",
       "      <th>answer</th>\n",
       "      <th>rationales</th>\n",
       "      <th>split</th>\n",
       "      <th>correct_index</th>\n",
       "      <th>LLM_answer</th>\n",
       "    </tr>\n",
       "  </thead>\n",
       "  <tbody>\n",
       "    <tr>\n",
       "      <th>182</th>\n",
       "      <td>After the guilty verdict in the killing the ju...</td>\n",
       "      <td>[wrong, death of, bad, negative, evil]</td>\n",
       "      <td>evil</td>\n",
       "      <td>3. After the guilty verdict in the killing, th...</td>\n",
       "      <td>because it reflects the severe judgment and c...</td>\n",
       "      <td>{}</td>\n",
       "      <td>NaN</td>\n",
       "    </tr>\n",
       "    <tr>\n",
       "      <th>183</th>\n",
       "      <td>After the guy is successful in cashing in his ...</td>\n",
       "      <td>[sad, quitting, extra money, great joy, leave]</td>\n",
       "      <td>great joy</td>\n",
       "      <td>4. After the guy is successful in cashing in h...</td>\n",
       "      <td>because it is a common emotional response to ...</td>\n",
       "      <td>{}</td>\n",
       "      <td>NaN</td>\n",
       "    </tr>\n",
       "    <tr>\n",
       "      <th>185</th>\n",
       "      <td>After the lunch break, what did the men resume...</td>\n",
       "      <td>[working, fix it, accelerate, putting together...</td>\n",
       "      <td>working</td>\n",
       "      <td>6. After the lunch break, the men resumed (A) ...</td>\n",
       "      <td>because it is a common activity one would ret...</td>\n",
       "      <td>{}</td>\n",
       "      <td>NaN</td>\n",
       "    </tr>\n",
       "    <tr>\n",
       "      <th>278</th>\n",
       "      <td>Bill was awaking, what was happening to him ph...</td>\n",
       "      <td>[tiredness, grogginess, discomfort, getting ou...</td>\n",
       "      <td>eyes opening</td>\n",
       "      <td>9. (E) eyes opening: The question asks what is...</td>\n",
       "      <td>is that his eyes are opening.</td>\n",
       "      <td>{}</td>\n",
       "      <td>NaN</td>\n",
       "    </tr>\n",
       "    <tr>\n",
       "      <th>340</th>\n",
       "      <td>By laughing while playing, what were the child...</td>\n",
       "      <td>[learning, getting tired, injuries, having fun...</td>\n",
       "      <td>having fun</td>\n",
       "      <td>1. (D) having fun: The fact that the children ...</td>\n",
       "      <td>because it directly aligns with the behavior ...</td>\n",
       "      <td>{}</td>\n",
       "      <td>NaN</td>\n",
       "    </tr>\n",
       "  </tbody>\n",
       "</table>\n",
       "</div>"
      ],
      "text/plain": [
       "                                              question  \\\n",
       "182  After the guilty verdict in the killing the ju...   \n",
       "183  After the guy is successful in cashing in his ...   \n",
       "185  After the lunch break, what did the men resume...   \n",
       "278  Bill was awaking, what was happening to him ph...   \n",
       "340  By laughing while playing, what were the child...   \n",
       "\n",
       "                                               choices        answer  \\\n",
       "182             [wrong, death of, bad, negative, evil]          evil   \n",
       "183     [sad, quitting, extra money, great joy, leave]     great joy   \n",
       "185  [working, fix it, accelerate, putting together...       working   \n",
       "278  [tiredness, grogginess, discomfort, getting ou...  eyes opening   \n",
       "340  [learning, getting tired, injuries, having fun...    having fun   \n",
       "\n",
       "                                            rationales  \\\n",
       "182  3. After the guilty verdict in the killing, th...   \n",
       "183  4. After the guy is successful in cashing in h...   \n",
       "185  6. After the lunch break, the men resumed (A) ...   \n",
       "278  9. (E) eyes opening: The question asks what is...   \n",
       "340  1. (D) having fun: The fact that the children ...   \n",
       "\n",
       "                                                 split correct_index  \\\n",
       "182   because it reflects the severe judgment and c...            {}   \n",
       "183   because it is a common emotional response to ...            {}   \n",
       "185   because it is a common activity one would ret...            {}   \n",
       "278                      is that his eyes are opening.            {}   \n",
       "340   because it directly aligns with the behavior ...            {}   \n",
       "\n",
       "    LLM_answer  \n",
       "182        NaN  \n",
       "183        NaN  \n",
       "185        NaN  \n",
       "278        NaN  \n",
       "340        NaN  "
      ]
     },
     "execution_count": 214,
     "metadata": {},
     "output_type": "execute_result"
    }
   ],
   "source": [
    "# HANDLE EXCEPTION\n",
    "error = rationales[rationales.LLM_answer.isna()]\n",
    "error.head(5)"
   ]
  },
  {
   "cell_type": "code",
   "execution_count": 215,
   "metadata": {},
   "outputs": [
    {
     "name": "stderr",
     "output_type": "stream",
     "text": [
      "<ipython-input-215-25441d68bc9a>:3: SettingWithCopyWarning: \n",
      "A value is trying to be set on a copy of a slice from a DataFrame.\n",
      "Try using .loc[row_indexer,col_indexer] = value instead\n",
      "\n",
      "See the caveats in the documentation: https://pandas.pydata.org/pandas-docs/stable/user_guide/indexing.html#returning-a-view-versus-a-copy\n",
      "  error['correct_index'] = [{} for _ in range(len(error))]\n"
     ]
    }
   ],
   "source": [
    "# get the index of the correct answer\n",
    "import numpy as np\n",
    "error['correct_index'] = [{} for _ in range(len(error))]\n",
    "for index, row in error.iterrows():\n",
    "    for choice in row['choices']:\n",
    "        if choice in row['rationales']:\n",
    "            row['correct_index'][choice] = row['rationales'].index(choice)"
   ]
  },
  {
   "cell_type": "code",
   "execution_count": 216,
   "metadata": {},
   "outputs": [
    {
     "name": "stderr",
     "output_type": "stream",
     "text": [
      "<ipython-input-216-1f6358438110>:2: SettingWithCopyWarning: \n",
      "A value is trying to be set on a copy of a slice from a DataFrame.\n",
      "Try using .loc[row_indexer,col_indexer] = value instead\n",
      "\n",
      "See the caveats in the documentation: https://pandas.pydata.org/pandas-docs/stable/user_guide/indexing.html#returning-a-view-versus-a-copy\n",
      "  error['LLM_answer'] = error.correct_index.apply(lambda x: min(x, key=x.get) if len(x) > 0 else np.nan)\n"
     ]
    }
   ],
   "source": [
    "# get the key of value min\n",
    "error['LLM_answer'] = error.correct_index.apply(lambda x: min(x, key=x.get) if len(x) > 0 else np.nan)"
   ]
  },
  {
   "cell_type": "code",
   "execution_count": 217,
   "metadata": {},
   "outputs": [
    {
     "name": "stdout",
     "output_type": "stream",
     "text": [
      "Series([], Name: question, dtype: object)\n"
     ]
    }
   ],
   "source": [
    "print(error[error.LLM_answer.isna()].question)"
   ]
  },
  {
   "cell_type": "code",
   "execution_count": 220,
   "metadata": {},
   "outputs": [],
   "source": [
    "rationales.LLM_answer = rationales.LLM_answer.fillna(error.LLM_answer)"
   ]
  },
  {
   "cell_type": "code",
   "execution_count": 224,
   "metadata": {},
   "outputs": [
    {
     "data": {
      "text/plain": [
       "0.7416529830322933"
      ]
     },
     "execution_count": 224,
     "metadata": {},
     "output_type": "execute_result"
    }
   ],
   "source": [
    "(sum(rationales.LLM_answer == rationales.answer)) / len(rationales)"
   ]
  }
 ],
 "metadata": {
  "kernelspec": {
   "display_name": "huy",
   "language": "python",
   "name": "python3"
  },
  "language_info": {
   "codemirror_mode": {
    "name": "ipython",
    "version": 3
   },
   "file_extension": ".py",
   "mimetype": "text/x-python",
   "name": "python",
   "nbconvert_exporter": "python",
   "pygments_lexer": "ipython3",
   "version": "3.8.16"
  },
  "orig_nbformat": 4
 },
 "nbformat": 4,
 "nbformat_minor": 2
}
