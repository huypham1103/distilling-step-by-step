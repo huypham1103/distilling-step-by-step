{
 "cells": [
  {
   "cell_type": "code",
   "execution_count": 40,
   "metadata": {},
   "outputs": [],
   "source": [
    "import pandas as pd"
   ]
  },
  {
   "cell_type": "code",
   "execution_count": 41,
   "metadata": {},
   "outputs": [],
   "source": [
    "rationales = pd.read_excel('/home/huy/Desktop/HCMUS/distilling-step-by-step/[API] RATIONALES/Contrastive (1).xlsx', index_col=0)"
   ]
  },
  {
   "cell_type": "code",
   "execution_count": 42,
   "metadata": {},
   "outputs": [
    {
     "data": {
      "text/plain": [
       "['6. the most likely answer is (e) gather flowers because if a child is in a meadow in spring, they might engage in activities like picking or gathering flowers. the other choices (clean room, set table, play with toys, form opinions) are either unrelated or not specific to being in a meadow.']"
      ]
     },
     "execution_count": 42,
     "metadata": {},
     "output_type": "execute_result"
    }
   ],
   "source": [
    "rationales.rationales[15].lower().split('most likely answer: ')"
   ]
  },
  {
   "cell_type": "code",
   "execution_count": 43,
   "metadata": {},
   "outputs": [],
   "source": [
    "rationales['split'] = rationales.rationales.apply(lambda x: x.lower().split('most likely answer'))"
   ]
  },
  {
   "cell_type": "code",
   "execution_count": 44,
   "metadata": {},
   "outputs": [],
   "source": [
    "rationales.split = rationales.split.apply(lambda x : x[1] if len(x) > 1 else x[0])"
   ]
  },
  {
   "cell_type": "code",
   "execution_count": 45,
   "metadata": {},
   "outputs": [],
   "source": [
    "import ast\n",
    "\n",
    "# convert choices to list\n",
    "rationales['choices'] = rationales.choices.apply(lambda x: ast.literal_eval(x))"
   ]
  },
  {
   "cell_type": "code",
   "execution_count": 46,
   "metadata": {},
   "outputs": [],
   "source": [
    "# get the index of the correct answer\n",
    "import numpy as np\n",
    "rationales['correct_index'] = [{} for _ in range(len(rationales))]\n",
    "for index, row in rationales.iterrows():\n",
    "    for choice in row['choices']:\n",
    "        if choice in row['split']:\n",
    "            row['correct_index'][choice] = row['split'].index(choice)"
   ]
  },
  {
   "cell_type": "code",
   "execution_count": 47,
   "metadata": {},
   "outputs": [],
   "source": [
    "# get the key of value min\n",
    "rationales['LLM_answer'] =rationales.correct_index.apply(lambda x: min(x, key=x.get) if len(x) > 0 else np.nan)"
   ]
  },
  {
   "cell_type": "code",
   "execution_count": 48,
   "metadata": {},
   "outputs": [
    {
     "data": {
      "text/html": [
       "<div>\n",
       "<style scoped>\n",
       "    .dataframe tbody tr th:only-of-type {\n",
       "        vertical-align: middle;\n",
       "    }\n",
       "\n",
       "    .dataframe tbody tr th {\n",
       "        vertical-align: top;\n",
       "    }\n",
       "\n",
       "    .dataframe thead th {\n",
       "        text-align: right;\n",
       "    }\n",
       "</style>\n",
       "<table border=\"1\" class=\"dataframe\">\n",
       "  <thead>\n",
       "    <tr style=\"text-align: right;\">\n",
       "      <th></th>\n",
       "      <th>question</th>\n",
       "      <th>choices</th>\n",
       "      <th>answer</th>\n",
       "      <th>rationales</th>\n",
       "      <th>split</th>\n",
       "      <th>correct_index</th>\n",
       "      <th>LLM_answer</th>\n",
       "    </tr>\n",
       "  </thead>\n",
       "  <tbody>\n",
       "    <tr>\n",
       "      <th>182</th>\n",
       "      <td>After the guilty verdict in the killing the ju...</td>\n",
       "      <td>[wrong, death of, bad, negative, evil]</td>\n",
       "      <td>evil</td>\n",
       "      <td>3. After the guilty verdict in the killing, th...</td>\n",
       "      <td>because it reflects the severe judgment and c...</td>\n",
       "      <td>{}</td>\n",
       "      <td>NaN</td>\n",
       "    </tr>\n",
       "    <tr>\n",
       "      <th>183</th>\n",
       "      <td>After the guy is successful in cashing in his ...</td>\n",
       "      <td>[sad, quitting, extra money, great joy, leave]</td>\n",
       "      <td>great joy</td>\n",
       "      <td>4. After the guy is successful in cashing in h...</td>\n",
       "      <td>because it is a common emotional response to ...</td>\n",
       "      <td>{}</td>\n",
       "      <td>NaN</td>\n",
       "    </tr>\n",
       "    <tr>\n",
       "      <th>185</th>\n",
       "      <td>After the lunch break, what did the men resume...</td>\n",
       "      <td>[working, fix it, accelerate, putting together...</td>\n",
       "      <td>working</td>\n",
       "      <td>6. After the lunch break, the men resumed (A) ...</td>\n",
       "      <td>because it is a common activity one would ret...</td>\n",
       "      <td>{}</td>\n",
       "      <td>NaN</td>\n",
       "    </tr>\n",
       "    <tr>\n",
       "      <th>278</th>\n",
       "      <td>Bill was awaking, what was happening to him ph...</td>\n",
       "      <td>[tiredness, grogginess, discomfort, getting ou...</td>\n",
       "      <td>eyes opening</td>\n",
       "      <td>9. (E) eyes opening: The question asks what is...</td>\n",
       "      <td>is that his eyes are opening.</td>\n",
       "      <td>{}</td>\n",
       "      <td>NaN</td>\n",
       "    </tr>\n",
       "    <tr>\n",
       "      <th>340</th>\n",
       "      <td>By laughing while playing, what were the child...</td>\n",
       "      <td>[learning, getting tired, injuries, having fun...</td>\n",
       "      <td>having fun</td>\n",
       "      <td>1. (D) having fun: The fact that the children ...</td>\n",
       "      <td>because it directly aligns with the behavior ...</td>\n",
       "      <td>{}</td>\n",
       "      <td>NaN</td>\n",
       "    </tr>\n",
       "  </tbody>\n",
       "</table>\n",
       "</div>"
      ],
      "text/plain": [
       "                                              question  \\\n",
       "182  After the guilty verdict in the killing the ju...   \n",
       "183  After the guy is successful in cashing in his ...   \n",
       "185  After the lunch break, what did the men resume...   \n",
       "278  Bill was awaking, what was happening to him ph...   \n",
       "340  By laughing while playing, what were the child...   \n",
       "\n",
       "                                               choices        answer  \\\n",
       "182             [wrong, death of, bad, negative, evil]          evil   \n",
       "183     [sad, quitting, extra money, great joy, leave]     great joy   \n",
       "185  [working, fix it, accelerate, putting together...       working   \n",
       "278  [tiredness, grogginess, discomfort, getting ou...  eyes opening   \n",
       "340  [learning, getting tired, injuries, having fun...    having fun   \n",
       "\n",
       "                                            rationales  \\\n",
       "182  3. After the guilty verdict in the killing, th...   \n",
       "183  4. After the guy is successful in cashing in h...   \n",
       "185  6. After the lunch break, the men resumed (A) ...   \n",
       "278  9. (E) eyes opening: The question asks what is...   \n",
       "340  1. (D) having fun: The fact that the children ...   \n",
       "\n",
       "                                                 split correct_index  \\\n",
       "182   because it reflects the severe judgment and c...            {}   \n",
       "183   because it is a common emotional response to ...            {}   \n",
       "185   because it is a common activity one would ret...            {}   \n",
       "278                      is that his eyes are opening.            {}   \n",
       "340   because it directly aligns with the behavior ...            {}   \n",
       "\n",
       "    LLM_answer  \n",
       "182        NaN  \n",
       "183        NaN  \n",
       "185        NaN  \n",
       "278        NaN  \n",
       "340        NaN  "
      ]
     },
     "execution_count": 48,
     "metadata": {},
     "output_type": "execute_result"
    }
   ],
   "source": [
    "# HANDLE EXCEPTION\n",
    "error = rationales[rationales.LLM_answer.isna()]\n",
    "error.head(5)"
   ]
  },
  {
   "cell_type": "code",
   "execution_count": 49,
   "metadata": {},
   "outputs": [
    {
     "name": "stderr",
     "output_type": "stream",
     "text": [
      "<ipython-input-49-25441d68bc9a>:3: SettingWithCopyWarning: \n",
      "A value is trying to be set on a copy of a slice from a DataFrame.\n",
      "Try using .loc[row_indexer,col_indexer] = value instead\n",
      "\n",
      "See the caveats in the documentation: https://pandas.pydata.org/pandas-docs/stable/user_guide/indexing.html#returning-a-view-versus-a-copy\n",
      "  error['correct_index'] = [{} for _ in range(len(error))]\n"
     ]
    }
   ],
   "source": [
    "# get the index of the correct answer\n",
    "import numpy as np\n",
    "error['correct_index'] = [{} for _ in range(len(error))]\n",
    "for index, row in error.iterrows():\n",
    "    for choice in row['choices']:\n",
    "        if choice in row['rationales']:\n",
    "            row['correct_index'][choice] = row['rationales'].index(choice)"
   ]
  },
  {
   "cell_type": "code",
   "execution_count": 50,
   "metadata": {},
   "outputs": [
    {
     "name": "stderr",
     "output_type": "stream",
     "text": [
      "<ipython-input-50-1f6358438110>:2: SettingWithCopyWarning: \n",
      "A value is trying to be set on a copy of a slice from a DataFrame.\n",
      "Try using .loc[row_indexer,col_indexer] = value instead\n",
      "\n",
      "See the caveats in the documentation: https://pandas.pydata.org/pandas-docs/stable/user_guide/indexing.html#returning-a-view-versus-a-copy\n",
      "  error['LLM_answer'] = error.correct_index.apply(lambda x: min(x, key=x.get) if len(x) > 0 else np.nan)\n"
     ]
    }
   ],
   "source": [
    "# get the key of value min\n",
    "error['LLM_answer'] = error.correct_index.apply(lambda x: min(x, key=x.get) if len(x) > 0 else np.nan)"
   ]
  },
  {
   "cell_type": "code",
   "execution_count": 51,
   "metadata": {},
   "outputs": [
    {
     "name": "stdout",
     "output_type": "stream",
     "text": [
      "Series([], Name: question, dtype: object)\n"
     ]
    }
   ],
   "source": [
    "print(error[error.LLM_answer.isna()].question)"
   ]
  },
  {
   "cell_type": "code",
   "execution_count": 52,
   "metadata": {},
   "outputs": [],
   "source": [
    "rationales.LLM_answer = rationales.LLM_answer.fillna(error.LLM_answer)"
   ]
  },
  {
   "cell_type": "code",
   "execution_count": 53,
   "metadata": {},
   "outputs": [
    {
     "data": {
      "text/plain": [
       "0.7416529830322933"
      ]
     },
     "execution_count": 53,
     "metadata": {},
     "output_type": "execute_result"
    }
   ],
   "source": [
    "(sum(rationales.LLM_answer == rationales.answer)) / len(rationales)"
   ]
  },
  {
   "cell_type": "code",
   "execution_count": 54,
   "metadata": {},
   "outputs": [],
   "source": [
    "main = pd.read_csv('/home/huy/Desktop/HCMUS/total.csv', index_col=0)"
   ]
  },
  {
   "cell_type": "code",
   "execution_count": 55,
   "metadata": {},
   "outputs": [
    {
     "data": {
      "text/html": [
       "<div>\n",
       "<style scoped>\n",
       "    .dataframe tbody tr th:only-of-type {\n",
       "        vertical-align: middle;\n",
       "    }\n",
       "\n",
       "    .dataframe tbody tr th {\n",
       "        vertical-align: top;\n",
       "    }\n",
       "\n",
       "    .dataframe thead th {\n",
       "        text-align: right;\n",
       "    }\n",
       "</style>\n",
       "<table border=\"1\" class=\"dataframe\">\n",
       "  <thead>\n",
       "    <tr style=\"text-align: right;\">\n",
       "      <th></th>\n",
       "      <th>question</th>\n",
       "      <th>choices</th>\n",
       "      <th>answer</th>\n",
       "      <th>rationales</th>\n",
       "      <th>split</th>\n",
       "      <th>correct_index</th>\n",
       "      <th>LLM_answer</th>\n",
       "    </tr>\n",
       "  </thead>\n",
       "  <tbody>\n",
       "    <tr>\n",
       "      <th>0</th>\n",
       "      <td>\"There are 10 apples on an apple tree.  Three ...</td>\n",
       "      <td>[park, coloring book, garden center, math prob...</td>\n",
       "      <td>math problem</td>\n",
       "      <td>1.\\nMost likely answer: (D) math problem\\nThis...</td>\n",
       "      <td>: (d) math problem\\nthis is the</td>\n",
       "      <td>{'math problem': 6}</td>\n",
       "      <td>math problem</td>\n",
       "    </tr>\n",
       "    <tr>\n",
       "      <th>1</th>\n",
       "      <td>A John is a bum.  Much like the stereotype, he...</td>\n",
       "      <td>[bus depot, beach, train station, bridge, bridge]</td>\n",
       "      <td>bridge</td>\n",
       "      <td>2.\\nMost likely answer: (A) bus depot\\nThis is...</td>\n",
       "      <td>: (a) bus depot\\nthis is the</td>\n",
       "      <td>{'bus depot': 6}</td>\n",
       "      <td>bus depot</td>\n",
       "    </tr>\n",
       "    <tr>\n",
       "      <th>2</th>\n",
       "      <td>A bad person places little value on being hone...</td>\n",
       "      <td>[excellent, upright, premium, competent, sincere]</td>\n",
       "      <td>sincere</td>\n",
       "      <td>3.\\nMost likely answer: (B) upright\\nThis is t...</td>\n",
       "      <td>: (b) upright\\nthis is the</td>\n",
       "      <td>{'upright': 6}</td>\n",
       "      <td>upright</td>\n",
       "    </tr>\n",
       "    <tr>\n",
       "      <th>3</th>\n",
       "      <td>A bald eagle flies over St. Paul, where is it?</td>\n",
       "      <td>[texas, thermal, minnesota, canada, photograph]</td>\n",
       "      <td>minnesota</td>\n",
       "      <td>4. \\nMost likely answer: (C) minnesota\\nThis i...</td>\n",
       "      <td>: (c) minnesota\\nthis is the</td>\n",
       "      <td>{'minnesota': 6}</td>\n",
       "      <td>minnesota</td>\n",
       "    </tr>\n",
       "    <tr>\n",
       "      <th>4</th>\n",
       "      <td>A battleship is a powerful vessel.  If you nee...</td>\n",
       "      <td>[yatch, corvette, aircraft carrier, destroyer,...</td>\n",
       "      <td>corvette</td>\n",
       "      <td>5. \\nMost likely answer: (D) destroyer\\nThis i...</td>\n",
       "      <td>: (d) destroyer\\nthis is the</td>\n",
       "      <td>{'destroyer': 6}</td>\n",
       "      <td>destroyer</td>\n",
       "    </tr>\n",
       "    <tr>\n",
       "      <th>...</th>\n",
       "      <td>...</td>\n",
       "      <td>...</td>\n",
       "      <td>...</td>\n",
       "      <td>...</td>\n",
       "      <td>...</td>\n",
       "      <td>...</td>\n",
       "      <td>...</td>\n",
       "    </tr>\n",
       "    <tr>\n",
       "      <th>10957</th>\n",
       "      <td>what does someone have that causes them commit...</td>\n",
       "      <td>[problems, distress, fear, go to jail, killer]</td>\n",
       "      <td>problems</td>\n",
       "      <td>8. The most likely answer is (E) killer. This ...</td>\n",
       "      <td>is (e) killer. this is because someone who co...</td>\n",
       "      <td>{'killer': 8}</td>\n",
       "      <td>killer</td>\n",
       "    </tr>\n",
       "    <tr>\n",
       "      <th>10958</th>\n",
       "      <td>what is printed with ink and distributed daily?</td>\n",
       "      <td>[fountain pen, squid, newspaper, book, printer]</td>\n",
       "      <td>newspaper</td>\n",
       "      <td>9. The most likely answer is (C) newspaper. Th...</td>\n",
       "      <td>is (c) newspaper. this is because newspapers ...</td>\n",
       "      <td>{'newspaper': 8}</td>\n",
       "      <td>newspaper</td>\n",
       "    </tr>\n",
       "    <tr>\n",
       "      <th>10959</th>\n",
       "      <td>when communicating with my boss what should i do</td>\n",
       "      <td>[misunderstandings, transfer of information, l...</td>\n",
       "      <td>transfer of information</td>\n",
       "      <td>10. The most likely answer is (B) transfer of ...</td>\n",
       "      <td>is (b) transfer of information. this is becau...</td>\n",
       "      <td>{'transfer of information': 8}</td>\n",
       "      <td>transfer of information</td>\n",
       "    </tr>\n",
       "    <tr>\n",
       "      <th>10960</th>\n",
       "      <td>where is a good place to obtain new soap?</td>\n",
       "      <td>[supermarket, washing, cabinet, own home, sink]</td>\n",
       "      <td>supermarket</td>\n",
       "      <td>The most likely answer would be (A) supermarke...</td>\n",
       "      <td>would be (a) supermarket. this is because sup...</td>\n",
       "      <td>{'supermarket': 14, 'washing': 290, 'cabinet':...</td>\n",
       "      <td>supermarket</td>\n",
       "    </tr>\n",
       "    <tr>\n",
       "      <th>10961</th>\n",
       "      <td>where is seaweed from?</td>\n",
       "      <td>[beach, sea, ocean, water, sea plant]</td>\n",
       "      <td>ocean</td>\n",
       "      <td>\"Where is seaweed from?\"\\n\\nMost likely answer...</td>\n",
       "      <td>: (c) ocean\\nexplanation: seaweed originates f...</td>\n",
       "      <td>{'sea': 25, 'ocean': 6}</td>\n",
       "      <td>ocean</td>\n",
       "    </tr>\n",
       "  </tbody>\n",
       "</table>\n",
       "<p>10962 rows × 7 columns</p>\n",
       "</div>"
      ],
      "text/plain": [
       "                                                question  \\\n",
       "0      \"There are 10 apples on an apple tree.  Three ...   \n",
       "1      A John is a bum.  Much like the stereotype, he...   \n",
       "2      A bad person places little value on being hone...   \n",
       "3         A bald eagle flies over St. Paul, where is it?   \n",
       "4      A battleship is a powerful vessel.  If you nee...   \n",
       "...                                                  ...   \n",
       "10957  what does someone have that causes them commit...   \n",
       "10958    what is printed with ink and distributed daily?   \n",
       "10959   when communicating with my boss what should i do   \n",
       "10960          where is a good place to obtain new soap?   \n",
       "10961                             where is seaweed from?   \n",
       "\n",
       "                                                 choices  \\\n",
       "0      [park, coloring book, garden center, math prob...   \n",
       "1      [bus depot, beach, train station, bridge, bridge]   \n",
       "2      [excellent, upright, premium, competent, sincere]   \n",
       "3        [texas, thermal, minnesota, canada, photograph]   \n",
       "4      [yatch, corvette, aircraft carrier, destroyer,...   \n",
       "...                                                  ...   \n",
       "10957     [problems, distress, fear, go to jail, killer]   \n",
       "10958    [fountain pen, squid, newspaper, book, printer]   \n",
       "10959  [misunderstandings, transfer of information, l...   \n",
       "10960    [supermarket, washing, cabinet, own home, sink]   \n",
       "10961              [beach, sea, ocean, water, sea plant]   \n",
       "\n",
       "                        answer  \\\n",
       "0                 math problem   \n",
       "1                       bridge   \n",
       "2                      sincere   \n",
       "3                    minnesota   \n",
       "4                     corvette   \n",
       "...                        ...   \n",
       "10957                 problems   \n",
       "10958                newspaper   \n",
       "10959  transfer of information   \n",
       "10960              supermarket   \n",
       "10961                    ocean   \n",
       "\n",
       "                                              rationales  \\\n",
       "0      1.\\nMost likely answer: (D) math problem\\nThis...   \n",
       "1      2.\\nMost likely answer: (A) bus depot\\nThis is...   \n",
       "2      3.\\nMost likely answer: (B) upright\\nThis is t...   \n",
       "3      4. \\nMost likely answer: (C) minnesota\\nThis i...   \n",
       "4      5. \\nMost likely answer: (D) destroyer\\nThis i...   \n",
       "...                                                  ...   \n",
       "10957  8. The most likely answer is (E) killer. This ...   \n",
       "10958  9. The most likely answer is (C) newspaper. Th...   \n",
       "10959  10. The most likely answer is (B) transfer of ...   \n",
       "10960  The most likely answer would be (A) supermarke...   \n",
       "10961  \"Where is seaweed from?\"\\n\\nMost likely answer...   \n",
       "\n",
       "                                                   split  \\\n",
       "0                       : (d) math problem\\nthis is the    \n",
       "1                          : (a) bus depot\\nthis is the    \n",
       "2                            : (b) upright\\nthis is the    \n",
       "3                          : (c) minnesota\\nthis is the    \n",
       "4                          : (d) destroyer\\nthis is the    \n",
       "...                                                  ...   \n",
       "10957   is (e) killer. this is because someone who co...   \n",
       "10958   is (c) newspaper. this is because newspapers ...   \n",
       "10959   is (b) transfer of information. this is becau...   \n",
       "10960   would be (a) supermarket. this is because sup...   \n",
       "10961  : (c) ocean\\nexplanation: seaweed originates f...   \n",
       "\n",
       "                                           correct_index  \\\n",
       "0                                    {'math problem': 6}   \n",
       "1                                       {'bus depot': 6}   \n",
       "2                                         {'upright': 6}   \n",
       "3                                       {'minnesota': 6}   \n",
       "4                                       {'destroyer': 6}   \n",
       "...                                                  ...   \n",
       "10957                                      {'killer': 8}   \n",
       "10958                                   {'newspaper': 8}   \n",
       "10959                     {'transfer of information': 8}   \n",
       "10960  {'supermarket': 14, 'washing': 290, 'cabinet':...   \n",
       "10961                            {'sea': 25, 'ocean': 6}   \n",
       "\n",
       "                    LLM_answer  \n",
       "0                 math problem  \n",
       "1                    bus depot  \n",
       "2                      upright  \n",
       "3                    minnesota  \n",
       "4                    destroyer  \n",
       "...                        ...  \n",
       "10957                   killer  \n",
       "10958                newspaper  \n",
       "10959  transfer of information  \n",
       "10960              supermarket  \n",
       "10961                    ocean  \n",
       "\n",
       "[10962 rows x 7 columns]"
      ]
     },
     "execution_count": 55,
     "metadata": {},
     "output_type": "execute_result"
    }
   ],
   "source": [
    "rationales"
   ]
  },
  {
   "cell_type": "code",
   "execution_count": 56,
   "metadata": {},
   "outputs": [],
   "source": [
    "main['question'] = main.input.apply(lambda x: x.split('\\n')[0])\n",
    "a = rationales.set_index('question')\n",
    "b = main.set_index('question')"
   ]
  },
  {
   "cell_type": "code",
   "execution_count": 63,
   "metadata": {},
   "outputs": [
    {
     "data": {
      "text/plain": [
       "0.7457580733442802"
      ]
     },
     "execution_count": 63,
     "metadata": {},
     "output_type": "execute_result"
    }
   ],
   "source": [
    "sum(b.loc[a.index]['llm_label'].values == a.answer.values) / len(b)"
   ]
  },
  {
   "cell_type": "code",
   "execution_count": 66,
   "metadata": {},
   "outputs": [],
   "source": [
    "rationales.to_csv('/home/huy/Desktop/HCMUS/distilling-step-by-step/[API] RATIONALES/Contrastive - full.csv')"
   ]
  }
 ],
 "metadata": {
  "kernelspec": {
   "display_name": "huy",
   "language": "python",
   "name": "python3"
  },
  "language_info": {
   "codemirror_mode": {
    "name": "ipython",
    "version": 3
   },
   "file_extension": ".py",
   "mimetype": "text/x-python",
   "name": "python",
   "nbconvert_exporter": "python",
   "pygments_lexer": "ipython3",
   "version": "3.8.16"
  },
  "orig_nbformat": 4
 },
 "nbformat": 4,
 "nbformat_minor": 2
}
